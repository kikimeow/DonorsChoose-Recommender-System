{
 "cells": [
  {
   "cell_type": "markdown",
   "metadata": {},
   "source": [
    "## DonorsChoose- Part 3. Ranking Algorithm & Intuitions"
   ]
  },
  {
   "cell_type": "markdown",
   "metadata": {},
   "source": [
    "#### The purpose of this notebook is to explain the intuition behind the e-mail recommendation system, why the donor's behaviors support this approach, and the performance of the ranking algorithm.  \n",
    "\n",
    "This notebook is Part 3 of 3 notebooks.  Part 1 focuses on Feature Engineering, Part 2 focuses on Data Exploration, and Part 3 focuss on building the recommender system and evaluating the model.  "
   ]
  },
  {
   "cell_type": "markdown",
   "metadata": {},
   "source": [
    "<a href='#1'>1. Introduction</a><br>\n",
    "<a href='#2'>2. Why does the ranking system work?</a><br>\n",
    "<a href='#3'>3. Building the Recommender</a><br>\n",
    "<a href='#4'>4. Example of the Recommender Output</a><br>\n",
    "<a href='#5'>5. Recommender Performance</a><br>\n",
    "<a href='#6'>6. Causes of underformance and how to improve the model?</a><br>\n",
    "<a href='#7'>7. Future Enhancements</a><br>"
   ]
  },
  {
   "cell_type": "markdown",
   "metadata": {},
   "source": [
    "### <a id='1'>1. Introduction</a>"
   ]
  },
  {
   "cell_type": "markdown",
   "metadata": {},
   "source": [
    "#### Background\n",
    "DonorsChoose.org is an organization that helps teachers fundraise for American classrooms.  The goal of the project is to enable DonorsChoose.org to build targeted email campaigns recommending specific classroom requests to prior donors.  The organization has supplied anonymized [data](https://www.kaggle.com/donorschoose/io) on donor giving from the past five years, starting from January 2013 to May 1, 2018.   \n",
    "\n",
    "In Part 1 of the notebooks, features were generated to capture the characteristics regarding the donors, the schools, as well as the projects.  The features related to donors are normalized to reflect an donor's interest relative to the rest of the donors. The project features are one-hot encoded.  A major feature that proved to be very useful is geographic location of the donor and the schools.  A main component of the reommendation algorithm is Geo Search, where possible recommendations are filtered and sorted by distance or around certain geo-locations.\n",
    "\n",
    "#### Recommendation Algorithm\n",
    "The recommendation algorithm is based on a combination of Filtering and Ranking.  Here are the implementation steps:\n",
    "<Br>\n",
    "Prepare Project Features Matrix and Donor Features Matrix\n",
    "\n",
    "1. Generate the Project Features Matrix: The project features are the encodings of the project characteristics, such as the project category, school metro type, project grade level, project resource, the percentage of students receiving free lunch, and etc. Some features are one-hot encoded, and some are binned. There are a total of 71 dimensions. (details are discussed in Part 1 of the Notebooks)\n",
    "\n",
    "2. Generate the Donor Features Matrix: The Donor Features Matrix not only has features that measures the donor's interest in every metrics in the Project Features Matrix, but it includes donation history based features.  Some examples of the donation based features include statistics for the number of carts, projects, schools, & teachers that the the donor had ever donated to, and the distance features between the school location and the donor location.  Additionally, The features in the Donor Features Matrix are normalized either by comparing the donor to the the mean of all the donors, or are based on the percentile ranking against the other donors. There are a total of 96 dimensions.  (details are discussed in Part 1 of the Notebooks)\n",
    "\n",
    "\n",
    "Filtering\n",
    "1. Obtain projects that are eligible for recommendations, which would be projects that are not yet fully funded, and have not expired. We will refer to these projects as the \"Initial Project Universe.\" \n",
    "2. Next, we will narrow down the \"Initial Project Universe.\"  We will refer to the remaining projects as the \"Project Universe.\" The criterias in determining the Project Universe are as follows:\n",
    "    1. Obtain the \"School City, School State\" of the projects that the donor has ever donated to in the past, and filter the \"Initial Project Universe\" by these locations. \n",
    "    2. Obtain projects in the \"Initial Project Universe\" that are located in the donor's \"Donor City, Donor State\".\n",
    "    3. Obtain the \"Teacher IDs\" that the donor has ever donated to in the past, and filter the \"Initial Project Universe\" by these \"Teacher IDs\"<br>\n",
    "    \n",
    "3. The Project Features Matrix that will be used to calculate similarity score between the donor and the projects, will only include the projects obtained above, and these are also the projects that we will rank.\n",
    "\n",
    "Ranking<br>\n",
    "The relevance of a project is based on the following attributes: <br>\n",
    "1. Calculate the Similarity Score between the Project Features Matrix and the corresponding features in the Donor Features Matrix by taking the dot product between the two.\n",
    "\n",
    "2. The Final Score is based on a combination of:\n",
    "    1. Similarity Score calculated from step 1.  \n",
    "    2. School Bonus: +1 point if the project is from a school that the donor has previously donated to\n",
    "    3. Teacher Bonus: +1 point if the project is from a teacher that the donor has previously donated to \n",
    "    4. Home City Bonus: +1 point if the project is located in the Donor City.   \n",
    "    5. Project Location Bonus: +1 point if the project is located in a city that the donor has previously donated to\n",
    "    6. Frequent Location Bonus: Reward the projects that are originated from the cities that the donor has made the most contribution to in the past (based on dollar amount). The rational behind this bonus is that the likelihood of the donor donating to these cities again is higher than the likelihood of the donor donating to the other cities. <br> \n",
    "    <br>To calculate the Frequent Location Bonus, you would multiply the sum of A+B+C+D+E by a scaling factor. The scaling factor is designed in such as a way that the effect of the boost will be higher as the donor donates to more city.  The boost will be minimal if the donor has only donated to a few cities.\n",
    "    \n",
    "    *Example:* \n",
    "    <br>A location ranked #1 will receive a boost of 0.5 if the donor have donated to 50 cities.  The boost will decrease to 0.1 if the donor have only donated to 10 cities.  \n",
    "    \n",
    "    *Formula: *\n",
    "    $$scaling\\:factor =\\frac{1}{100}*\\frac{Number\\:of\\:Cities}{City\\:Ranking\\:(highest\\:ranks\\:No.1)}$$\n",
    "    \n",
    "    **Ranking Score Calculation:** <br>\n",
    "    Preliminary score = similarity score + school bonus + teacher bonus + home city bonus + project location bonus<br>\n",
    "    Frequent Location bonus = scaling factor x Preliminary score <br>\n",
    "    Final score = Preliminary score + Frequent location bonus <br>"
   ]
  },
  {
   "cell_type": "markdown",
   "metadata": {},
   "source": [
    "#### Validation Scheme\n",
    "Use data prior to 2018 (2013-2017) to generate the Donor Features Matrix.  Validate model recommendations against the donations occuring in the month of January 2018.  This validation scheme avoids the look-ahead bias. Below summarizes the scope of the validation sets:<br>\n",
    "* Number of donors who donated prior to 2018 and in January 2018: 31,362\n",
    "* Number of projects that donors donated to in January 2018: 32,716\n",
    "* Number of projects that donors can choose from (projects that expires after Dec. 31, 2017): 47,816\n"
   ]
  },
  {
   "cell_type": "markdown",
   "metadata": {},
   "source": [
    "#### Result"
   ]
  },
  {
   "cell_type": "markdown",
   "metadata": {},
   "source": [
    "5000 random sample of donors are drawn from the pool of 31,362 donors: <br>\n",
    "With 47,816 projects to choose from, the recommender was able to recommend the correct project 35% of times as the top-1 project.<br>\n",
    "* % Hit in top 1 Recommendations: 34%\n",
    "* % Hit in top 5 Recommendations: 55%\n",
    "* % Hit in top 10 Recommendations: 61%\n",
    "* % Hit in top 25 Recommendations: 68%"
   ]
  },
  {
   "cell_type": "markdown",
   "metadata": {},
   "source": [
    "#### The Analysis below shows why location, school, teacher, and Owner Interest are used as the criterias."
   ]
  },
  {
   "cell_type": "code",
   "execution_count": 1,
   "metadata": {},
   "outputs": [
    {
     "data": {
      "text/html": [
       "<script>requirejs.config({paths: { 'plotly': ['https://cdn.plot.ly/plotly-latest.min']},});if(!window.Plotly) {{require(['plotly'],function(plotly) {window.Plotly=plotly;});}}</script>"
      ],
      "text/vnd.plotly.v1+html": [
       "<script>requirejs.config({paths: { 'plotly': ['https://cdn.plot.ly/plotly-latest.min']},});if(!window.Plotly) {{require(['plotly'],function(plotly) {window.Plotly=plotly;});}}</script>"
      ]
     },
     "metadata": {},
     "output_type": "display_data"
    }
   ],
   "source": [
    "import numpy as np\n",
    "import pandas as pd \n",
    "import os\n",
    "import datetime as dt\n",
    "import pickle\n",
    "import gc\n",
    "from sklearn import cluster\n",
    "import seaborn as sns\n",
    "import matplotlib.pyplot as plt\n",
    "import plotly as py\n",
    "import plotly.graph_objs as go\n",
    "import plotly.figure_factory as ff\n",
    "py.offline.init_notebook_mode(connected=True)\n",
    "%matplotlib inline"
   ]
  },
  {
   "cell_type": "code",
   "execution_count": 2,
   "metadata": {},
   "outputs": [],
   "source": [
    "schools= pd.read_pickle('schools.pkl')\n",
    "donors= pd.read_pickle('donors.pkl')\n",
    "projects= pd.read_pickle('projects.pkl')\n",
    "donations= pd.read_pickle('donations.pkl')\n",
    "\n",
    "projFeatures = pd.read_pickle('projFeatures.pkl') \n",
    "dist = pd.read_pickle('dist.pkl')\n",
    "distFeatures = pd.read_pickle('distFeatures.pkl')\n",
    "\n",
    "\n",
    "donorSummary = pd.read_pickle('donorSummary.pkl') # prior to 2018\n",
    "donorInterest = pd.read_pickle('donorInterest.pkl') # prior to 2018\n",
    "donorFeatureMatrixNoAdj = pd.read_pickle('donorFeatureMatrixNoAdj.pkl') #prior to 2018\n",
    "donorFeatureMatrix = pd.read_pickle('donorFeatureMatrix.pkl') # prior to 2018"
   ]
  },
  {
   "cell_type": "markdown",
   "metadata": {},
   "source": [
    "### <a id='2'>2. Why does the ranking system work?</a>"
   ]
  },
  {
   "cell_type": "markdown",
   "metadata": {},
   "source": [
    "### Donors tend to donate to the same schools"
   ]
  },
  {
   "cell_type": "markdown",
   "metadata": {},
   "source": [
    "#### 81% of the donors who have donated to more than one project, have donated to the same school\n",
    "Donors have a tendancy to donate to selected schools. By comparing the count of projects that the donor has donated to against the number of schools, we can see that the school count is lower.  This means that the donor has has donated to the same school at least once. <br>\n",
    "Some possible explanations of this phenomenon could be that the donors prefer to donate to local schools, or donate to schools where their family attend.  "
   ]
  },
  {
   "cell_type": "code",
   "execution_count": 3,
   "metadata": {},
   "outputs": [
    {
     "data": {
      "text/plain": [
       "True     0.814897\n",
       "False    0.185103\n",
       "Name: School Bias, dtype: float64"
      ]
     },
     "execution_count": 3,
     "metadata": {},
     "output_type": "execute_result"
    },
    {
     "data": {
      "image/png": "[encoded data removed]",
      "text/plain": [
       "<matplotlib.figure.Figure at 0x19e9dbd1828>"
      ]
     },
     "metadata": {},
     "output_type": "display_data"
    }
   ],
   "source": [
    "sns.set_palette(\"Set2\")\n",
    "chartData = donorSummary.loc[donorSummary['num_proj']>1]\n",
    "chartData['School Bias'] = chartData['School ID_count'] < chartData['num_proj']\n",
    "Breakdown = chartData['School Bias'].value_counts()/len(chartData)\n",
    "Breakdown.plot(kind='bar', stacked=True, legend = True)\n",
    "plt.title(\"Most donors have favorite schools\")\n",
    "Breakdown\n"
   ]
  },
  {
   "cell_type": "markdown",
   "metadata": {},
   "source": [
    "Another way to quantify the preference for one school is to meaure the concentration of school donation.  If a donor has donated to 5 schools, totaling `$`1,000 and `$`900 went to one single school, the concentration would be 90%.  Suppose the donation is evenly distributed (`$`200 each) between the 5 schools, the concentration would be 20%. The bias could be captured by the difference between the calculated concentration v.s. the evenly distributed concentration.  \n",
    "\n",
    "Looking at the chart below:\n",
    "* The pink line has a slope of 1.  Donors who donated equally amongst all the schools would lie on this line. \n",
    "* Few dots lie on the pink line.  The further away the dots are above the pink line, the more bias the donors are to a particular school. "
   ]
  },
  {
   "cell_type": "code",
   "execution_count": 4,
   "metadata": {},
   "outputs": [
    {
     "data": {
      "text/plain": [
       "[]"
      ]
     },
     "execution_count": 4,
     "metadata": {},
     "output_type": "execute_result"
    },
    {
     "data": {
      "image/png": "[encoded data removed]",
      "text/plain": [
       "<matplotlib.figure.Figure at 0x19ea52972b0>"
      ]
     },
     "metadata": {},
     "output_type": "display_data"
    }
   ],
   "source": [
    "sns.set_palette(\"Set2\")\n",
    "chartData['1/NumSchool'] = 1/chartData['School ID_count']\n",
    "chartData = chartData.sample(1000)\n",
    "#sns.lmplot(data = chartData, y= 'schoolConcentration', x= '1/NumSchool', hue = 'School Bias',fit_reg=False, scatter_kws={'alpha':0.4})\n",
    "sns.lmplot(data = chartData, y= 'schoolConcentration', x= '1/NumSchool', fit_reg=False, scatter_kws={'alpha':0.4})\n",
    "plt.ylabel(\"% donation donated to the favorite school\") \n",
    "plt.xlabel(\"1 / Number of Schools\")\n",
    "plt.title(\"Donors have Favorite Schools\")\n",
    "plt.ylim(0, 1)\n",
    "plt.xlim(0, 0.55)\n",
    "x1, y1 = [0, 1], [0, 1]\n",
    "plt.plot(x1, y1, dashes=[6, 2], color = \"pink\")\n",
    "plt.plot()"
   ]
  },
  {
   "cell_type": "markdown",
   "metadata": {},
   "source": [
    "### Some donors donate to the same teacher despite the teacher moved to a different school"
   ]
  },
  {
   "cell_type": "markdown",
   "metadata": {},
   "source": [
    "#### There are about 4% of donors exhibit preferences towards a teacher\n",
    "One explanation for this phenomenon is that the donors could be the friends & family of the teachers.    "
   ]
  },
  {
   "cell_type": "markdown",
   "metadata": {},
   "source": [
    "For the majority of the donors, if they have donated to two different schools, they would likely to have donated to two different teachers. There are about 4% of the donors with the school count lower than the teacher count.  These could signify prefreference to a specific teacher."
   ]
  },
  {
   "cell_type": "code",
   "execution_count": 5,
   "metadata": {},
   "outputs": [
    {
     "name": "stdout",
     "output_type": "stream",
     "text": [
      "False    0.9594\n",
      "True     0.0406\n",
      "Name: Teacher Bias, dtype: float64\n"
     ]
    },
    {
     "data": {
      "image/png": "[encoded data removed]",
      "text/plain": [
       "<matplotlib.figure.Figure at 0x19f5397a470>"
      ]
     },
     "metadata": {},
     "output_type": "display_data"
    }
   ],
   "source": [
    "chartData = donorSummary.loc[donorSummary['num_proj']>1]\n",
    "chartData['Teacher Bias'] = (chartData['School ID_count']) > chartData['Teacher ID_count']\n",
    "Breakdown = chartData['Teacher Bias'].value_counts()/len(chartData)\n",
    "Breakdown.plot(kind='bar', stacked=True, legend = True)\n",
    "plt.title('Most donors are not biased towards a specific teacher')\n",
    "print(Breakdown)"
   ]
  },
  {
   "cell_type": "markdown",
   "metadata": {},
   "source": [
    "The chart below shows that for the majority of the donors, the percentage of donation going to their favorite school is higher than the percentage of donations going to the teacher that received their highest amount of donations. The dots on the upper left are the donors, whose donation to their favorite teacher exceeds the donation they have donated to their favorite schools.  "
   ]
  },
  {
   "cell_type": "code",
   "execution_count": 6,
   "metadata": {},
   "outputs": [
    {
     "data": {
      "text/plain": [
       "[]"
      ]
     },
     "execution_count": 6,
     "metadata": {},
     "output_type": "execute_result"
    },
    {
     "data": {
      "image/png": "[encoded data removed]",
      "text/plain": [
       "<matplotlib.figure.Figure at 0x19f52fb0240>"
      ]
     },
     "metadata": {},
     "output_type": "display_data"
    }
   ],
   "source": [
    "chartData = donorSummary.loc[donorSummary['num_proj']>1]\n",
    "chartData['Teacher Bias'] = (chartData['School ID_count']) > chartData['Teacher ID_count']\n",
    "chartData = chartData.sample(5000)\n",
    "sns.lmplot(data = chartData, x= 'schoolConcentration', y= 'TeacherConcentration', hue = 'Teacher Bias', fit_reg=False, scatter_kws={'alpha':0.4})\n",
    "plt.xlabel(\"% donation donated to the favorite school\") \n",
    "plt.ylabel(\"% donation donated to the favorite teacher\")\n",
    "plt.title(\"Donors are not biased towards specific teachers\")\n",
    "plt.ylim(0, 1.1)\n",
    "plt.xlim(0, 1.1)\n",
    "x1, y1 = [0, 1], [0, 1]\n",
    "plt.plot(x1, y1)\n",
    "plt.plot()"
   ]
  },
  {
   "cell_type": "markdown",
   "metadata": {},
   "source": [
    "### Donors donate locally"
   ]
  },
  {
   "cell_type": "markdown",
   "metadata": {},
   "source": [
    "Most of the donors donate to local schools.  The distances are calculated based on the Donor City and School City.  \n",
    "* Approximately 30% of the donors donate to their own city.  (Donor City = School City)\n",
    "* Approximately 53% of the donors donate to schools under 20 miles away from home. \n",
    "* The median distance between the Donor City and the School City is 16 miles."
   ]
  },
  {
   "cell_type": "code",
   "execution_count": 7,
   "metadata": {},
   "outputs": [
    {
     "name": "stdout",
     "output_type": "stream",
     "text": [
      "The median donation distance is:  15.866542872706095\n"
     ]
    },
    {
     "data": {
      "image/png": "[encoded data removed]",
      "text/plain": [
       "<matplotlib.figure.Figure at 0x19f5331e828>"
      ]
     },
     "metadata": {},
     "output_type": "display_data"
    }
   ],
   "source": [
    "no_mismatch = dist.loc[dist['no_mismatch'] == 1]\n",
    "chart = pd.DataFrame(no_mismatch['dist_cut'].value_counts()/len(dist)*100).reset_index(drop = False)\n",
    "plot = sns.barplot(x = 'index', y = 'dist_cut', data = chart)\n",
    "plot.set_title(\"% of donations relative to distances between donor and schools\")\n",
    "plot.set_ylabel('% donations')\n",
    "plot.set_xlabel('distances in miles')\n",
    "\n",
    "print(\"The median donation distance is: \", no_mismatch['dist'].median())"
   ]
  },
  {
   "cell_type": "markdown",
   "metadata": {},
   "source": [
    "### Donors exhibit  preferences toward the different project categories"
   ]
  },
  {
   "cell_type": "markdown",
   "metadata": {},
   "source": [
    "K-means clustering was used to group the donors into 5 groups, and the following topics are the main interests in each of the groups: \n",
    "* Literacy only\n",
    "* Math, Science, and Applied Science\n",
    "* Music & Art, Visual Arts\n",
    "* Literacy, Math, and Science\n",
    "* Applied Learning, Sports, and Special Needs\n"
   ]
  },
  {
   "cell_type": "code",
   "execution_count": 8,
   "metadata": {},
   "outputs": [],
   "source": [
    "# Run K-means model on donor FeatureMatrix \n",
    "from sklearn import cluster\n",
    "k_means = cluster.KMeans(n_clusters=5)\n",
    "\n",
    "# Group using project categories\n",
    "colsInclude = list(donorFeatureMatrix.loc[:,'ProjCat_Applied Learning': 'ProjCat_Warmth, Care & Hunger'].columns)\n",
    "result = k_means.fit(donorFeatureMatrix[colsInclude])\n",
    "\n",
    "# Get the k-means grouping label\n",
    "clusterLabel = result.labels_"
   ]
  },
  {
   "cell_type": "code",
   "execution_count": 9,
   "metadata": {},
   "outputs": [
    {
     "data": {
      "text/plain": [
       "1    0.370045\n",
       "0    0.196474\n",
       "4    0.195740\n",
       "3    0.141486\n",
       "2    0.096256\n",
       "Name: 0, dtype: float64"
      ]
     },
     "execution_count": 9,
     "metadata": {},
     "output_type": "execute_result"
    }
   ],
   "source": [
    "cluster = pd.DataFrame(clusterLabel)\n",
    "cluster[0].value_counts()/len(cluster)"
   ]
  },
  {
   "cell_type": "code",
   "execution_count": 10,
   "metadata": {},
   "outputs": [],
   "source": [
    "def plot_cluster_traits(donorFeatureMatrix, col_category, clusterLabel):\n",
    "    '''\n",
    "    col_category are the filters for the column names in the donorFeatureMatrix\n",
    "    values could be: \n",
    "    'Project Type', 'School Metro Type', 'Project Grade Level Category',\n",
    "    'Project Resource Category', 'lunchAid', 'ProjCat', 'Dist', 'Percentile'\n",
    "    \n",
    "    clusterLabel is labels from the output of k-means\n",
    "    '''\n",
    "    \n",
    "    # get columns to chart\n",
    "    chart = donorFeatureMatrix.filter(regex='^'+col_category, axis=1).copy()\n",
    "    chart['label'] = clusterLabel\n",
    "    \n",
    "    # for each column, get mean of each cluster\n",
    "    chart = chart.groupby(['label']).mean().reset_index()\n",
    "    chart_melt = pd.melt(chart, id_vars = ['label'], value_vars = chart.columns[1:], var_name='category', value_name = 'mean')\n",
    "    chart_melt['color'] = np.where(chart_melt['mean']<0, 'orange', 'pink')\n",
    "    chart_melt = chart_melt.sort_values(by = ['label', 'category']).reset_index(drop = True)\n",
    "    \n",
    "    # delete the col_category from column names for the chart\n",
    "    chart_melt['category'] = chart_melt['category'].str.replace(col_category+'_','')\n",
    "    \n",
    "    # plot chart using Seaborn\n",
    "    if chart_melt['category'].nunique()>8:\n",
    "        g = sns.FacetGrid(chart_melt, row = 'label', size=1.5, aspect=8)  # size: height, # aspect * size gives the width\n",
    "        g.map(sns.barplot, 'category', 'mean', palette=\"Set1\")\n",
    "        g.set_xticklabels(rotation=90)\n",
    "        g.fig.subplots_adjust(top=0.9)\n",
    "        g.fig.suptitle('Cluster Preferences- ' + col_category)\n",
    "    else:\n",
    "        g = sns.FacetGrid(chart_melt, row = 'label', size=1.5, aspect=4)\n",
    "        g.map(sns.barplot, 'category', 'mean', palette=\"Set2\")\n",
    "        g.fig.subplots_adjust(top=0.9)\n",
    "        g.fig.suptitle('Cluster Preferences- ' + col_category)\n",
    "    return g"
   ]
  },
  {
   "cell_type": "markdown",
   "metadata": {},
   "source": [
    "##### Preferences for Project Categories (adjusted by mean)"
   ]
  },
  {
   "cell_type": "code",
   "execution_count": 11,
   "metadata": {},
   "outputs": [
    {
     "name": "stderr",
     "output_type": "stream",
     "text": [
      "C:\\Users\\kikimeow\\Anaconda3\\envs\\tf\\lib\\site-packages\\seaborn\\axisgrid.py:703: UserWarning:\n",
      "\n",
      "Using the barplot function without specifying `order` is likely to produce an incorrect plot.\n",
      "\n"
     ]
    },
    {
     "data": {
      "text/plain": [
       "<seaborn.axisgrid.FacetGrid at 0x19f52fc4ac8>"
      ]
     },
     "execution_count": 11,
     "metadata": {},
     "output_type": "execute_result"
    },
    {
     "data": {
      "image/png": "[encoded data removed]",
      "text/plain": [
       "<matplotlib.figure.Figure at 0x19ea00a5550>"
      ]
     },
     "metadata": {},
     "output_type": "display_data"
    }
   ],
   "source": [
    "plot_cluster_traits(donorFeatureMatrix, 'ProjCat', clusterLabel)"
   ]
  },
  {
   "cell_type": "markdown",
   "metadata": {},
   "source": [
    "### <a id='3'>3. Building the Recommender</a>"
   ]
  },
  {
   "cell_type": "markdown",
   "metadata": {},
   "source": [
    "### A. Set-Up Validation Framework"
   ]
  },
  {
   "cell_type": "markdown",
   "metadata": {},
   "source": [
    "Use data prior to 2018 (2013-2017) to generate the Donor Features Matrix. Validate model recommendations against the donations occuring in the month of January 2018. The Donor Features Matrix was generated with the (2013-2017) timeframe in Part 1 of the notebook.  "
   ]
  },
  {
   "cell_type": "markdown",
   "metadata": {},
   "source": [
    "#### Filter for donors who satisfies the following conditions:\n",
    "1. Donated both in January of 2018 and prior to 2018"
   ]
  },
  {
   "cell_type": "code",
   "execution_count": 12,
   "metadata": {},
   "outputs": [
    {
     "name": "stdout",
     "output_type": "stream",
     "text": [
      "# of IDs matching the criterias: 31362\n"
     ]
    }
   ],
   "source": [
    "donorID_2018 = donations[(donations['Donation_Received_Year'] == 2018) & (donations['Donation_Received_Month'] == 1)]['Donor ID'].unique()\n",
    "donorID_prior_2018 = donations[donations['Donation_Received_Year'] < 2018]['Donor ID'].unique()\n",
    "test_ID = list(set(donorID_2018).intersection(donorID_prior_2018))\n",
    "print(\"# of IDs matching the criterias:\", len(test_ID))"
   ]
  },
  {
   "cell_type": "markdown",
   "metadata": {},
   "source": [
    "#### Filter donations into groups: prior to 2018, and Jan 2018"
   ]
  },
  {
   "cell_type": "code",
   "execution_count": 13,
   "metadata": {},
   "outputs": [
    {
     "name": "stdout",
     "output_type": "stream",
     "text": [
      "donations_prior: (715574, 10)\n",
      "donations_Jan 2018: (64617, 10)\n"
     ]
    }
   ],
   "source": [
    "donations_prior = donations[(donations['Donation_Received_Year'] < 2018) & (donations['Donor ID'].isin(test_ID))]\n",
    "donations_2018 = donations[(donations['Donation_Received_Year'] == 2018) & (donations['Donation_Received_Month'] == 1) & (donations['Donor ID'].isin(test_ID))]\n",
    "print('donations_prior:', donations_prior.shape)\n",
    "print('donations_Jan 2018:', donations_2018.shape)"
   ]
  },
  {
   "cell_type": "markdown",
   "metadata": {},
   "source": [
    "#### Filter donor feature matrix"
   ]
  },
  {
   "cell_type": "code",
   "execution_count": 14,
   "metadata": {},
   "outputs": [
    {
     "name": "stdout",
     "output_type": "stream",
     "text": [
      "Donor Matrix Shape: (31362, 96)\n"
     ]
    }
   ],
   "source": [
    "donorFeatureMatrixNoAdj = donorFeatureMatrixNoAdj.loc[donorFeatureMatrixNoAdj.index.isin(test_ID)]\n",
    "donorFeatureMatrix = donorFeatureMatrix.loc[donorFeatureMatrix.index.isin(test_ID)]\n",
    "print('Donor Matrix Shape:', donorFeatureMatrix.shape)"
   ]
  },
  {
   "cell_type": "markdown",
   "metadata": {},
   "source": [
    "#### Establish the Initial Project Universe\n",
    "1. Projects that have not been fully funded as of 1/1/2018\n",
    "2. Project Expiration Date after 1/1/2018\n",
    "3. Projects posted before 1/31/2018"
   ]
  },
  {
   "cell_type": "code",
   "execution_count": 15,
   "metadata": {},
   "outputs": [
    {
     "name": "stdout",
     "output_type": "stream",
     "text": [
      "# of Project IDs matching the criterias: 45047\n"
     ]
    }
   ],
   "source": [
    "projectsID = set(projects[(projects['Project Fully Funded Date'] >= '1/1/2018') & (projects['Project Expiration Date'] >= '1/1/2018') & (projects['Project Posted Date'] <= '1/31/2018')]['Project ID'])\n",
    "print(\"# of Project IDs matching the criterias:\", len(projectsID))"
   ]
  },
  {
   "cell_type": "markdown",
   "metadata": {},
   "source": [
    "#### Ensure all the projects that the donors donated to are in the Project Features Matrix"
   ]
  },
  {
   "cell_type": "code",
   "execution_count": 16,
   "metadata": {},
   "outputs": [
    {
     "name": "stdout",
     "output_type": "stream",
     "text": [
      "# of projects that people donated to in Jan 2018: 32716\n",
      "# of projects that people could donate to in Jan 2018: 47816\n"
     ]
    }
   ],
   "source": [
    "projects_2018 = list(donations[(donations['Donation_Received_Year'] == 2018) & (donations['Donation_Received_Month'] == 1)]['Project ID'].unique())\n",
    "print(\"# of projects that people donated to in Jan 2018:\", len(projects_2018))\n",
    "\n",
    "projectsID = set(projects_2018).union(set(projectsID))\n",
    "print(\"# of projects that people could donate to in Jan 2018:\", len(projectsID))"
   ]
  },
  {
   "cell_type": "markdown",
   "metadata": {},
   "source": [
    "#### Create the Project Features Matrix"
   ]
  },
  {
   "cell_type": "code",
   "execution_count": 17,
   "metadata": {},
   "outputs": [
    {
     "name": "stdout",
     "output_type": "stream",
     "text": [
      "Number of projects to choose from: 47816\n"
     ]
    }
   ],
   "source": [
    "projectFeatures = projFeatures.loc[projFeatures['Project ID'].isin(projectsID)]\n",
    "projectFeatures = projectFeatures.merge(projects.filter(items = ['Project ID', 'School ID', 'Teacher ID']), left_on = 'Project ID', right_on = 'Project ID', how = 'left')\n",
    "projectFeatures = projectFeatures.merge(schools.filter(items = ['School ID', 'School_Lon', 'School_Lat', 'School City', 'School State']), left_on = 'School ID', right_on = 'School ID', how = 'left')\n",
    "projectFeatures = projectFeatures.drop_duplicates(subset=['Project ID'], keep='first')\n",
    "projectFeatures['CityState'] = projectFeatures['School City'].map(str)+', '+projectFeatures['School State']\n",
    "print(\"Number of projects to choose from:\", len(projectFeatures))"
   ]
  },
  {
   "cell_type": "markdown",
   "metadata": {},
   "source": [
    "### B. Define Recommendation Function"
   ]
  },
  {
   "cell_type": "code",
   "execution_count": 18,
   "metadata": {},
   "outputs": [],
   "source": [
    "def merge_data(ID, donations, donors = donors, projects = projects, schools = schools):\n",
    "    ''' \n",
    "    Filter data based on a list of Donor ID.  Merge all data together into one dataframe.  \n",
    "    Arguments: list of 'Donor ID'\n",
    "    Returns: dataframe \n",
    "    '''\n",
    "    \n",
    "    # To ensure ID parameter works for both a list and a string\n",
    "    if isinstance(ID, list):\n",
    "        temp = donations[donations['Donor ID'].isin(ID)].reset_index(drop = True)\n",
    "    else:\n",
    "        temp = donations[donations['Donor ID'] == ID].reset_index(drop = True)\n",
    "    \n",
    "    temp = temp.merge(donors, on = 'Donor ID', how='left')\n",
    "    temp = temp.merge(projects, on = 'Project ID', how = 'left')\n",
    "    temp = temp.merge(schools, on = 'School ID', how = 'left')\n",
    "    \n",
    "    return temp"
   ]
  },
  {
   "cell_type": "code",
   "execution_count": 19,
   "metadata": {},
   "outputs": [],
   "source": [
    "def get_proj_universe(ID,\n",
    "                      donorDonations_all = None,\n",
    "                      donations_prior = donations_prior, \n",
    "                      donors = donors, \n",
    "                      projects = projects, \n",
    "                      schools = schools):\n",
    "    \n",
    "    #print(\"Donor ID:\", ID)\n",
    "    \n",
    "    ####\n",
    "    # Merge donations data filtered by ID with donors, projects, schools\n",
    "    ####\n",
    "    \n",
    "    if donorDonations_all is None:\n",
    "        donorDonations = merge_data(ID, donations_prior)\n",
    "        \n",
    "    else:\n",
    "        donorDonations = donorDonations_all.loc[donorDonations_all['Donor ID'] == ID]\n",
    "    \n",
    "    donorDonations = donorDonations.reset_index(drop = True)\n",
    "    \n",
    "    ####\n",
    "    #  Get Previous School ID, Teacher ID, School Location (City/State), Donor's Location\n",
    "    ####\n",
    "    \n",
    "    # previous locations of donations\n",
    "    byLocation = donorDonations.groupby(['School City', 'School State'])['Donation Amount'].sum().sort_values(ascending = False)\n",
    "    locMap = donorDonations.drop_duplicates(subset = ['School City', 'School State']).set_index((['School City', 'School State']))\n",
    "    byLocation = byLocation.reset_index()\n",
    "    \n",
    "    # calculate the rank of city according to amount of donation received\n",
    "    byLocation['byLocation rank']= byLocation['Donation Amount'].rank(ascending = False) # rank from largest to smallest\n",
    "    \n",
    "    # calculate the Frequent location bonus scoring scale\n",
    "    byLocation['byLocation scale'] = 1/(byLocation['byLocation rank']/len(byLocation))/100\n",
    "    \n",
    "    # add longitude and latitude data for reference later\n",
    "    byLocation = byLocation.set_index(['School City', 'School State'])\n",
    "    byLocation = byLocation.merge(locMap.filter(items = ['School_Lon', 'School_Lat']), left_index = True, right_index = True, how = 'left')\n",
    "    byLocation = byLocation.reset_index()\n",
    "    byLocation['CityState'] = byLocation['School City'].map(str)+', '+byLocation['School State']\n",
    "    \n",
    "    # donor's location\n",
    "    donorLocation = donors.loc[donors['Donor ID'] == ID, ['Donor City', 'Donor State', 'Donor_Lat', 'Donor_Lon']].reset_index(drop = True)\n",
    "    donorLocation['CityState'] = donorLocation['Donor City'].map(str)+', '+donorLocation['Donor State']\n",
    "    \n",
    "    # get the ID masks for filtering donor donations\n",
    "    schoolIDs = donorDonations['School ID'].unique()\n",
    "    teacherIDs = donorDonations['Teacher ID'].unique()\n",
    "    locationIDs = byLocation['CityState'].unique()\n",
    "    homeIDs = donorLocation['CityState'].unique() \n",
    "    \n",
    "    idFilters = {'schoolIDs':schoolIDs, \n",
    "                 'teacherIDs':teacherIDs,\n",
    "                 'locationIDs':locationIDs,\n",
    "                 'homeIDs':homeIDs}\n",
    "    \n",
    "    \n",
    "    ####\n",
    "    # Filter projectFeatures for Schools, Teachers, Locations that the donor has ever donated to\n",
    "    ####\n",
    "    \n",
    "    projSchool = list(projectFeatures[projectFeatures['School ID'].isin(schoolIDs)]['Project ID'])\n",
    "    projTeacher = list(projectFeatures[projectFeatures['Teacher ID'].isin(teacherIDs)]['Project ID'])\n",
    "    projLocation = list(projectFeatures[projectFeatures['CityState'].isin(locationIDs)]['Project ID'])\n",
    "    projHomeLoc = list(projectFeatures[projectFeatures['CityState'].isin(homeIDs)]['Project ID'])\n",
    "    projAll = set(projSchool).union(set(projTeacher)).union(set(projLocation)).union(set(projHomeLoc))\n",
    "    \n",
    "    projFilters = {'projSchool':projSchool, \n",
    "                 'projTeacher':projTeacher,\n",
    "                 'projLocation':projLocation,\n",
    "                 'projHomeLoc':projHomeLoc,\n",
    "                  'projAll': projAll}\n",
    "    \n",
    "    ####\n",
    "    #  Filter the project Features based on 'Project IDs'\n",
    "    ####\n",
    "    \n",
    "    projUniverse = projectFeatures.loc[projectFeatures['Project ID'].isin(projAll)]\n",
    "    projUniverse = projUniverse.reset_index(drop = True)\n",
    "    #print('Number of potential projects:', len(projUniverse))\n",
    "    \n",
    "    return projUniverse, donorDonations, byLocation, idFilters, projFilters, donorLocation\n",
    "\n",
    "def calculate_score(ID, projUniverse, byLocation, projFilters, donorFeatureMatrix, projectFeatures):\n",
    "\n",
    "    ####\n",
    "    # Generate Donor Feature Matrix, Calculate Score, Rank Recommendations\n",
    "    ####\n",
    "    \n",
    "    #### Get Donor FeatureMatrix #### \n",
    "        \n",
    "    #donorFeatureMatrix = donorFeatureMatrix.set_index('Donor ID')  # if donorFeatureMatrix did not have index set\n",
    "    y = donorFeatureMatrix.loc[ID, 'Project Type_Professional Development':'ProjCat_Warmth, Care & Hunger'] \n",
    "    y = y.values.reshape(len(y), 1) \n",
    "\n",
    "    #### Calculate Similarity Score\n",
    "    score = np.dot(projUniverse.loc[:, 'Project Type_Professional Development':'ProjCat_Warmth, Care & Hunger'], y)\n",
    "        \n",
    "    #### Add more Scoring Attributes\n",
    "        \n",
    "    # score from dot product of similarity\n",
    "    projUniverse['Score_interest'] = score\n",
    "        \n",
    "    # Flag as 1 if the project matches the conditions\n",
    "    projUniverse['Score_School'] = projUniverse['Project ID'].isin(projFilters['projSchool'])\n",
    "    projUniverse['Score_Teacher'] = projUniverse['Project ID'].isin(projFilters['projTeacher'])\n",
    "    projUniverse['Score_homeLoc'] = projUniverse['Project ID'].isin(projFilters['projHomeLoc'])\n",
    "    projUniverse['Score_priorLoc'] = projUniverse['Project ID'].isin(projFilters['projLocation'])\n",
    "        \n",
    "    # merge the scoring matrix\n",
    "    projUniverse = projUniverse.merge(byLocation.filter(items = ['byLocation rank', 'byLocation scale', 'CityState']), on = 'CityState', how = 'left')\n",
    "\n",
    "    #### Rank Recommendations #### \n",
    "    cols = ['Score_interest', 'Score_School', 'Score_Teacher','Score_homeLoc', 'Score_priorLoc']\n",
    "    projUniverse['Score_Total_Unadjusted'] = projUniverse.loc[:, cols].sum(axis = 1)\n",
    "        \n",
    "    projUniverse['location_Premium'] = projUniverse['Score_Total_Unadjusted']*projUniverse['byLocation scale']\n",
    "\n",
    "    cols = ['Score_interest', 'Score_School', 'Score_Teacher','Score_homeLoc', 'Score_priorLoc', 'location_Premium']\n",
    "    projUniverse['Score_Total'] = projUniverse.loc[:, cols].sum(axis = 1)\n",
    "        \n",
    "    projUniverse['Rank'] = projUniverse['Score_Total'].rank(ascending = False)\n",
    "    projUniverse = projUniverse.sort_values(by = 'Rank' )\n",
    "    projUniverse = projUniverse.set_index('Project ID')\n",
    "    \n",
    "    return projUniverse\n",
    "\n",
    "def get_recommender_response(ID, projUniverse, donations_2018, donorDonations, idFilters, donorLocation):\n",
    "    \n",
    "    # Length of potential project selections (Project Universe)\n",
    "    lenUniv = len(projUniverse) \n",
    "    \n",
    "    # Donor City\n",
    "    donorCity = donorLocation['CityState'].values\n",
    "\n",
    "    #### Get the actual project (target project ID) that the donor donated to\n",
    "    targetProjectIDs = donations_2018[donations_2018['Donor ID'] == ID]['Project ID']\n",
    "    proj = targetProjectIDs.values[0]  # get default\n",
    "\n",
    "    ####\n",
    "    # Save scores breakdown for the top recommended project\n",
    "    ####\n",
    "    \n",
    "    if len(projUniverse)> 0:\n",
    "        topProj = projUniverse.index[0]\n",
    "        score_interest_top = projUniverse.loc[topProj]['Score_interest']\n",
    "        score_school_top = projUniverse.loc[topProj]['Score_School']\n",
    "        score_teacher_top = projUniverse.loc[topProj]['Score_Teacher']\n",
    "        score_homeLoc_top = projUniverse.loc[topProj]['Score_homeLoc']\n",
    "        score_priorLoc_top = projUniverse.loc[topProj]['Score_priorLoc']\n",
    "        score_locBonus_top = projUniverse.loc[topProj]['location_Premium']\n",
    "        score_scoreTotal_top =  projUniverse.loc[topProj]['Score_Total']\n",
    "        Top_Project_Score = {'interest':score_interest_top, 'school':score_school_top,\n",
    "                             'teacher':  score_teacher_top, 'homeLoc': score_homeLoc_top, \n",
    "                             'priorLoc': score_priorLoc_top, 'locBonus': score_locBonus_top,\n",
    "                             'total':score_scoreTotal_top}\n",
    "   \n",
    "    ####\n",
    "    # Identify the actual project (target project) that the donor donated and find the recommender ranking of the target project\n",
    "    ####\n",
    " \n",
    "    # loop through multiple projects for donors that donated to multiple projects in the testing timeframe\n",
    "        for i in range(len(targetProjectIDs)):\n",
    "            proj = targetProjectIDs.values[i]\n",
    "        \n",
    "        ### Get ranking of the project that the donor donated to\n",
    "            try:\n",
    "                ranking = projUniverse.loc[proj]['Rank']\n",
    "                score_interest_target = projUniverse.loc[proj]['Score_interest']\n",
    "                score_school_target = projUniverse.loc[proj]['Score_School']\n",
    "                score_teacher_target = projUniverse.loc[proj]['Score_Teacher']\n",
    "                score_homeLoc_target = projUniverse.loc[proj]['Score_homeLoc']\n",
    "                score_priorLoc_target = projUniverse.loc[proj]['Score_priorLoc']\n",
    "                score_locBonus_target = projUniverse.loc[proj]['location_Premium']\n",
    "                score_scoreTotal_target =  projUniverse.loc[proj]['Score_Total']\n",
    "                Target_Project_Score = {'interest':score_interest_target, 'school':score_school_target, \n",
    "                                        'teacher':  score_teacher_target, 'homeLoc': score_homeLoc_target, \n",
    "                                        'priorLoc': score_priorLoc_target, 'locBonus': score_locBonus_target,\n",
    "                                        'total': score_scoreTotal_target}\n",
    "                # if project matches, skip the rest of the search\n",
    "                \n",
    "                break  \n",
    "            except:\n",
    "                ranking = np.nan \n",
    "                score_interest_target = np.nan\n",
    "                score_school_target = np.nan\n",
    "                score_teacher_target = np.nan\n",
    "                score_homeLoc_target = np.nan\n",
    "                score_priorLoc_target = np.nan\n",
    "                score_locBonus_target = np.nan\n",
    "                score_scoreTotal_target = np.nan\n",
    "                Target_Project_Score = {}\n",
    "    else:\n",
    "        topProj = np.nan\n",
    "        score_interest_target = np.nan\n",
    "        score_school_target = np.nan\n",
    "        score_teacher_target = np.nan\n",
    "        score_homeLoc_target = np.nan\n",
    "        score_priorLoc_target = np.nan\n",
    "        score_locBonus_target = np.nan\n",
    "        score_scoreTotal_target = np.nan\n",
    "        Top_Project_Score = {}\n",
    "        Target_Project_Score = {}\n",
    "        ranking = np.nan \n",
    "        score_interest_target = np.nan\n",
    "        score_school_target = np.nan\n",
    "        score_teacher_target = np.nan\n",
    "        score_homeLoc_target = np.nan\n",
    "        score_priorLoc_target = np.nan\n",
    "        score_locBonus_target = np.nan\n",
    "        score_scoreTotal_target = np.nan\n",
    "        \n",
    "    ####\n",
    "    # Return dictionary \n",
    "    ####\n",
    "    response = {'Donor_ID': ID, \n",
    "                'Ranking': ranking, \n",
    "                'Donor_Project_ID': proj, \n",
    "                'Filter_Size': lenUniv, \n",
    "                'Universe': projUniverse, \n",
    "                'Donor_Donations': donorDonations,\n",
    "                'Prior_Location_Count': len(idFilters['locationIDs']), \n",
    "                'Prior_School_Count': len(idFilters['schoolIDs']),\n",
    "                'Prior_Teacher_Count': len(idFilters['teacherIDs']), \n",
    "                'Donor_City': donorCity,\n",
    "                'Target_Project_Score': Target_Project_Score,\n",
    "                'Top_Project_Score':  Top_Project_Score,\n",
    "                'Top_Project': topProj\n",
    "               }\n",
    "    \n",
    "    return response\n",
    "\n",
    "def recommender(ID,\n",
    "                donorDonations_all = None,\n",
    "                donations_prior = donations_prior, \n",
    "                donations_2018 = donations_2018,\n",
    "                donors = donors, \n",
    "                projects = projects, \n",
    "                schools = schools, \n",
    "                donorFeatureMatrix = donorFeatureMatrix,\n",
    "                projectFeatures = projectFeatures):\n",
    "    \n",
    "    projUniverse, donorDonations, byLocation, idFilters, projFilters, donorLocation = get_proj_universe(ID, donorDonations_all, donations_prior, donors, projects, schools) \n",
    "    \n",
    "    if (len(projUniverse))>0:\n",
    "        projUniverse = calculate_score(ID, projUniverse,  byLocation, projFilters, donorFeatureMatrix, projectFeatures)\n",
    "    \n",
    "    response = get_recommender_response(ID,projUniverse, donations_2018, donorDonations, idFilters, donorLocation)\n",
    "    \n",
    "    return response\n"
   ]
  },
  {
   "cell_type": "code",
   "execution_count": 20,
   "metadata": {},
   "outputs": [],
   "source": [
    "def recommenderAnalysis(response):\n",
    "    '''\n",
    "    Print some information from the response\n",
    "    '''\n",
    "    print(\"The project chosen by the donor is ranked:\", response['Ranking'])\n",
    "    print(\"Total projects in the Project Universe is:\", response['Filter_Size'])\n",
    "    print(\"Number of project count prior to 2018:\", len(response['Donor_Donations']))\n",
    "    print(\"Number of teacher count prior to 2018:\", response['Prior_Teacher_Count'])\n",
    "    print(\"Number of school count prior to 2018:\", response['Prior_School_Count'])\n",
    "    print(\"Number of locations that the donor donated to prior to 2018:\", response['Prior_Location_Count'])\n",
    "    print(\"Donor City:\", response['Donor_City'])\n",
    "    print('Recommended Project:', response['Top_Project'])\n",
    "    print('Top Project Score:', response['Top_Project_Score'])\n",
    "    print(\"The donor donated to Project ID:\", response['Donor_Project_ID'])\n",
    "    print('Target Project Score:', response['Target_Project_Score'])\n",
    "    \n",
    "    return None\n",
    "\n",
    "def top5Recommendations(response,\n",
    "                       projects = projects,\n",
    "                       schools = schools):   \n",
    "    '''\n",
    "    return top 5 recommendations from recommender\n",
    "    '''\n",
    "    \n",
    "    cols = ['Score_interest', 'Score_School', 'Score_Teacher', 'Score_homeLoc','Score_priorLoc', 'byLocation rank', 'byLocation scale','Score_Total_Unadjusted', 'location_Premium', 'Score_Total', 'Rank']\n",
    "    responseScores = response['Universe'][cols][0:5]\n",
    "    picks = response['Universe'].index[0:5]\n",
    "    recommendedProj = projects.loc[projects['Project ID'].isin(picks)]\n",
    "    TopRecommendations = recommendedProj.merge(schools, left_on= 'School ID', right_on = 'School ID', how = 'left')\n",
    "    TopRecommendations = TopRecommendations.merge(responseScores, left_on= 'Project ID', right_index = True, how = 'left')\n",
    "    TopRecommendations.sort_values(by = 'Rank', ascending = True)\n",
    "    \n",
    "    return TopRecommendations\n",
    "\n",
    "\n",
    "def targetProject(response, schools = schools, projects = projects):\n",
    "    '''\n",
    "    return information regarding the project that the donor donated to\n",
    "    '''\n",
    "    i = response['Ranking'].astype('int')\n",
    "    cols = ['Score_interest', 'Score_School', 'Score_Teacher', 'Score_homeLoc','Score_priorLoc', 'byLocation rank', 'byLocation scale','Score_Total_Unadjusted', 'location_Premium', 'Score_Total', 'Rank']\n",
    "    responseScores = response['Universe'][cols][i-1: i]\n",
    "    picks = response['Donor_Project_ID']\n",
    "    correctProj = projects.loc[projects['Project ID'] == picks]\n",
    "    correctProj = correctProj.merge(schools, left_on= 'School ID', right_on = 'School ID', how = 'left')\n",
    "    correctProj = correctProj.merge(responseScores, left_on= 'Project ID', right_index = True, how = 'left')\n",
    "    correctProj \n",
    "    \n",
    "    return correctProj\n",
    "\n",
    "def mostRecentDonations(response):\n",
    "    '''\n",
    "    return donor's most recent donation\n",
    "    '''\n",
    "    \n",
    "    return response['Donor_Donations'].sort_values(by = 'Donation Received Date', ascending = False).head()\n",
    "\n",
    "def donor_profile(response):\n",
    "    '''\n",
    "    return profile of donor from donor summary and donor interest\n",
    "    '''\n",
    "    \n",
    "    df = donorSummary.loc[donorSummary['Donor ID'] == response['Donor_ID']]\n",
    "    df = df.merge(donorInterest, left_on = \"Donor ID\", right_index = True, how = 'left')\n",
    "    \n",
    "    return df\n",
    "\n"
   ]
  },
  {
   "cell_type": "markdown",
   "metadata": {},
   "source": [
    "### <a id='4'>4. An example of the recommender output</a>"
   ]
  },
  {
   "cell_type": "markdown",
   "metadata": {},
   "source": [
    "The recommender works extremely well when donor follows prior behaviors, such as donating to the same city, same school, or to the same teacher.  "
   ]
  },
  {
   "cell_type": "code",
   "execution_count": 21,
   "metadata": {},
   "outputs": [],
   "source": [
    "response = recommender('979307a224e6f15f9af7570a0829faf9')"
   ]
  },
  {
   "cell_type": "code",
   "execution_count": 22,
   "metadata": {},
   "outputs": [
    {
     "name": "stdout",
     "output_type": "stream",
     "text": [
      "The project chosen by the donor is ranked: 4.0\n",
      "Total projects in the Project Universe is: 5824\n",
      "Number of project count prior to 2018: 95\n",
      "Number of teacher count prior to 2018: 82\n",
      "Number of school count prior to 2018: 81\n",
      "Number of locations that the donor donated to prior to 2018: 58\n",
      "Donor City: ['Elmhurst, New York']\n",
      "Recommended Project: e259bc69946d180f399c8aadea6acf03\n",
      "Top Project Score: {'school': True, 'homeLoc': False, 'interest': 0.8225762767710585, 'locBonus': 2.2170942405272136, 'teacher': True, 'total': 6.039670517298272, 'priorLoc': True}\n",
      "The donor donated to Project ID: 5b094f7c19c868c6f8ecc33b761e4b21\n",
      "Target Project Score: {'school': True, 'homeLoc': False, 'interest': 0.3635705575011058, 'locBonus': 1.9508709233506414, 'teacher': True, 'total': 5.314441480851747, 'priorLoc': True}\n"
     ]
    }
   ],
   "source": [
    "recommenderAnalysis(response)"
   ]
  },
  {
   "cell_type": "markdown",
   "metadata": {},
   "source": [
    "The recommender underperforms when the donor has a strong preference towards a location, but did not choose to donate in that location.  <br>\n",
    "Seeing this result, the Frequent Location Bonus could be modified to measure the strength of preference to a location, rather than just base on ranking of location.  "
   ]
  },
  {
   "cell_type": "code",
   "execution_count": 23,
   "metadata": {},
   "outputs": [],
   "source": [
    "response = recommender('9deb2badf754468194f0ca69762a243d')"
   ]
  },
  {
   "cell_type": "code",
   "execution_count": 24,
   "metadata": {},
   "outputs": [
    {
     "name": "stdout",
     "output_type": "stream",
     "text": [
      "The project chosen by the donor is ranked: 3307.5\n",
      "Total projects in the Project Universe is: 12652\n",
      "Number of project count prior to 2018: 451\n",
      "Number of teacher count prior to 2018: 239\n",
      "Number of school count prior to 2018: 212\n",
      "Number of locations that the donor donated to prior to 2018: 177\n",
      "Donor City: ['Pompano Beach, Florida']\n",
      "Recommended Project: 1f61c84d8e43bc842fa30ca267855c2a\n",
      "Top Project Score: {'school': True, 'homeLoc': False, 'interest': 0.840678351140776, 'locBonus': 6.798000681519174, 'teacher': True, 'total': 10.63867903265995, 'priorLoc': True}\n",
      "The donor donated to Project ID: 52c56928107598e1bb7c500e92d058f0\n",
      "Target Project Score: {'school': False, 'homeLoc': False, 'interest': 0.4805492958707057, 'locBonus': 0.07082627712678781, 'teacher': False, 'total': 1.5513755729974934, 'priorLoc': True}\n"
     ]
    }
   ],
   "source": [
    "recommenderAnalysis(response)"
   ]
  },
  {
   "cell_type": "markdown",
   "metadata": {},
   "source": [
    "#### Top 5 recommendations from Recommender"
   ]
  },
  {
   "cell_type": "code",
   "execution_count": 25,
   "metadata": {},
   "outputs": [
    {
     "data": {
      "text/html": [
       "<div>\n",
       "<style scoped>\n",
       "    .dataframe tbody tr th:only-of-type {\n",
       "        vertical-align: middle;\n",
       "    }\n",
       "\n",
       "    .dataframe tbody tr th {\n",
       "        vertical-align: top;\n",
       "    }\n",
       "\n",
       "    .dataframe thead th {\n",
       "        text-align: right;\n",
       "    }\n",
       "</style>\n",
       "<table border=\"1\" class=\"dataframe\">\n",
       "  <thead>\n",
       "    <tr style=\"text-align: right;\">\n",
       "      <th></th>\n",
       "      <th>Project ID</th>\n",
       "      <th>School ID</th>\n",
       "      <th>Teacher ID</th>\n",
       "      <th>Teacher Project Posted Sequence</th>\n",
       "      <th>Project Type</th>\n",
       "      <th>Project Subject Category Tree</th>\n",
       "      <th>Project Subject Subcategory Tree</th>\n",
       "      <th>Project Grade Level Category</th>\n",
       "      <th>Project Resource Category</th>\n",
       "      <th>Project Cost</th>\n",
       "      <th>...</th>\n",
       "      <th>Score_School</th>\n",
       "      <th>Score_Teacher</th>\n",
       "      <th>Score_homeLoc</th>\n",
       "      <th>Score_priorLoc</th>\n",
       "      <th>byLocation rank</th>\n",
       "      <th>byLocation scale</th>\n",
       "      <th>Score_Total_Unadjusted</th>\n",
       "      <th>location_Premium</th>\n",
       "      <th>Score_Total</th>\n",
       "      <th>Rank</th>\n",
       "    </tr>\n",
       "  </thead>\n",
       "  <tbody>\n",
       "    <tr>\n",
       "      <th>0</th>\n",
       "      <td>d447f193ee34d5318856a0718b739221</td>\n",
       "      <td>94b4c73e5a477f14551375df249bee90</td>\n",
       "      <td>df40c0be9e44bfa1bc6f005e9c46bcaa</td>\n",
       "      <td>161.0</td>\n",
       "      <td>Professional Development</td>\n",
       "      <td>Applied Learning, Music &amp; The Arts</td>\n",
       "      <td>Other, Visual Arts</td>\n",
       "      <td>Grades 3-5</td>\n",
       "      <td>Instructional Technology</td>\n",
       "      <td>392.329987</td>\n",
       "      <td>...</td>\n",
       "      <td>True</td>\n",
       "      <td>True</td>\n",
       "      <td>False</td>\n",
       "      <td>True</td>\n",
       "      <td>1.0</td>\n",
       "      <td>1.77</td>\n",
       "      <td>3.718483</td>\n",
       "      <td>6.581716</td>\n",
       "      <td>10.300199</td>\n",
       "      <td>2.0</td>\n",
       "    </tr>\n",
       "    <tr>\n",
       "      <th>1</th>\n",
       "      <td>afd27a9f0d14de227ce56e198ae9961e</td>\n",
       "      <td>94b4c73e5a477f14551375df249bee90</td>\n",
       "      <td>df40c0be9e44bfa1bc6f005e9c46bcaa</td>\n",
       "      <td>164.0</td>\n",
       "      <td>Teacher-Led</td>\n",
       "      <td>Applied Learning, Music &amp; The Arts</td>\n",
       "      <td>Character Education, Visual Arts</td>\n",
       "      <td>Grades 3-5</td>\n",
       "      <td>Instructional Technology</td>\n",
       "      <td>388.470001</td>\n",
       "      <td>...</td>\n",
       "      <td>True</td>\n",
       "      <td>True</td>\n",
       "      <td>False</td>\n",
       "      <td>True</td>\n",
       "      <td>1.0</td>\n",
       "      <td>1.77</td>\n",
       "      <td>3.691455</td>\n",
       "      <td>6.533875</td>\n",
       "      <td>10.225329</td>\n",
       "      <td>4.0</td>\n",
       "    </tr>\n",
       "    <tr>\n",
       "      <th>2</th>\n",
       "      <td>6f4cbb45ebb4a18be013003ca6fc7b07</td>\n",
       "      <td>94b4c73e5a477f14551375df249bee90</td>\n",
       "      <td>df40c0be9e44bfa1bc6f005e9c46bcaa</td>\n",
       "      <td>166.0</td>\n",
       "      <td>Teacher-Led</td>\n",
       "      <td>Literacy &amp; Language</td>\n",
       "      <td>ESL, Literature &amp; Writing</td>\n",
       "      <td>Grades 3-5</td>\n",
       "      <td>Educational Kits &amp; Games</td>\n",
       "      <td>467.850006</td>\n",
       "      <td>...</td>\n",
       "      <td>True</td>\n",
       "      <td>True</td>\n",
       "      <td>False</td>\n",
       "      <td>True</td>\n",
       "      <td>1.0</td>\n",
       "      <td>1.77</td>\n",
       "      <td>3.619047</td>\n",
       "      <td>6.405712</td>\n",
       "      <td>10.024759</td>\n",
       "      <td>5.0</td>\n",
       "    </tr>\n",
       "    <tr>\n",
       "      <th>3</th>\n",
       "      <td>1f61c84d8e43bc842fa30ca267855c2a</td>\n",
       "      <td>94b4c73e5a477f14551375df249bee90</td>\n",
       "      <td>df40c0be9e44bfa1bc6f005e9c46bcaa</td>\n",
       "      <td>167.0</td>\n",
       "      <td>Teacher-Led</td>\n",
       "      <td>Literacy &amp; Language, Music &amp; The Arts</td>\n",
       "      <td>Literacy, Visual Arts</td>\n",
       "      <td>Grades 3-5</td>\n",
       "      <td>Art Supplies</td>\n",
       "      <td>213.279999</td>\n",
       "      <td>...</td>\n",
       "      <td>True</td>\n",
       "      <td>True</td>\n",
       "      <td>False</td>\n",
       "      <td>True</td>\n",
       "      <td>1.0</td>\n",
       "      <td>1.77</td>\n",
       "      <td>3.840678</td>\n",
       "      <td>6.798001</td>\n",
       "      <td>10.638679</td>\n",
       "      <td>1.0</td>\n",
       "    </tr>\n",
       "    <tr>\n",
       "      <th>4</th>\n",
       "      <td>e99bef61782affa0ea9e7fe670bd54e6</td>\n",
       "      <td>94b4c73e5a477f14551375df249bee90</td>\n",
       "      <td>df40c0be9e44bfa1bc6f005e9c46bcaa</td>\n",
       "      <td>168.0</td>\n",
       "      <td>Teacher-Led</td>\n",
       "      <td>Applied Learning, Music &amp; The Arts</td>\n",
       "      <td>Early Development, Visual Arts</td>\n",
       "      <td>Grades PreK-2</td>\n",
       "      <td>Art Supplies</td>\n",
       "      <td>307.660004</td>\n",
       "      <td>...</td>\n",
       "      <td>True</td>\n",
       "      <td>True</td>\n",
       "      <td>False</td>\n",
       "      <td>True</td>\n",
       "      <td>1.0</td>\n",
       "      <td>1.77</td>\n",
       "      <td>3.707504</td>\n",
       "      <td>6.562282</td>\n",
       "      <td>10.269786</td>\n",
       "      <td>3.0</td>\n",
       "    </tr>\n",
       "  </tbody>\n",
       "</table>\n",
       "<p>5 rows × 37 columns</p>\n",
       "</div>"
      ],
      "text/plain": [
       "                         Project ID                         School ID  \\\n",
       "0  d447f193ee34d5318856a0718b739221  94b4c73e5a477f14551375df249bee90   \n",
       "1  afd27a9f0d14de227ce56e198ae9961e  94b4c73e5a477f14551375df249bee90   \n",
       "2  6f4cbb45ebb4a18be013003ca6fc7b07  94b4c73e5a477f14551375df249bee90   \n",
       "3  1f61c84d8e43bc842fa30ca267855c2a  94b4c73e5a477f14551375df249bee90   \n",
       "4  e99bef61782affa0ea9e7fe670bd54e6  94b4c73e5a477f14551375df249bee90   \n",
       "\n",
       "                         Teacher ID  Teacher Project Posted Sequence  \\\n",
       "0  df40c0be9e44bfa1bc6f005e9c46bcaa                            161.0   \n",
       "1  df40c0be9e44bfa1bc6f005e9c46bcaa                            164.0   \n",
       "2  df40c0be9e44bfa1bc6f005e9c46bcaa                            166.0   \n",
       "3  df40c0be9e44bfa1bc6f005e9c46bcaa                            167.0   \n",
       "4  df40c0be9e44bfa1bc6f005e9c46bcaa                            168.0   \n",
       "\n",
       "               Project Type          Project Subject Category Tree  \\\n",
       "0  Professional Development     Applied Learning, Music & The Arts   \n",
       "1               Teacher-Led     Applied Learning, Music & The Arts   \n",
       "2               Teacher-Led                    Literacy & Language   \n",
       "3               Teacher-Led  Literacy & Language, Music & The Arts   \n",
       "4               Teacher-Led     Applied Learning, Music & The Arts   \n",
       "\n",
       "   Project Subject Subcategory Tree Project Grade Level Category  \\\n",
       "0                Other, Visual Arts                   Grades 3-5   \n",
       "1  Character Education, Visual Arts                   Grades 3-5   \n",
       "2         ESL, Literature & Writing                   Grades 3-5   \n",
       "3             Literacy, Visual Arts                   Grades 3-5   \n",
       "4    Early Development, Visual Arts                Grades PreK-2   \n",
       "\n",
       "  Project Resource Category  Project Cost ...  Score_School Score_Teacher  \\\n",
       "0  Instructional Technology    392.329987 ...          True          True   \n",
       "1  Instructional Technology    388.470001 ...          True          True   \n",
       "2  Educational Kits & Games    467.850006 ...          True          True   \n",
       "3              Art Supplies    213.279999 ...          True          True   \n",
       "4              Art Supplies    307.660004 ...          True          True   \n",
       "\n",
       "  Score_homeLoc Score_priorLoc byLocation rank byLocation scale  \\\n",
       "0         False           True             1.0             1.77   \n",
       "1         False           True             1.0             1.77   \n",
       "2         False           True             1.0             1.77   \n",
       "3         False           True             1.0             1.77   \n",
       "4         False           True             1.0             1.77   \n",
       "\n",
       "  Score_Total_Unadjusted  location_Premium Score_Total Rank  \n",
       "0               3.718483          6.581716   10.300199  2.0  \n",
       "1               3.691455          6.533875   10.225329  4.0  \n",
       "2               3.619047          6.405712   10.024759  5.0  \n",
       "3               3.840678          6.798001   10.638679  1.0  \n",
       "4               3.707504          6.562282   10.269786  3.0  \n",
       "\n",
       "[5 rows x 37 columns]"
      ]
     },
     "execution_count": 25,
     "metadata": {},
     "output_type": "execute_result"
    }
   ],
   "source": [
    "top5Recommendations(response)"
   ]
  },
  {
   "cell_type": "markdown",
   "metadata": {},
   "source": [
    "#### Most recent projects that donor donated to"
   ]
  },
  {
   "cell_type": "code",
   "execution_count": 26,
   "metadata": {},
   "outputs": [
    {
     "data": {
      "text/html": [
       "<div>\n",
       "<style scoped>\n",
       "    .dataframe tbody tr th:only-of-type {\n",
       "        vertical-align: middle;\n",
       "    }\n",
       "\n",
       "    .dataframe tbody tr th {\n",
       "        vertical-align: top;\n",
       "    }\n",
       "\n",
       "    .dataframe thead th {\n",
       "        text-align: right;\n",
       "    }\n",
       "</style>\n",
       "<table border=\"1\" class=\"dataframe\">\n",
       "  <thead>\n",
       "    <tr style=\"text-align: right;\">\n",
       "      <th></th>\n",
       "      <th>Project ID</th>\n",
       "      <th>Donation ID</th>\n",
       "      <th>Donor ID</th>\n",
       "      <th>Donation Included Optional Donation</th>\n",
       "      <th>Donation Amount</th>\n",
       "      <th>Donor Cart Sequence</th>\n",
       "      <th>Donation Received Date</th>\n",
       "      <th>Donation_Received_Year</th>\n",
       "      <th>Donation_Received_Month</th>\n",
       "      <th>Donation_Received_Day</th>\n",
       "      <th>...</th>\n",
       "      <th>School Metro Type</th>\n",
       "      <th>School Percentage Free Lunch</th>\n",
       "      <th>School State</th>\n",
       "      <th>School Zip</th>\n",
       "      <th>School City</th>\n",
       "      <th>School County</th>\n",
       "      <th>School District</th>\n",
       "      <th>mapIndex_y</th>\n",
       "      <th>School_Lon</th>\n",
       "      <th>School_Lat</th>\n",
       "    </tr>\n",
       "  </thead>\n",
       "  <tbody>\n",
       "    <tr>\n",
       "      <th>282</th>\n",
       "      <td>a75ce158450dced6744d5f5557418a66</td>\n",
       "      <td>10735913ccd3d6f9eb46fd4e80b04bad</td>\n",
       "      <td>9deb2badf754468194f0ca69762a243d</td>\n",
       "      <td>True</td>\n",
       "      <td>5.0</td>\n",
       "      <td>370</td>\n",
       "      <td>2017-12-31 17:21:11</td>\n",
       "      <td>2017</td>\n",
       "      <td>12</td>\n",
       "      <td>31</td>\n",
       "      <td>...</td>\n",
       "      <td>suburban</td>\n",
       "      <td>63.0</td>\n",
       "      <td>Florida</td>\n",
       "      <td>33067</td>\n",
       "      <td>Coral Springs</td>\n",
       "      <td>Broward</td>\n",
       "      <td>Broward Co Public Schools</td>\n",
       "      <td>Coral Springs, Florida, USA</td>\n",
       "      <td>-80.270604</td>\n",
       "      <td>26.271192</td>\n",
       "    </tr>\n",
       "    <tr>\n",
       "      <th>268</th>\n",
       "      <td>9d0705e02b6dda69db310f384a196bd2</td>\n",
       "      <td>27aeb75ee9e7a01c53988729b065425b</td>\n",
       "      <td>9deb2badf754468194f0ca69762a243d</td>\n",
       "      <td>True</td>\n",
       "      <td>5.0</td>\n",
       "      <td>369</td>\n",
       "      <td>2017-12-31 17:19:25</td>\n",
       "      <td>2017</td>\n",
       "      <td>12</td>\n",
       "      <td>31</td>\n",
       "      <td>...</td>\n",
       "      <td>suburban</td>\n",
       "      <td>63.0</td>\n",
       "      <td>Florida</td>\n",
       "      <td>33067</td>\n",
       "      <td>Coral Springs</td>\n",
       "      <td>Broward</td>\n",
       "      <td>Broward Co Public Schools</td>\n",
       "      <td>Coral Springs, Florida, USA</td>\n",
       "      <td>-80.270604</td>\n",
       "      <td>26.271192</td>\n",
       "    </tr>\n",
       "    <tr>\n",
       "      <th>31</th>\n",
       "      <td>15784745c4258bf42eb5abcb1813ddd9</td>\n",
       "      <td>4c43da9dbaee4eef8315fc126c118e8f</td>\n",
       "      <td>9deb2badf754468194f0ca69762a243d</td>\n",
       "      <td>True</td>\n",
       "      <td>2.0</td>\n",
       "      <td>368</td>\n",
       "      <td>2017-12-30 14:11:34</td>\n",
       "      <td>2017</td>\n",
       "      <td>12</td>\n",
       "      <td>30</td>\n",
       "      <td>...</td>\n",
       "      <td>suburban</td>\n",
       "      <td>67.0</td>\n",
       "      <td>Georgia</td>\n",
       "      <td>31407</td>\n",
       "      <td>Prt Wentworth</td>\n",
       "      <td>Chatham</td>\n",
       "      <td>Savannah-Chatham Co Sch Dist</td>\n",
       "      <td>Prt Wentworth, Georgia, USA</td>\n",
       "      <td>-81.163168</td>\n",
       "      <td>32.149092</td>\n",
       "    </tr>\n",
       "    <tr>\n",
       "      <th>308</th>\n",
       "      <td>ba6ffa6289df53a8671a775bc7f3285a</td>\n",
       "      <td>efc71988d5e5256665f2aa0b88039238</td>\n",
       "      <td>9deb2badf754468194f0ca69762a243d</td>\n",
       "      <td>True</td>\n",
       "      <td>1.0</td>\n",
       "      <td>367</td>\n",
       "      <td>2017-03-12 12:52:48</td>\n",
       "      <td>2017</td>\n",
       "      <td>3</td>\n",
       "      <td>12</td>\n",
       "      <td>...</td>\n",
       "      <td>urban</td>\n",
       "      <td>76.0</td>\n",
       "      <td>New York</td>\n",
       "      <td>11214</td>\n",
       "      <td>New York City</td>\n",
       "      <td>Kings (Brooklyn)</td>\n",
       "      <td>New York City Dept Of Ed</td>\n",
       "      <td>New York City, New York, USA</td>\n",
       "      <td>-74.002600</td>\n",
       "      <td>40.604233</td>\n",
       "    </tr>\n",
       "    <tr>\n",
       "      <th>334</th>\n",
       "      <td>c7888727622f0b5d793b64ed330e76fe</td>\n",
       "      <td>54543e9ad2f92800d35a69676281dfe8</td>\n",
       "      <td>9deb2badf754468194f0ca69762a243d</td>\n",
       "      <td>True</td>\n",
       "      <td>10.0</td>\n",
       "      <td>366</td>\n",
       "      <td>2017-01-22 14:07:41</td>\n",
       "      <td>2017</td>\n",
       "      <td>1</td>\n",
       "      <td>22</td>\n",
       "      <td>...</td>\n",
       "      <td>suburban</td>\n",
       "      <td>63.0</td>\n",
       "      <td>Florida</td>\n",
       "      <td>33067</td>\n",
       "      <td>Coral Springs</td>\n",
       "      <td>Broward</td>\n",
       "      <td>Broward Co Public Schools</td>\n",
       "      <td>Coral Springs, Florida, USA</td>\n",
       "      <td>-80.270604</td>\n",
       "      <td>26.271192</td>\n",
       "    </tr>\n",
       "  </tbody>\n",
       "</table>\n",
       "<p>5 rows × 49 columns</p>\n",
       "</div>"
      ],
      "text/plain": [
       "                           Project ID                       Donation ID  \\\n",
       "282  a75ce158450dced6744d5f5557418a66  10735913ccd3d6f9eb46fd4e80b04bad   \n",
       "268  9d0705e02b6dda69db310f384a196bd2  27aeb75ee9e7a01c53988729b065425b   \n",
       "31   15784745c4258bf42eb5abcb1813ddd9  4c43da9dbaee4eef8315fc126c118e8f   \n",
       "308  ba6ffa6289df53a8671a775bc7f3285a  efc71988d5e5256665f2aa0b88039238   \n",
       "334  c7888727622f0b5d793b64ed330e76fe  54543e9ad2f92800d35a69676281dfe8   \n",
       "\n",
       "                             Donor ID  Donation Included Optional Donation  \\\n",
       "282  9deb2badf754468194f0ca69762a243d                                 True   \n",
       "268  9deb2badf754468194f0ca69762a243d                                 True   \n",
       "31   9deb2badf754468194f0ca69762a243d                                 True   \n",
       "308  9deb2badf754468194f0ca69762a243d                                 True   \n",
       "334  9deb2badf754468194f0ca69762a243d                                 True   \n",
       "\n",
       "     Donation Amount  Donor Cart Sequence Donation Received Date  \\\n",
       "282              5.0                  370    2017-12-31 17:21:11   \n",
       "268              5.0                  369    2017-12-31 17:19:25   \n",
       "31               2.0                  368    2017-12-30 14:11:34   \n",
       "308              1.0                  367    2017-03-12 12:52:48   \n",
       "334             10.0                  366    2017-01-22 14:07:41   \n",
       "\n",
       "     Donation_Received_Year  Donation_Received_Month  Donation_Received_Day  \\\n",
       "282                    2017                       12                     31   \n",
       "268                    2017                       12                     31   \n",
       "31                     2017                       12                     30   \n",
       "308                    2017                        3                     12   \n",
       "334                    2017                        1                     22   \n",
       "\n",
       "       ...     School Metro Type School Percentage Free Lunch  School State  \\\n",
       "282    ...              suburban                         63.0       Florida   \n",
       "268    ...              suburban                         63.0       Florida   \n",
       "31     ...              suburban                         67.0       Georgia   \n",
       "308    ...                 urban                         76.0      New York   \n",
       "334    ...              suburban                         63.0       Florida   \n",
       "\n",
       "    School Zip    School City     School County               School District  \\\n",
       "282      33067  Coral Springs           Broward     Broward Co Public Schools   \n",
       "268      33067  Coral Springs           Broward     Broward Co Public Schools   \n",
       "31       31407  Prt Wentworth           Chatham  Savannah-Chatham Co Sch Dist   \n",
       "308      11214  New York City  Kings (Brooklyn)      New York City Dept Of Ed   \n",
       "334      33067  Coral Springs           Broward     Broward Co Public Schools   \n",
       "\n",
       "                       mapIndex_y School_Lon School_Lat  \n",
       "282   Coral Springs, Florida, USA -80.270604  26.271192  \n",
       "268   Coral Springs, Florida, USA -80.270604  26.271192  \n",
       "31    Prt Wentworth, Georgia, USA -81.163168  32.149092  \n",
       "308  New York City, New York, USA -74.002600  40.604233  \n",
       "334   Coral Springs, Florida, USA -80.270604  26.271192  \n",
       "\n",
       "[5 rows x 49 columns]"
      ]
     },
     "execution_count": 26,
     "metadata": {},
     "output_type": "execute_result"
    }
   ],
   "source": [
    "mostRecentDonations(response)"
   ]
  },
  {
   "cell_type": "markdown",
   "metadata": {},
   "source": [
    "#### Donor Profile"
   ]
  },
  {
   "cell_type": "code",
   "execution_count": 27,
   "metadata": {},
   "outputs": [
    {
     "data": {
      "text/html": [
       "<div>\n",
       "<style scoped>\n",
       "    .dataframe tbody tr th:only-of-type {\n",
       "        vertical-align: middle;\n",
       "    }\n",
       "\n",
       "    .dataframe tbody tr th {\n",
       "        vertical-align: top;\n",
       "    }\n",
       "\n",
       "    .dataframe thead th {\n",
       "        text-align: right;\n",
       "    }\n",
       "</style>\n",
       "<table border=\"1\" class=\"dataframe\">\n",
       "  <thead>\n",
       "    <tr style=\"text-align: right;\">\n",
       "      <th></th>\n",
       "      <th>Donor ID</th>\n",
       "      <th>num_proj</th>\n",
       "      <th>num_donation</th>\n",
       "      <th>num_cart</th>\n",
       "      <th>donation_median</th>\n",
       "      <th>donation_mean</th>\n",
       "      <th>donation_sum</th>\n",
       "      <th>donation_std</th>\n",
       "      <th>Teacher ID_count</th>\n",
       "      <th>School ID_count</th>\n",
       "      <th>...</th>\n",
       "      <th>ProjCat_Visual Arts</th>\n",
       "      <th>ProjCat_Warmth, Care &amp; Hunger</th>\n",
       "      <th>Dist_0</th>\n",
       "      <th>Dist_1-5</th>\n",
       "      <th>Dist_6-10</th>\n",
       "      <th>Dist_11-20</th>\n",
       "      <th>Dist_21-50</th>\n",
       "      <th>Dist_51-100</th>\n",
       "      <th>Dist_&gt;100</th>\n",
       "      <th>dist</th>\n",
       "    </tr>\n",
       "    <tr>\n",
       "      <th>Donor ID</th>\n",
       "      <th></th>\n",
       "      <th></th>\n",
       "      <th></th>\n",
       "      <th></th>\n",
       "      <th></th>\n",
       "      <th></th>\n",
       "      <th></th>\n",
       "      <th></th>\n",
       "      <th></th>\n",
       "      <th></th>\n",
       "      <th></th>\n",
       "      <th></th>\n",
       "      <th></th>\n",
       "      <th></th>\n",
       "      <th></th>\n",
       "      <th></th>\n",
       "      <th></th>\n",
       "      <th></th>\n",
       "      <th></th>\n",
       "      <th></th>\n",
       "      <th></th>\n",
       "    </tr>\n",
       "  </thead>\n",
       "  <tbody>\n",
       "    <tr>\n",
       "      <th>9deb2badf754468194f0ca69762a243d</th>\n",
       "      <td>9deb2badf754468194f0ca69762a243d</td>\n",
       "      <td>370</td>\n",
       "      <td>349</td>\n",
       "      <td>451</td>\n",
       "      <td>1.0</td>\n",
       "      <td>1.520732</td>\n",
       "      <td>685.849976</td>\n",
       "      <td>2.02952</td>\n",
       "      <td>239</td>\n",
       "      <td>212</td>\n",
       "      <td>...</td>\n",
       "      <td>0.169133</td>\n",
       "      <td>0.0</td>\n",
       "      <td>0.0</td>\n",
       "      <td>0.0</td>\n",
       "      <td>0.288693</td>\n",
       "      <td>0.0</td>\n",
       "      <td>0.013122</td>\n",
       "      <td>0.001458</td>\n",
       "      <td>0.696727</td>\n",
       "      <td>889.140976</td>\n",
       "    </tr>\n",
       "  </tbody>\n",
       "</table>\n",
       "<p>1 rows × 97 columns</p>\n",
       "</div>"
      ],
      "text/plain": [
       "                                                          Donor ID  num_proj  \\\n",
       "Donor ID                                                                       \n",
       "9deb2badf754468194f0ca69762a243d  9deb2badf754468194f0ca69762a243d       370   \n",
       "\n",
       "                                  num_donation  num_cart  donation_median  \\\n",
       "Donor ID                                                                    \n",
       "9deb2badf754468194f0ca69762a243d           349       451              1.0   \n",
       "\n",
       "                                  donation_mean  donation_sum  donation_std  \\\n",
       "Donor ID                                                                      \n",
       "9deb2badf754468194f0ca69762a243d       1.520732    685.849976       2.02952   \n",
       "\n",
       "                                  Teacher ID_count  School ID_count  \\\n",
       "Donor ID                                                              \n",
       "9deb2badf754468194f0ca69762a243d               239              212   \n",
       "\n",
       "                                     ...      ProjCat_Visual Arts  \\\n",
       "Donor ID                             ...                            \n",
       "9deb2badf754468194f0ca69762a243d     ...                 0.169133   \n",
       "\n",
       "                                  ProjCat_Warmth, Care & Hunger  Dist_0  \\\n",
       "Donor ID                                                                  \n",
       "9deb2badf754468194f0ca69762a243d                            0.0     0.0   \n",
       "\n",
       "                                  Dist_1-5  Dist_6-10  Dist_11-20  Dist_21-50  \\\n",
       "Donor ID                                                                        \n",
       "9deb2badf754468194f0ca69762a243d       0.0   0.288693         0.0    0.013122   \n",
       "\n",
       "                                  Dist_51-100  Dist_>100        dist  \n",
       "Donor ID                                                              \n",
       "9deb2badf754468194f0ca69762a243d     0.001458   0.696727  889.140976  \n",
       "\n",
       "[1 rows x 97 columns]"
      ]
     },
     "execution_count": 27,
     "metadata": {},
     "output_type": "execute_result"
    }
   ],
   "source": [
    "donor_profile(response)"
   ]
  },
  {
   "cell_type": "markdown",
   "metadata": {},
   "source": [
    "### <a id='5'>5. Recommender Performance</a>"
   ]
  },
  {
   "cell_type": "code",
   "execution_count": 28,
   "metadata": {},
   "outputs": [],
   "source": [
    "def accuracy(test_ID, \n",
    "             numSample, \n",
    "             donations_prior = donations_prior,\n",
    "             donations_2018 = donations_2018, \n",
    "             donors = donors, \n",
    "             projects = projects, \n",
    "             schools = schools, \n",
    "             donorFeatureMatrix = donorFeatureMatrix, \n",
    "             projectFeatures = projectFeatures):\n",
    "    \n",
    "    donorDonations_all = merge_data(test_ID, donations_prior)\n",
    "    recommendations = pd.DataFrame(columns=['Donor ID', 'Donor Project ID','Ranking', \n",
    "                                            'Filter Size', 'Prior Donation Count', 'Prior Location Count'])\n",
    "    IDs = pd.Series(test_ID).sample(n= numSample, random_state = 212)\n",
    "    recommendations['Donor ID'] = IDs\n",
    "    recommendations = recommendations.set_index('Donor ID', drop = False)\n",
    "    i = 1\n",
    "    \n",
    "    for ID in IDs:\n",
    "        #print('Processing #:', i)\n",
    "        response = recommender(ID, donorDonations_all)\n",
    "        recommendations.loc[ID, 'Ranking'] = response['Ranking']\n",
    "        recommendations.loc[ID, 'Donor Project ID'] = response['Donor_Project_ID']\n",
    "        recommendations.loc[ID, 'Filter Size'] = response['Filter_Size']\n",
    "        recommendations.loc[ID, 'Prior Donation Count'] = len(response['Donor_Donations'])\n",
    "        recommendations.loc[ID, 'Prior Location Count'] = response['Prior_Location_Count']\n",
    "        \n",
    "        i+=1\n",
    "    return recommendations"
   ]
  },
  {
   "cell_type": "code",
   "execution_count": 29,
   "metadata": {},
   "outputs": [],
   "source": [
    "recommendations = accuracy(test_ID, 5000)"
   ]
  },
  {
   "cell_type": "code",
   "execution_count": 30,
   "metadata": {},
   "outputs": [
    {
     "data": {
      "text/html": [
       "<div>\n",
       "<style scoped>\n",
       "    .dataframe tbody tr th:only-of-type {\n",
       "        vertical-align: middle;\n",
       "    }\n",
       "\n",
       "    .dataframe tbody tr th {\n",
       "        vertical-align: top;\n",
       "    }\n",
       "\n",
       "    .dataframe thead th {\n",
       "        text-align: right;\n",
       "    }\n",
       "</style>\n",
       "<table border=\"1\" class=\"dataframe\">\n",
       "  <thead>\n",
       "    <tr style=\"text-align: right;\">\n",
       "      <th></th>\n",
       "      <th>Donor ID</th>\n",
       "      <th>Donor Project ID</th>\n",
       "      <th>Ranking</th>\n",
       "      <th>Filter Size</th>\n",
       "      <th>Prior Donation Count</th>\n",
       "      <th>Prior Location Count</th>\n",
       "    </tr>\n",
       "    <tr>\n",
       "      <th>Donor ID</th>\n",
       "      <th></th>\n",
       "      <th></th>\n",
       "      <th></th>\n",
       "      <th></th>\n",
       "      <th></th>\n",
       "      <th></th>\n",
       "    </tr>\n",
       "  </thead>\n",
       "  <tbody>\n",
       "    <tr>\n",
       "      <th>64be7ffabdd4b047aebe0f990e8a415a</th>\n",
       "      <td>64be7ffabdd4b047aebe0f990e8a415a</td>\n",
       "      <td>18596642dd57e77f8a9daf050368c5a1</td>\n",
       "      <td>1.5</td>\n",
       "      <td>160</td>\n",
       "      <td>4</td>\n",
       "      <td>1</td>\n",
       "    </tr>\n",
       "    <tr>\n",
       "      <th>757f10f202af3bd7f160abf94aa9d1aa</th>\n",
       "      <td>757f10f202af3bd7f160abf94aa9d1aa</td>\n",
       "      <td>4f1f04d0607a1e8c3da4beae11f4df2a</td>\n",
       "      <td>9</td>\n",
       "      <td>64</td>\n",
       "      <td>1</td>\n",
       "      <td>1</td>\n",
       "    </tr>\n",
       "    <tr>\n",
       "      <th>745e3016759447e6722cbb9133987eeb</th>\n",
       "      <td>745e3016759447e6722cbb9133987eeb</td>\n",
       "      <td>5eff55b00cd4f53040d7ce6fc482e0d3</td>\n",
       "      <td>NaN</td>\n",
       "      <td>2734</td>\n",
       "      <td>7</td>\n",
       "      <td>3</td>\n",
       "    </tr>\n",
       "    <tr>\n",
       "      <th>afc36e80c10e614e9d5fa5de672ced01</th>\n",
       "      <td>afc36e80c10e614e9d5fa5de672ced01</td>\n",
       "      <td>2aac32a2c08f71ad958ef75350554708</td>\n",
       "      <td>1</td>\n",
       "      <td>103</td>\n",
       "      <td>10</td>\n",
       "      <td>3</td>\n",
       "    </tr>\n",
       "    <tr>\n",
       "      <th>cb2968e03212aeffd9be8517070c04d6</th>\n",
       "      <td>cb2968e03212aeffd9be8517070c04d6</td>\n",
       "      <td>344d0ba3b36c7e32ad97df126cbc7a36</td>\n",
       "      <td>1</td>\n",
       "      <td>190</td>\n",
       "      <td>8</td>\n",
       "      <td>1</td>\n",
       "    </tr>\n",
       "  </tbody>\n",
       "</table>\n",
       "</div>"
      ],
      "text/plain": [
       "                                                          Donor ID  \\\n",
       "Donor ID                                                             \n",
       "64be7ffabdd4b047aebe0f990e8a415a  64be7ffabdd4b047aebe0f990e8a415a   \n",
       "757f10f202af3bd7f160abf94aa9d1aa  757f10f202af3bd7f160abf94aa9d1aa   \n",
       "745e3016759447e6722cbb9133987eeb  745e3016759447e6722cbb9133987eeb   \n",
       "afc36e80c10e614e9d5fa5de672ced01  afc36e80c10e614e9d5fa5de672ced01   \n",
       "cb2968e03212aeffd9be8517070c04d6  cb2968e03212aeffd9be8517070c04d6   \n",
       "\n",
       "                                                  Donor Project ID Ranking  \\\n",
       "Donor ID                                                                     \n",
       "64be7ffabdd4b047aebe0f990e8a415a  18596642dd57e77f8a9daf050368c5a1     1.5   \n",
       "757f10f202af3bd7f160abf94aa9d1aa  4f1f04d0607a1e8c3da4beae11f4df2a       9   \n",
       "745e3016759447e6722cbb9133987eeb  5eff55b00cd4f53040d7ce6fc482e0d3     NaN   \n",
       "afc36e80c10e614e9d5fa5de672ced01  2aac32a2c08f71ad958ef75350554708       1   \n",
       "cb2968e03212aeffd9be8517070c04d6  344d0ba3b36c7e32ad97df126cbc7a36       1   \n",
       "\n",
       "                                 Filter Size Prior Donation Count  \\\n",
       "Donor ID                                                            \n",
       "64be7ffabdd4b047aebe0f990e8a415a         160                    4   \n",
       "757f10f202af3bd7f160abf94aa9d1aa          64                    1   \n",
       "745e3016759447e6722cbb9133987eeb        2734                    7   \n",
       "afc36e80c10e614e9d5fa5de672ced01         103                   10   \n",
       "cb2968e03212aeffd9be8517070c04d6         190                    8   \n",
       "\n",
       "                                 Prior Location Count  \n",
       "Donor ID                                               \n",
       "64be7ffabdd4b047aebe0f990e8a415a                    1  \n",
       "757f10f202af3bd7f160abf94aa9d1aa                    1  \n",
       "745e3016759447e6722cbb9133987eeb                    3  \n",
       "afc36e80c10e614e9d5fa5de672ced01                    3  \n",
       "cb2968e03212aeffd9be8517070c04d6                    1  "
      ]
     },
     "execution_count": 30,
     "metadata": {},
     "output_type": "execute_result"
    }
   ],
   "source": [
    "recommendations.head()"
   ]
  },
  {
   "cell_type": "code",
   "execution_count": 31,
   "metadata": {},
   "outputs": [],
   "source": [
    "#recommendations = pd.read_pickle('recommendations_1000.pkl')"
   ]
  },
  {
   "cell_type": "code",
   "execution_count": 32,
   "metadata": {},
   "outputs": [],
   "source": [
    "recommendations.to_pickle('recommendations_1000.pkl')"
   ]
  },
  {
   "cell_type": "markdown",
   "metadata": {},
   "source": [
    "###  Filtering projects using donor's previous donation history based on home city and school cities captured the future donation 81% of the times."
   ]
  },
  {
   "cell_type": "code",
   "execution_count": 33,
   "metadata": {},
   "outputs": [
    {
     "name": "stdout",
     "output_type": "stream",
     "text": [
      "% of time the filter captured the correct project: 0.8196\n"
     ]
    }
   ],
   "source": [
    "print('% of time the filter captured the correct project:', recommendations['Ranking'].notnull().sum()/len(recommendations))"
   ]
  },
  {
   "cell_type": "markdown",
   "metadata": {},
   "source": [
    "### The recommender correctly ranked the #1 project approximately 35% of the times."
   ]
  },
  {
   "cell_type": "code",
   "execution_count": 34,
   "metadata": {},
   "outputs": [
    {
     "name": "stdout",
     "output_type": "stream",
     "text": [
      "% Hit in top 1 Recommendations: 34.239999999999995\n",
      "% Hit in top 5 Recommendations: 55.459999999999994\n",
      "% Hit in top 10 Recommendations: 61.279999999999994\n",
      "% Hit in top 25 Recommendations: 67.67999999999999\n"
     ]
    },
    {
     "data": {
      "image/png": "[encoded data removed]",
      "text/plain": [
       "<matplotlib.figure.Figure at 0x19f0479be10>"
      ]
     },
     "metadata": {},
     "output_type": "display_data"
    }
   ],
   "source": [
    "chartData = recommendations.copy()\n",
    "chartData['Ranking'] = chartData['Ranking'].astype('Float32')\n",
    "chartData['Ranking Range'] = pd.cut(chartData['Ranking'], bins = [0, 1, 5, 10, 25, 50, 100, 70000], labels = ['1', '2-5', '6-10', '11-25', '26-50', '51-100', '>100'])\n",
    "chartData['Ranking Range']= chartData['Ranking Range'].astype(str)\n",
    "chartData = chartData.groupby('Ranking Range').agg('count')\n",
    "chartData['Frequency'] = chartData['Donor ID']/chartData['Donor ID'].sum()*100\n",
    "chartData = chartData.reindex(index = ['1', '2-5', '6-10', '11-25', '26-50', '51-100', '>100', 'nan'])\n",
    "\n",
    "g =sns.barplot(chartData.index, chartData['Frequency'])\n",
    "g.set(xlabel=\"Recommender's Ranking\", ylabel='Frequency %', title = \"Recommender's ranking of donor's chosen Project\")\n",
    "\n",
    "print('% Hit in top 1 Recommendations:', chartData['Frequency'][0:1].sum() )\n",
    "print('% Hit in top 5 Recommendations:', chartData['Frequency'][0:2].sum() )\n",
    "print('% Hit in top 10 Recommendations:', chartData['Frequency'][0:3].sum() )\n",
    "print('% Hit in top 25 Recommendations:', chartData['Frequency'][0:4].sum() )"
   ]
  },
  {
   "cell_type": "markdown",
   "metadata": {},
   "source": [
    "### <a id='6'>6. Causes of underformance and how to improve the model?</a>"
   ]
  },
  {
   "cell_type": "markdown",
   "metadata": {},
   "source": [
    "#### We will first look at situations where the recommender fails to include the target project in the Project Universe"
   ]
  },
  {
   "cell_type": "code",
   "execution_count": 35,
   "metadata": {},
   "outputs": [],
   "source": [
    "recommendations['notInFilter'] = recommendations['Ranking'].isnull()\n",
    "cols = ['Filter Size', 'Prior Donation Count', 'Prior Location Count', 'notInFilter']\n",
    "recommendations[cols] = recommendations[cols].astype('float32')\n",
    "donorSummary = donorSummary.drop(['Donor ID'], axis=1)"
   ]
  },
  {
   "cell_type": "markdown",
   "metadata": {},
   "source": [
    "#### The recommender filter is mostly location based, therefore when the donor does not have a preference for a geographic location, the recommender underperforms.  \n",
    "\n",
    "The chart shows that the for the instances where recommender did not include the target project in the filter, the standard deviation of the distances that the donor donates to is very high. "
   ]
  },
  {
   "cell_type": "code",
   "execution_count": 36,
   "metadata": {},
   "outputs": [
    {
     "data": {
      "text/plain": [
       "[]"
      ]
     },
     "execution_count": 36,
     "metadata": {},
     "output_type": "execute_result"
    },
    {
     "data": {
      "image/png": "[encoded data removed]",
      "text/plain": [
       "<matplotlib.figure.Figure at 0x19f047abac8>"
      ]
     },
     "metadata": {},
     "output_type": "display_data"
    }
   ],
   "source": [
    "chartData = recommendations.merge(donorSummary[['Dist_std']], left_index = True, right_index = True, how = 'left')\n",
    "cols = ['Dist_std', 'notInFilter']\n",
    "chartData = chartData[cols]\n",
    "\n",
    "chartData.columns = ['Standard deviation of donation distance', 'Not in Filter']\n",
    "chartData = pd.melt(chartData, id_vars=['Not in Filter'], var_name = 'Category')\n",
    "\n",
    "sns.set_palette(\"Set3\")\n",
    "ax = sns.boxplot(x=\"Category\", y=\"value\", hue = 'Not in Filter', data = chartData, showfliers = False, showmeans = True, meanline = True)\n",
    "ax.set_xticklabels(ax.get_xticklabels(),rotation=0)\n",
    "\n",
    "plt.title(\"Recommender underforms when donor donates to a wide range of locations far from each other\")\n",
    "plt.xlabel('')\n",
    "plt.ylabel('miles')\n",
    "\n",
    "ax.plot()"
   ]
  },
  {
   "cell_type": "markdown",
   "metadata": {},
   "source": [
    "#### The recommender filter is less likely to capture the target project when the donor donates to fewer number of locations\n",
    "In this situation, the universe is probably too small, especially when the donor previously donated to cities with few available projects. \n",
    "\n",
    "The recommender can be modified to have a minimal number of potential projects. If the size of the project universe is under the threshold, the search could be expanded by searching the neighboring locations.  "
   ]
  },
  {
   "cell_type": "code",
   "execution_count": 37,
   "metadata": {},
   "outputs": [
    {
     "data": {
      "text/plain": [
       "[]"
      ]
     },
     "execution_count": 37,
     "metadata": {},
     "output_type": "execute_result"
    },
    {
     "data": {
      "image/png": "[encoded data removed]",
      "text/plain": [
       "<matplotlib.figure.Figure at 0x19e92b27128>"
      ]
     },
     "metadata": {},
     "output_type": "display_data"
    }
   ],
   "source": [
    "sns.boxplot(x = 'notInFilter', y=\"Prior Location Count\", data=recommendations, showfliers = False, showmeans = True, meanline = True)\n",
    "plt.title('Lower location count is harder for filter to find the target project')\n",
    "plt.xlabel('Is project target in the filter?')\n",
    "ax.plot()"
   ]
  },
  {
   "cell_type": "markdown",
   "metadata": {},
   "source": [
    "#### The recommender was not able to distinguish donors who have a specific cause in mind\n",
    "##### Help the Underpreviledged  & Special Needs Students\n",
    "There is a group of donors whose target project is not in the project universe.  They have showed a stronger preference toward schools with higher percentage of students receiving free lunch, or were more interested in projects relating to Special Needs.  \n",
    "These segement of donors are the ones with a cause in mind that they would like to achieve.  \n",
    "\n",
    "The recommender algorithm could be modified to target these donors with projects from underpriveledged schools.  One approach would be to recommend projects from those specific areas when the donor's interest in these areas is above the average donor.  Collaborative filtering would be useful.  Once we segment out these donors, collaborative filtering can be used to recommend projects from the like-minded donors.  "
   ]
  },
  {
   "cell_type": "code",
   "execution_count": 38,
   "metadata": {},
   "outputs": [
    {
     "data": {
      "text/plain": [
       "[]"
      ]
     },
     "execution_count": 38,
     "metadata": {},
     "output_type": "execute_result"
    },
    {
     "data": {
      "image/png": "[encoded data removed]",
      "text/plain": [
       "<matplotlib.figure.Figure at 0x19e929feb70>"
      ]
     },
     "metadata": {},
     "output_type": "display_data"
    }
   ],
   "source": [
    "chartData = recommendations.merge(donorInterest[['lunchAid_poor', 'ProjCat_Special Needs']], left_index = True, right_index = True, how = 'left')\n",
    "\n",
    "cols = ['lunchAid_poor', 'ProjCat_Special Needs', 'notInFilter']\n",
    "chartData = chartData[cols]\n",
    "chartData.columns = ['Poorer Schools with high free lunch%', 'Special Needs Projects', 'Not in Filter']\n",
    "chartData = pd.melt(chartData, id_vars=['Not in Filter'], var_name = 'Category')\n",
    "sns.set_palette(\"Set2\")\n",
    "\n",
    "\n",
    "ax = sns.boxplot(x=\"Category\", y=\"value\", hue = 'Not in Filter', data = chartData, \n",
    "                 showfliers = False, showmeans = True, meanline = True)\n",
    "ax.set_xticklabels(ax.get_xticklabels(),rotation=0)\n",
    "\n",
    "plt.title('Donors with a specific cause is not captured by the recommender filter')\n",
    "plt.xlabel(\"Donor Interest\")\n",
    "plt.ylabel('Interest Level relative to Average Donor')\n",
    "ax.plot()"
   ]
  },
  {
   "cell_type": "markdown",
   "metadata": {},
   "source": [
    "The interest level measures the donor's interest in the category compared to the average.  Looking at the x-axis, there is a hump around 0.8. The hump in the distribution chart are the donors who have showed a higher level interest in the areas of underpreviledged schools and students with special needs.  <br>\n",
    "\n",
    "The algorithm can be modified to recommend projects in these areas when the interest level is above average, maybe around the peak of the second bumps.  "
   ]
  },
  {
   "cell_type": "code",
   "execution_count": 39,
   "metadata": {},
   "outputs": [
    {
     "data": {
      "text/plain": [
       "[]"
      ]
     },
     "execution_count": 39,
     "metadata": {},
     "output_type": "execute_result"
    },
    {
     "data": {
      "image/png": "[encoded data removed]",
      "text/plain": [
       "<matplotlib.figure.Figure at 0x19e929fe080>"
      ]
     },
     "metadata": {},
     "output_type": "display_data"
    }
   ],
   "source": [
    "chartData = recommendations.merge(donorInterest[['lunchAid_poor', 'ProjCat_Special Needs']], left_index = True, right_index = True, how = 'left')\n",
    "cols = ['lunchAid_poor', 'ProjCat_Special Needs', 'notInFilter']\n",
    "chartData = chartData[cols]\n",
    "chartData.columns = ['Poorer Schools', 'Special Needs Projects', 'Not in Filter']\n",
    "\n",
    "plt.subplot(1, 2, 1)\n",
    "\n",
    "sns.set_palette(\"Set2\")\n",
    "yesIn = chartData.loc[chartData['Not in Filter'] == 1]\n",
    "noIn = chartData.loc[chartData['Not in Filter'] != 1]\n",
    "sns.distplot(noIn[['Poorer Schools']], hist = False, label = 'Not in Filter')\n",
    "sns.distplot(yesIn[['Poorer Schools']], hist = False, label = 'In Filter')\n",
    "plt.title('Interest in Poorer Schools')\n",
    "\n",
    "sns.set_palette(\"Set2\")\n",
    "plt.subplot(1, 2, 2)\n",
    "yesIn = chartData.loc[chartData['Not in Filter'] == 1]\n",
    "noIn = chartData.loc[chartData['Not in Filter'] != 1]\n",
    "sns.distplot(noIn[['Special Needs Projects']], hist = False, label = 'Not In Filter')\n",
    "sns.distplot(yesIn[['Special Needs Projects']], hist = False, label = 'In Filter')\n",
    "plt.title('Interest in Special Needs')\n",
    "plt.plot()"
   ]
  },
  {
   "cell_type": "markdown",
   "metadata": {},
   "source": [
    "The recommender indeed under-recommend the Special Needs Projects. "
   ]
  },
  {
   "cell_type": "code",
   "execution_count": 40,
   "metadata": {},
   "outputs": [
    {
     "name": "stdout",
     "output_type": "stream",
     "text": [
      "% of Special Needs Projects where project is not in Filter: 14.08%\n",
      "% of Special Needs Projects where project is in Filter: 12.64%\n"
     ]
    },
    {
     "data": {
      "text/html": [
       "<div>\n",
       "<style scoped>\n",
       "    .dataframe tbody tr th:only-of-type {\n",
       "        vertical-align: middle;\n",
       "    }\n",
       "\n",
       "    .dataframe tbody tr th {\n",
       "        vertical-align: top;\n",
       "    }\n",
       "\n",
       "    .dataframe thead th {\n",
       "        text-align: right;\n",
       "    }\n",
       "</style>\n",
       "<table border=\"1\" class=\"dataframe\">\n",
       "  <thead>\n",
       "    <tr style=\"text-align: right;\">\n",
       "      <th>ProjCat_Special Needs</th>\n",
       "      <th>0.0</th>\n",
       "      <th>1.0</th>\n",
       "    </tr>\n",
       "    <tr>\n",
       "      <th>notInFilter</th>\n",
       "      <th></th>\n",
       "      <th></th>\n",
       "    </tr>\n",
       "  </thead>\n",
       "  <tbody>\n",
       "    <tr>\n",
       "      <th>0.0</th>\n",
       "      <td>0.873597</td>\n",
       "      <td>0.126403</td>\n",
       "    </tr>\n",
       "    <tr>\n",
       "      <th>1.0</th>\n",
       "      <td>0.859202</td>\n",
       "      <td>0.140798</td>\n",
       "    </tr>\n",
       "  </tbody>\n",
       "</table>\n",
       "</div>"
      ],
      "text/plain": [
       "ProjCat_Special Needs       0.0       1.0\n",
       "notInFilter                              \n",
       "0.0                    0.873597  0.126403\n",
       "1.0                    0.859202  0.140798"
      ]
     },
     "execution_count": 40,
     "metadata": {},
     "output_type": "execute_result"
    }
   ],
   "source": [
    "chartData = recommendations[['notInFilter', 'Donor Project ID']].merge(projFeatures, left_on = 'Donor Project ID', right_on = 'Project ID', how = 'left')\n",
    "\n",
    "print(\"% of Special Needs Projects where project is not in Filter: {0:.2f}%\".format(chartData.groupby('notInFilter')['ProjCat_Special Needs'].value_counts(normalize = True)[1][1]*100))\n",
    "print(\"% of Special Needs Projects where project is in Filter: {0:.2f}%\".format(chartData.groupby('notInFilter')['ProjCat_Special Needs'].value_counts(normalize = True)[0][1]*100))\n",
    "pd.crosstab(chartData['notInFilter'],chartData['ProjCat_Special Needs'], normalize='index')"
   ]
  },
  {
   "cell_type": "markdown",
   "metadata": {},
   "source": [
    "The same is true for projects from schools where more students receive free lunch, despite the differences are smaller.  "
   ]
  },
  {
   "cell_type": "code",
   "execution_count": 41,
   "metadata": {},
   "outputs": [
    {
     "name": "stdout",
     "output_type": "stream",
     "text": [
      "% of higher free lunch% schools where project is not in filter: 18.40%\n",
      "% of higher free lunch% schools where project is in filter: 16.76%\n"
     ]
    },
    {
     "data": {
      "text/html": [
       "<div>\n",
       "<style scoped>\n",
       "    .dataframe tbody tr th:only-of-type {\n",
       "        vertical-align: middle;\n",
       "    }\n",
       "\n",
       "    .dataframe tbody tr th {\n",
       "        vertical-align: top;\n",
       "    }\n",
       "\n",
       "    .dataframe thead th {\n",
       "        text-align: right;\n",
       "    }\n",
       "</style>\n",
       "<table border=\"1\" class=\"dataframe\">\n",
       "  <thead>\n",
       "    <tr style=\"text-align: right;\">\n",
       "      <th>lunchAid_poor</th>\n",
       "      <th>0</th>\n",
       "      <th>1</th>\n",
       "    </tr>\n",
       "    <tr>\n",
       "      <th>notInFilter</th>\n",
       "      <th></th>\n",
       "      <th></th>\n",
       "    </tr>\n",
       "  </thead>\n",
       "  <tbody>\n",
       "    <tr>\n",
       "      <th>0.0</th>\n",
       "      <td>0.832357</td>\n",
       "      <td>0.167643</td>\n",
       "    </tr>\n",
       "    <tr>\n",
       "      <th>1.0</th>\n",
       "      <td>0.815965</td>\n",
       "      <td>0.184035</td>\n",
       "    </tr>\n",
       "  </tbody>\n",
       "</table>\n",
       "</div>"
      ],
      "text/plain": [
       "lunchAid_poor         0         1\n",
       "notInFilter                      \n",
       "0.0            0.832357  0.167643\n",
       "1.0            0.815965  0.184035"
      ]
     },
     "execution_count": 41,
     "metadata": {},
     "output_type": "execute_result"
    }
   ],
   "source": [
    "chartData = recommendations[['notInFilter', 'Donor Project ID']].merge(projFeatures, left_on = 'Donor Project ID', right_on = 'Project ID', how = 'left')\n",
    "print(\"% of higher free lunch% schools where project is not in filter: {0:.2f}%\".format(chartData.groupby('notInFilter')['lunchAid_poor'].value_counts(normalize = True)[1][1]*100))\n",
    "print(\"% of higher free lunch% schools where project is in filter: {0:.2f}%\".format(chartData.groupby('notInFilter')['lunchAid_poor'].value_counts(normalize = True)[0][1]*100))\n",
    "pd.crosstab(chartData['notInFilter'],chartData['lunchAid_poor'], normalize='index')"
   ]
  },
  {
   "cell_type": "markdown",
   "metadata": {},
   "source": [
    "### <a id='7'>7. Future Enhancements</a>"
   ]
  },
  {
   "cell_type": "markdown",
   "metadata": {},
   "source": [
    "The current filtering method limits the search to cities that the donor either live in or have donated to. As discussed in the previous section, the filter underperforms when the donor donated to fewer cities especially in cities with low number of available projects.  To solve this problem, a minimal size of the project universe can be set.  When the number of projects returned by the filter is lower than the threshold, the search can be expanded to to nearby cities within 15 miles radius of the donor's home. 15 miles was the median distance between the school city and donor city of all the donors. \n",
    "\n",
    "The current model does not cater towards donors with a specific cause in mind, such as helping the underpriveledged schools and students with special needs.  The model could be modified to screen for special interest by using the features that measures donor's interest against the population mean.  These features are already created in the Donor Features Matrix.  If the donor's interest is around 70% above the average donor, then the recommender should automatically recommend projects associated with these causes.  We can recommend projects that are of interest to the other donors who are also interested in underpreviledged schools and kids with special needs. A simplier approach will be just to recommend projects in this category.   \n",
    "\n",
    "Currently, the model uses a very simple weighting system in scoring. The different components of the scoring matrix could be tuned by identifying the best coefficients to boost the different dimensions. The scaling factor for the Frequent Location Bonus can be improved.  Rather than just ranking the city by the donations, we can also account for the size of the deviation.  For example, if the city ranked No. 1 received `$`1,000, and city ranked No. 100 received `$`1,010, the difference is minor, and the project being in the No.1 spot should not be rewarded with much bonus points.\n",
    "\n",
    "Futhermore, the current methodology only use the donor's prior donation history as a reference. Collaborative filtering can be introduced to compare the donor against similar donors. Similarity between donors could be measured by whether they live in the same city, donated to the same school, same teacher, same projects, or have broadly similar interest in terms of the other dimensions."
   ]
  },
  {
   "cell_type": "code",
   "execution_count": null,
   "metadata": {},
   "outputs": [],
   "source": []
  }
 ],
 "metadata": {
  "kernelspec": {
   "display_name": "Python 3",
   "language": "python",
   "name": "python3"
  },
  "language_info": {
   "codemirror_mode": {
    "name": "ipython",
    "version": 3
   },
   "file_extension": ".py",
   "mimetype": "text/x-python",
   "name": "python",
   "nbconvert_exporter": "python",
   "pygments_lexer": "ipython3",
   "version": "3.5.4"
  }
 },
 "nbformat": 4,
 "nbformat_minor": 2
}
