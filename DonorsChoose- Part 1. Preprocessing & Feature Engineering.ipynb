{
 "cells": [
  {
   "cell_type": "markdown",
   "metadata": {},
   "source": [
    "##  DonorsChoose- Part 1. Preprocessing & Feature Engineering"
   ]
  },
  {
   "cell_type": "markdown",
   "metadata": {},
   "source": [
    "**<a href='#1'>1. Introduction</a><br>**\n",
    "**<a href='#2'>2. Get Data</a><br>**\n",
    "**<a href='#3'>3. Data Exploration: First look at the datasets </a><br>**\n",
    "**<a href='#4'>4. Data Cleaning </a><br>**\n",
    "**<a href='#5'>5. Feature Engineering </a><br>**\n",
    "<a href='#5.1'>5.1 Adding Geocoding Data using Google MAP API</a><br>\n",
    "<a href='#5.2'>5.2 Split Dataset according to Validation Scheme</a><br>\n",
    "<a href='#5.3'>5.3 Design Project Features Matrix and Donor Features Matrix</a><br>\n",
    "<a href='#5.4'>5.4 Scale Donor Feature Matrix</a><br>\n",
    "**<a href='#6. '>6.  Review the New Features </a><br>**"
   ]
  },
  {
   "cell_type": "markdown",
   "metadata": {},
   "source": [
    " ### <a id='1'>1. Introduction</a>"
   ]
  },
  {
   "cell_type": "markdown",
   "metadata": {},
   "source": [
    "DonorsChoose.org is an organization that helps teachers fundraise for American classrooms. The organization has funded over 1.1 million classroom requests through the support of 3 million donors, the majority of whom were making their first-ever donation to a public school. If DonorsChoose.org can motivate even a fraction of those donors to make another donation, that could have a huge impact on the number of classroom requests fulfilled.  The goal of the project is to enable DonorsChoose.org to build targeted email campaigns, recommending specific classroom requests to prior donors.   <br>\n",
    "\n",
    "The organization has supplied anonymized [data](https://www.kaggle.com/donorschoose/io) on donor giving from the past five years, starting from January 2013 to May 1, 2018.  Six data files are provided with the following dimensions:\n",
    "* donations (4687884, 10)\n",
    "* donors (2122640, 5)\n",
    "* projects (1110017, 15)\n",
    "* resources (7210448, 4)\n",
    "* schools (72993, 9)\n",
    "* teachers (402900, 3)\n",
    "\n",
    "This notebook is Part 1 of 3 notebooks.  Part 1 focuses on Feature Engineering, Part 2 focuses on Data Exploration, and Part 3 focuss on building the recommender system and evaluating the model.  \n",
    "\n",
    "This notebook will focus on pre-processing and feature engineering.  The main approach for this project is to recommend projects based on donor's previous donation characteristics, as well as project characteristics.  In this notebook, we will do the following:\n",
    "1.  Obtain longitude and latitude data for the donor's and project's locations and calculate distance between each donor and project.  \n",
    "2. Create Project Features Matrix that describes each projects using 71 dimensions from one-hot encoding features from project descriptions and school descriptions.  \n",
    "3. The Donor Features Matrix will be a feature matrix that reflects the donor's preferences using 96 dimensions.  We want to assess if donor has preference to location, project type, resource type, grade level, schools with more underpreviledged kids (measured by % of students receiving free lunch).  In addition, we will use donor's previous donation history to generate new features.    \n",
    "4. The Donor Features will then be normalized by subtracting out the mean of all donors.\n",
    "\n",
    "To validate the recommender model, data prior to 2018 will be used to generate donor profile, and  donations in January 2018  will be used to check for effectiveness of the recommendation system.  \n",
    "\n",
    "Below are the version of the Python packages utilized:\n",
    "* numpy 1.14.0\n",
    "* pandas 0.22.0\n",
    "* requests 2.18.4\n",
    "* sklearn 0.19.1\n",
    "* seaborn 0.8.1\n",
    "* matplotlib 2.1.2\n",
    "* plotly 2.7.0\n",
    "\n"
   ]
  },
  {
   "cell_type": "markdown",
   "metadata": {},
   "source": [
    " ### <a id='2'>2. Get Data</a>"
   ]
  },
  {
   "cell_type": "code",
   "execution_count": 4,
   "metadata": {},
   "outputs": [
    {
     "data": {
      "text/html": [
       "<script>requirejs.config({paths: { 'plotly': ['https://cdn.plot.ly/plotly-latest.min']},});if(!window.Plotly) {{require(['plotly'],function(plotly) {window.Plotly=plotly;});}}</script>"
      ],
      "text/vnd.plotly.v1+html": [
       "<script>requirejs.config({paths: { 'plotly': ['https://cdn.plot.ly/plotly-latest.min']},});if(!window.Plotly) {{require(['plotly'],function(plotly) {window.Plotly=plotly;});}}</script>"
      ]
     },
     "metadata": {},
     "output_type": "display_data"
    }
   ],
   "source": [
    "import numpy as np\n",
    "import pandas as pd \n",
    "import os\n",
    "import requests\n",
    "import datetime as dt\n",
    "import pickle\n",
    "import gc\n",
    "from math import sin, cos, sqrt, atan2, radians\n",
    "from sklearn.preprocessing import StandardScaler\n",
    "from sklearn import cluster\n",
    "import seaborn as sns\n",
    "import matplotlib.pyplot as plt\n",
    "import plotly as py\n",
    "import plotly.graph_objs as go\n",
    "import plotly.figure_factory as ff\n",
    "py.offline.init_notebook_mode(connected=True)\n",
    "%matplotlib inline"
   ]
  },
  {
   "cell_type": "markdown",
   "metadata": {},
   "source": [
    "Set data paths"
   ]
  },
  {
   "cell_type": "code",
   "execution_count": 2,
   "metadata": {},
   "outputs": [
    {
     "name": "stdout",
     "output_type": "stream",
     "text": [
      "['Donations.csv', 'Donors.csv', 'mappingFinal_all.csv', 'mappingFinal_all_modified.csv', 'Projects.csv', 'Resources.csv', 'Schools.csv', 'Teachers.csv', 'zipMapping.csv']\n"
     ]
    }
   ],
   "source": [
    "print(os.listdir(\"./data\"))\n",
    "cwd = os.getcwd()\n",
    "data_folder = 'data'"
   ]
  },
  {
   "cell_type": "code",
   "execution_count": 3,
   "metadata": {},
   "outputs": [],
   "source": [
    "# The projects dataset has text columns with project descriptions. Exclude these to save memory. \n",
    "projectCols = ['Project ID', 'School ID', 'Teacher ID',\n",
    "               'Teacher Project Posted Sequence', 'Project Type',\n",
    "               'Project Subject Category Tree', 'Project Subject Subcategory Tree',\n",
    "               'Project Grade Level Category', 'Project Resource Category',\n",
    "               'Project Cost', 'Project Posted Date', 'Project Expiration Date',\n",
    "               'Project Current Status', 'Project Fully Funded Date']\n",
    "\n",
    "resourcesCols = ['Project ID','Resource Quantity','Resource Unit Price', 'Resource Vendor Name']"
   ]
  },
  {
   "cell_type": "code",
   "execution_count": 4,
   "metadata": {},
   "outputs": [],
   "source": [
    "donations = pd.read_csv(os.path.join(cwd, data_folder, 'Donations.csv'), \n",
    "                        dtype = {'Donation Amount': np.float32, 'Donor Cart Sequence': np.int32})\n",
    "donors = pd.read_csv(os.path.join(cwd, data_folder, 'Donors.csv'),\n",
    "                                 dtype = {'Donor Zip':'str'})\n",
    "projects = pd.read_csv(os.path.join(cwd, data_folder, 'Projects.csv'), \n",
    "                       usecols = projectCols, \n",
    "                      dtype = {'Teacher Project Posted Sequence': np.float32, 'Project Cost': np.float32})\n",
    "resources = pd.read_csv(os.path.join(cwd, data_folder, 'Resources.csv'), \n",
    "                        usecols = resourcesCols,\n",
    "                       dtype = {'Resource Quantity': np.float32,'Resource Unit Price': np.float32})\n",
    "schools = pd.read_csv(os.path.join(cwd, data_folder, 'Schools.csv'), dtype = {'School Zip': 'str'})\n",
    "teachers = pd.read_csv(os.path.join(cwd, data_folder, 'Teachers.csv'))"
   ]
  },
  {
   "cell_type": "markdown",
   "metadata": {},
   "source": [
    "Cast to appropriate data types for each dataframe."
   ]
  },
  {
   "cell_type": "code",
   "execution_count": 5,
   "metadata": {},
   "outputs": [],
   "source": [
    "# donations\n",
    "donations['Donation Received Date'] = pd.to_datetime(donations['Donation Received Date'])\n",
    "donations['Donation Included Optional Donation'].replace(('Yes', 'No'), (1, 0), inplace=True)\n",
    "donations['Donation Included Optional Donation'] = donations['Donation Included Optional Donation'].astype('bool')\n",
    "donations['Donation_Received_Year'] = donations['Donation Received Date'].dt.year\n",
    "donations['Donation_Received_Month'] = donations['Donation Received Date'].dt.month\n",
    "donations['Donation_Received_Day'] = donations['Donation Received Date'].dt.day\n",
    "\n",
    "# donors\n",
    "donors['Donor Is Teacher'].replace(('Yes', 'No'), (1, 0), inplace=True)\n",
    "donors['Donor Is Teacher'] = donors['Donor Is Teacher'].astype('bool')\n",
    "\n",
    "# projects\n",
    "cols = ['Project Posted Date', 'Project Fully Funded Date']\n",
    "projects.loc[:, cols] = projects.loc[:, cols].apply(pd.to_datetime)\n",
    "projects['Days_to_Fullyfunded'] = projects['Project Fully Funded Date'] - projects['Project Posted Date']\n",
    "\n",
    "# teachers\n",
    "teachers['Teacher First Project Posted Date'] = pd.to_datetime(teachers['Teacher First Project Posted Date'])"
   ]
  },
  {
   "cell_type": "markdown",
   "metadata": {},
   "source": [
    "Name the dataframes."
   ]
  },
  {
   "cell_type": "code",
   "execution_count": 6,
   "metadata": {},
   "outputs": [],
   "source": [
    "def name_dataframes(dfList, dfNames):\n",
    "    '''\n",
    "    give names to a list of dataframes. \n",
    "    Argument:\n",
    "        dfList = list of dataframes,\n",
    "        dfNames = list of names for the dataframes\n",
    "    Return:\n",
    "        None\n",
    "    '''\n",
    "    for df, name in zip(dfList, dfNames):\n",
    "        df.name = name\n",
    "    \n",
    "    return"
   ]
  },
  {
   "cell_type": "code",
   "execution_count": 7,
   "metadata": {},
   "outputs": [],
   "source": [
    "dfList = [donations, donors, projects, resources, schools, teachers]\n",
    "dfNames = ['donations', 'donors', 'projects', 'resources', 'schools', 'teachers']\n",
    "name_dataframes(dfList, dfNames)"
   ]
  },
  {
   "cell_type": "markdown",
   "metadata": {},
   "source": [
    "### <a id='3'>3. Data Exploration:  First look at the datasets</a>"
   ]
  },
  {
   "cell_type": "markdown",
   "metadata": {},
   "source": [
    "#### Shape of dataframes"
   ]
  },
  {
   "cell_type": "code",
   "execution_count": 8,
   "metadata": {},
   "outputs": [
    {
     "name": "stdout",
     "output_type": "stream",
     "text": [
      "donations (4687884, 10)\n",
      "donors (2122640, 5)\n",
      "projects (1110017, 15)\n",
      "resources (7210448, 4)\n",
      "schools (72993, 9)\n",
      "teachers (402900, 3)\n"
     ]
    }
   ],
   "source": [
    "# print shapes of dataframes\n",
    "for df in dfList:\n",
    "    print(df.name, df.shape)"
   ]
  },
  {
   "cell_type": "markdown",
   "metadata": {},
   "source": [
    "#### Columns of dataframes"
   ]
  },
  {
   "cell_type": "code",
   "execution_count": 9,
   "metadata": {},
   "outputs": [
    {
     "name": "stdout",
     "output_type": "stream",
     "text": [
      "donations:\n",
      " Index(['Project ID', 'Donation ID', 'Donor ID',\n",
      "       'Donation Included Optional Donation', 'Donation Amount',\n",
      "       'Donor Cart Sequence', 'Donation Received Date',\n",
      "       'Donation_Received_Year', 'Donation_Received_Month',\n",
      "       'Donation_Received_Day'],\n",
      "      dtype='object')\n",
      "donors:\n",
      " Index(['Donor ID', 'Donor City', 'Donor State', 'Donor Is Teacher',\n",
      "       'Donor Zip'],\n",
      "      dtype='object')\n",
      "projects:\n",
      " Index(['Project ID', 'School ID', 'Teacher ID',\n",
      "       'Teacher Project Posted Sequence', 'Project Type',\n",
      "       'Project Subject Category Tree', 'Project Subject Subcategory Tree',\n",
      "       'Project Grade Level Category', 'Project Resource Category',\n",
      "       'Project Cost', 'Project Posted Date', 'Project Expiration Date',\n",
      "       'Project Current Status', 'Project Fully Funded Date',\n",
      "       'Days_to_Fullyfunded'],\n",
      "      dtype='object')\n",
      "resources:\n",
      " Index(['Project ID', 'Resource Quantity', 'Resource Unit Price',\n",
      "       'Resource Vendor Name'],\n",
      "      dtype='object')\n",
      "schools:\n",
      " Index(['School ID', 'School Name', 'School Metro Type',\n",
      "       'School Percentage Free Lunch', 'School State', 'School Zip',\n",
      "       'School City', 'School County', 'School District'],\n",
      "      dtype='object')\n",
      "teachers:\n",
      " Index(['Teacher ID', 'Teacher Prefix', 'Teacher First Project Posted Date'], dtype='object')\n"
     ]
    }
   ],
   "source": [
    "# print column names of dataframes\n",
    "for df in dfList:\n",
    "    print(df.name + \":\\n\" , df.columns)"
   ]
  },
  {
   "cell_type": "markdown",
   "metadata": {},
   "source": [
    "#### Summary of dataframes"
   ]
  },
  {
   "cell_type": "code",
   "execution_count": 10,
   "metadata": {},
   "outputs": [],
   "source": [
    "def data_summary(df):\n",
    "    '''print out information about dataframe\n",
    "    Argument: dataframe name\n",
    "    Return: dataframe with summary figures\n",
    "    '''\n",
    "    temp = pd.DataFrame(data = df.isnull().sum(axis=0))\n",
    "    temp.columns=['NA count']\n",
    "    temp['NA %'] = temp['NA count']/(df.shape[0])*100\n",
    "    temp['# unique vals'] = df.nunique(axis=0)\n",
    "    temp['dtype'] =  df.dtypes\n",
    "    temp['dataset'] = df.name\n",
    "    \n",
    "    return temp\n"
   ]
  },
  {
   "cell_type": "markdown",
   "metadata": {},
   "source": [
    "#### Donations"
   ]
  },
  {
   "cell_type": "code",
   "execution_count": 11,
   "metadata": {},
   "outputs": [
    {
     "data": {
      "text/html": [
       "<div>\n",
       "<style scoped>\n",
       "    .dataframe tbody tr th:only-of-type {\n",
       "        vertical-align: middle;\n",
       "    }\n",
       "\n",
       "    .dataframe tbody tr th {\n",
       "        vertical-align: top;\n",
       "    }\n",
       "\n",
       "    .dataframe thead th {\n",
       "        text-align: right;\n",
       "    }\n",
       "</style>\n",
       "<table border=\"1\" class=\"dataframe\">\n",
       "  <thead>\n",
       "    <tr style=\"text-align: right;\">\n",
       "      <th></th>\n",
       "      <th>Project ID</th>\n",
       "      <th>Donation ID</th>\n",
       "      <th>Donor ID</th>\n",
       "      <th>Donation Included Optional Donation</th>\n",
       "      <th>Donation Amount</th>\n",
       "      <th>Donor Cart Sequence</th>\n",
       "      <th>Donation Received Date</th>\n",
       "      <th>Donation_Received_Year</th>\n",
       "      <th>Donation_Received_Month</th>\n",
       "      <th>Donation_Received_Day</th>\n",
       "    </tr>\n",
       "  </thead>\n",
       "  <tbody>\n",
       "    <tr>\n",
       "      <th>0</th>\n",
       "      <td>000009891526c0ade7180f8423792063</td>\n",
       "      <td>688729120858666221208529ee3fc18e</td>\n",
       "      <td>1f4b5b6e68445c6c4a0509b3aca93f38</td>\n",
       "      <td>False</td>\n",
       "      <td>178.369995</td>\n",
       "      <td>11</td>\n",
       "      <td>2016-08-23 13:15:57</td>\n",
       "      <td>2016</td>\n",
       "      <td>8</td>\n",
       "      <td>23</td>\n",
       "    </tr>\n",
       "    <tr>\n",
       "      <th>1</th>\n",
       "      <td>000009891526c0ade7180f8423792063</td>\n",
       "      <td>dcf1071da3aa3561f91ac689d1f73dee</td>\n",
       "      <td>4aaab6d244bf3599682239ed5591af8a</td>\n",
       "      <td>True</td>\n",
       "      <td>25.000000</td>\n",
       "      <td>2</td>\n",
       "      <td>2016-06-06 20:05:23</td>\n",
       "      <td>2016</td>\n",
       "      <td>6</td>\n",
       "      <td>6</td>\n",
       "    </tr>\n",
       "  </tbody>\n",
       "</table>\n",
       "</div>"
      ],
      "text/plain": [
       "                         Project ID                       Donation ID  \\\n",
       "0  000009891526c0ade7180f8423792063  688729120858666221208529ee3fc18e   \n",
       "1  000009891526c0ade7180f8423792063  dcf1071da3aa3561f91ac689d1f73dee   \n",
       "\n",
       "                           Donor ID  Donation Included Optional Donation  \\\n",
       "0  1f4b5b6e68445c6c4a0509b3aca93f38                                False   \n",
       "1  4aaab6d244bf3599682239ed5591af8a                                 True   \n",
       "\n",
       "   Donation Amount  Donor Cart Sequence Donation Received Date  \\\n",
       "0       178.369995                   11    2016-08-23 13:15:57   \n",
       "1        25.000000                    2    2016-06-06 20:05:23   \n",
       "\n",
       "   Donation_Received_Year  Donation_Received_Month  Donation_Received_Day  \n",
       "0                    2016                        8                     23  \n",
       "1                    2016                        6                      6  "
      ]
     },
     "execution_count": 11,
     "metadata": {},
     "output_type": "execute_result"
    }
   ],
   "source": [
    "donations.head(2)"
   ]
  },
  {
   "cell_type": "code",
   "execution_count": 12,
   "metadata": {},
   "outputs": [
    {
     "data": {
      "text/html": [
       "<div>\n",
       "<style scoped>\n",
       "    .dataframe tbody tr th:only-of-type {\n",
       "        vertical-align: middle;\n",
       "    }\n",
       "\n",
       "    .dataframe tbody tr th {\n",
       "        vertical-align: top;\n",
       "    }\n",
       "\n",
       "    .dataframe thead th {\n",
       "        text-align: right;\n",
       "    }\n",
       "</style>\n",
       "<table border=\"1\" class=\"dataframe\">\n",
       "  <thead>\n",
       "    <tr style=\"text-align: right;\">\n",
       "      <th></th>\n",
       "      <th>NA count</th>\n",
       "      <th>NA %</th>\n",
       "      <th># unique vals</th>\n",
       "      <th>dtype</th>\n",
       "      <th>dataset</th>\n",
       "    </tr>\n",
       "  </thead>\n",
       "  <tbody>\n",
       "    <tr>\n",
       "      <th>Project ID</th>\n",
       "      <td>0</td>\n",
       "      <td>0.0</td>\n",
       "      <td>901965</td>\n",
       "      <td>object</td>\n",
       "      <td>donations</td>\n",
       "    </tr>\n",
       "    <tr>\n",
       "      <th>Donation ID</th>\n",
       "      <td>0</td>\n",
       "      <td>0.0</td>\n",
       "      <td>4687844</td>\n",
       "      <td>object</td>\n",
       "      <td>donations</td>\n",
       "    </tr>\n",
       "    <tr>\n",
       "      <th>Donor ID</th>\n",
       "      <td>0</td>\n",
       "      <td>0.0</td>\n",
       "      <td>2024554</td>\n",
       "      <td>object</td>\n",
       "      <td>donations</td>\n",
       "    </tr>\n",
       "    <tr>\n",
       "      <th>Donation Included Optional Donation</th>\n",
       "      <td>0</td>\n",
       "      <td>0.0</td>\n",
       "      <td>2</td>\n",
       "      <td>bool</td>\n",
       "      <td>donations</td>\n",
       "    </tr>\n",
       "    <tr>\n",
       "      <th>Donation Amount</th>\n",
       "      <td>0</td>\n",
       "      <td>0.0</td>\n",
       "      <td>76192</td>\n",
       "      <td>float32</td>\n",
       "      <td>donations</td>\n",
       "    </tr>\n",
       "    <tr>\n",
       "      <th>Donor Cart Sequence</th>\n",
       "      <td>0</td>\n",
       "      <td>0.0</td>\n",
       "      <td>18071</td>\n",
       "      <td>int32</td>\n",
       "      <td>donations</td>\n",
       "    </tr>\n",
       "    <tr>\n",
       "      <th>Donation Received Date</th>\n",
       "      <td>0</td>\n",
       "      <td>0.0</td>\n",
       "      <td>4066370</td>\n",
       "      <td>datetime64[ns]</td>\n",
       "      <td>donations</td>\n",
       "    </tr>\n",
       "    <tr>\n",
       "      <th>Donation_Received_Year</th>\n",
       "      <td>0</td>\n",
       "      <td>0.0</td>\n",
       "      <td>7</td>\n",
       "      <td>int64</td>\n",
       "      <td>donations</td>\n",
       "    </tr>\n",
       "    <tr>\n",
       "      <th>Donation_Received_Month</th>\n",
       "      <td>0</td>\n",
       "      <td>0.0</td>\n",
       "      <td>12</td>\n",
       "      <td>int64</td>\n",
       "      <td>donations</td>\n",
       "    </tr>\n",
       "    <tr>\n",
       "      <th>Donation_Received_Day</th>\n",
       "      <td>0</td>\n",
       "      <td>0.0</td>\n",
       "      <td>31</td>\n",
       "      <td>int64</td>\n",
       "      <td>donations</td>\n",
       "    </tr>\n",
       "  </tbody>\n",
       "</table>\n",
       "</div>"
      ],
      "text/plain": [
       "                                     NA count  NA %  # unique vals  \\\n",
       "Project ID                                  0   0.0         901965   \n",
       "Donation ID                                 0   0.0        4687844   \n",
       "Donor ID                                    0   0.0        2024554   \n",
       "Donation Included Optional Donation         0   0.0              2   \n",
       "Donation Amount                             0   0.0          76192   \n",
       "Donor Cart Sequence                         0   0.0          18071   \n",
       "Donation Received Date                      0   0.0        4066370   \n",
       "Donation_Received_Year                      0   0.0              7   \n",
       "Donation_Received_Month                     0   0.0             12   \n",
       "Donation_Received_Day                       0   0.0             31   \n",
       "\n",
       "                                              dtype    dataset  \n",
       "Project ID                                   object  donations  \n",
       "Donation ID                                  object  donations  \n",
       "Donor ID                                     object  donations  \n",
       "Donation Included Optional Donation            bool  donations  \n",
       "Donation Amount                             float32  donations  \n",
       "Donor Cart Sequence                           int32  donations  \n",
       "Donation Received Date               datetime64[ns]  donations  \n",
       "Donation_Received_Year                        int64  donations  \n",
       "Donation_Received_Month                       int64  donations  \n",
       "Donation_Received_Day                         int64  donations  "
      ]
     },
     "execution_count": 12,
     "metadata": {},
     "output_type": "execute_result"
    }
   ],
   "source": [
    "data_summary(donations)"
   ]
  },
  {
   "cell_type": "markdown",
   "metadata": {},
   "source": [
    "#### Donors"
   ]
  },
  {
   "cell_type": "code",
   "execution_count": 13,
   "metadata": {},
   "outputs": [
    {
     "data": {
      "text/html": [
       "<div>\n",
       "<style scoped>\n",
       "    .dataframe tbody tr th:only-of-type {\n",
       "        vertical-align: middle;\n",
       "    }\n",
       "\n",
       "    .dataframe tbody tr th {\n",
       "        vertical-align: top;\n",
       "    }\n",
       "\n",
       "    .dataframe thead th {\n",
       "        text-align: right;\n",
       "    }\n",
       "</style>\n",
       "<table border=\"1\" class=\"dataframe\">\n",
       "  <thead>\n",
       "    <tr style=\"text-align: right;\">\n",
       "      <th></th>\n",
       "      <th>Donor ID</th>\n",
       "      <th>Donor City</th>\n",
       "      <th>Donor State</th>\n",
       "      <th>Donor Is Teacher</th>\n",
       "      <th>Donor Zip</th>\n",
       "    </tr>\n",
       "  </thead>\n",
       "  <tbody>\n",
       "    <tr>\n",
       "      <th>0</th>\n",
       "      <td>00000ce845c00cbf0686c992fc369df4</td>\n",
       "      <td>Evanston</td>\n",
       "      <td>Illinois</td>\n",
       "      <td>False</td>\n",
       "      <td>602</td>\n",
       "    </tr>\n",
       "    <tr>\n",
       "      <th>1</th>\n",
       "      <td>00002783bc5d108510f3f9666c8b1edd</td>\n",
       "      <td>Appomattox</td>\n",
       "      <td>other</td>\n",
       "      <td>False</td>\n",
       "      <td>245</td>\n",
       "    </tr>\n",
       "  </tbody>\n",
       "</table>\n",
       "</div>"
      ],
      "text/plain": [
       "                           Donor ID  Donor City Donor State  Donor Is Teacher  \\\n",
       "0  00000ce845c00cbf0686c992fc369df4    Evanston    Illinois             False   \n",
       "1  00002783bc5d108510f3f9666c8b1edd  Appomattox       other             False   \n",
       "\n",
       "  Donor Zip  \n",
       "0       602  \n",
       "1       245  "
      ]
     },
     "execution_count": 13,
     "metadata": {},
     "output_type": "execute_result"
    }
   ],
   "source": [
    "donors.head(2)"
   ]
  },
  {
   "cell_type": "code",
   "execution_count": 14,
   "metadata": {},
   "outputs": [
    {
     "data": {
      "text/html": [
       "<div>\n",
       "<style scoped>\n",
       "    .dataframe tbody tr th:only-of-type {\n",
       "        vertical-align: middle;\n",
       "    }\n",
       "\n",
       "    .dataframe tbody tr th {\n",
       "        vertical-align: top;\n",
       "    }\n",
       "\n",
       "    .dataframe thead th {\n",
       "        text-align: right;\n",
       "    }\n",
       "</style>\n",
       "<table border=\"1\" class=\"dataframe\">\n",
       "  <thead>\n",
       "    <tr style=\"text-align: right;\">\n",
       "      <th></th>\n",
       "      <th>NA count</th>\n",
       "      <th>NA %</th>\n",
       "      <th># unique vals</th>\n",
       "      <th>dtype</th>\n",
       "      <th>dataset</th>\n",
       "    </tr>\n",
       "  </thead>\n",
       "  <tbody>\n",
       "    <tr>\n",
       "      <th>Donor ID</th>\n",
       "      <td>0</td>\n",
       "      <td>0.000000</td>\n",
       "      <td>2122640</td>\n",
       "      <td>object</td>\n",
       "      <td>donors</td>\n",
       "    </tr>\n",
       "    <tr>\n",
       "      <th>Donor City</th>\n",
       "      <td>213097</td>\n",
       "      <td>10.039244</td>\n",
       "      <td>15204</td>\n",
       "      <td>object</td>\n",
       "      <td>donors</td>\n",
       "    </tr>\n",
       "    <tr>\n",
       "      <th>Donor State</th>\n",
       "      <td>0</td>\n",
       "      <td>0.000000</td>\n",
       "      <td>52</td>\n",
       "      <td>object</td>\n",
       "      <td>donors</td>\n",
       "    </tr>\n",
       "    <tr>\n",
       "      <th>Donor Is Teacher</th>\n",
       "      <td>0</td>\n",
       "      <td>0.000000</td>\n",
       "      <td>2</td>\n",
       "      <td>bool</td>\n",
       "      <td>donors</td>\n",
       "    </tr>\n",
       "    <tr>\n",
       "      <th>Donor Zip</th>\n",
       "      <td>180060</td>\n",
       "      <td>8.482833</td>\n",
       "      <td>1065</td>\n",
       "      <td>object</td>\n",
       "      <td>donors</td>\n",
       "    </tr>\n",
       "  </tbody>\n",
       "</table>\n",
       "</div>"
      ],
      "text/plain": [
       "                  NA count       NA %  # unique vals   dtype dataset\n",
       "Donor ID                 0   0.000000        2122640  object  donors\n",
       "Donor City          213097  10.039244          15204  object  donors\n",
       "Donor State              0   0.000000             52  object  donors\n",
       "Donor Is Teacher         0   0.000000              2    bool  donors\n",
       "Donor Zip           180060   8.482833           1065  object  donors"
      ]
     },
     "execution_count": 14,
     "metadata": {},
     "output_type": "execute_result"
    }
   ],
   "source": [
    "data_summary(donors)"
   ]
  },
  {
   "cell_type": "markdown",
   "metadata": {},
   "source": [
    "#### Projects"
   ]
  },
  {
   "cell_type": "code",
   "execution_count": 15,
   "metadata": {},
   "outputs": [
    {
     "data": {
      "text/html": [
       "<div>\n",
       "<style scoped>\n",
       "    .dataframe tbody tr th:only-of-type {\n",
       "        vertical-align: middle;\n",
       "    }\n",
       "\n",
       "    .dataframe tbody tr th {\n",
       "        vertical-align: top;\n",
       "    }\n",
       "\n",
       "    .dataframe thead th {\n",
       "        text-align: right;\n",
       "    }\n",
       "</style>\n",
       "<table border=\"1\" class=\"dataframe\">\n",
       "  <thead>\n",
       "    <tr style=\"text-align: right;\">\n",
       "      <th></th>\n",
       "      <th>Project ID</th>\n",
       "      <th>School ID</th>\n",
       "      <th>Teacher ID</th>\n",
       "      <th>Teacher Project Posted Sequence</th>\n",
       "      <th>Project Type</th>\n",
       "      <th>Project Subject Category Tree</th>\n",
       "      <th>Project Subject Subcategory Tree</th>\n",
       "      <th>Project Grade Level Category</th>\n",
       "      <th>Project Resource Category</th>\n",
       "      <th>Project Cost</th>\n",
       "      <th>Project Posted Date</th>\n",
       "      <th>Project Expiration Date</th>\n",
       "      <th>Project Current Status</th>\n",
       "      <th>Project Fully Funded Date</th>\n",
       "      <th>Days_to_Fullyfunded</th>\n",
       "    </tr>\n",
       "  </thead>\n",
       "  <tbody>\n",
       "    <tr>\n",
       "      <th>0</th>\n",
       "      <td>7685f0265a19d7b52a470ee4bac883ba</td>\n",
       "      <td>e180c7424cb9c68cb49f141b092a988f</td>\n",
       "      <td>4ee5200e89d9e2998ec8baad8a3c5968</td>\n",
       "      <td>25.0</td>\n",
       "      <td>Teacher-Led</td>\n",
       "      <td>Applied Learning</td>\n",
       "      <td>Character Education, Early Development</td>\n",
       "      <td>Grades PreK-2</td>\n",
       "      <td>Technology</td>\n",
       "      <td>361.799988</td>\n",
       "      <td>2013-01-01</td>\n",
       "      <td>2013-05-30</td>\n",
       "      <td>Fully Funded</td>\n",
       "      <td>2013-01-11</td>\n",
       "      <td>10 days</td>\n",
       "    </tr>\n",
       "    <tr>\n",
       "      <th>1</th>\n",
       "      <td>f9f4af7099061fb4bf44642a03e5c331</td>\n",
       "      <td>08b20f1e2125103ed7aa17e8d76c71d4</td>\n",
       "      <td>cca2d1d277fb4adb50147b49cdc3b156</td>\n",
       "      <td>3.0</td>\n",
       "      <td>Teacher-Led</td>\n",
       "      <td>Applied Learning, Literacy &amp; Language</td>\n",
       "      <td>Early Development, Literacy</td>\n",
       "      <td>Grades PreK-2</td>\n",
       "      <td>Technology</td>\n",
       "      <td>512.849976</td>\n",
       "      <td>2013-01-01</td>\n",
       "      <td>2013-05-31</td>\n",
       "      <td>Expired</td>\n",
       "      <td>NaT</td>\n",
       "      <td>NaT</td>\n",
       "    </tr>\n",
       "  </tbody>\n",
       "</table>\n",
       "</div>"
      ],
      "text/plain": [
       "                         Project ID                         School ID  \\\n",
       "0  7685f0265a19d7b52a470ee4bac883ba  e180c7424cb9c68cb49f141b092a988f   \n",
       "1  f9f4af7099061fb4bf44642a03e5c331  08b20f1e2125103ed7aa17e8d76c71d4   \n",
       "\n",
       "                         Teacher ID  Teacher Project Posted Sequence  \\\n",
       "0  4ee5200e89d9e2998ec8baad8a3c5968                             25.0   \n",
       "1  cca2d1d277fb4adb50147b49cdc3b156                              3.0   \n",
       "\n",
       "  Project Type          Project Subject Category Tree  \\\n",
       "0  Teacher-Led                       Applied Learning   \n",
       "1  Teacher-Led  Applied Learning, Literacy & Language   \n",
       "\n",
       "         Project Subject Subcategory Tree Project Grade Level Category  \\\n",
       "0  Character Education, Early Development                Grades PreK-2   \n",
       "1             Early Development, Literacy                Grades PreK-2   \n",
       "\n",
       "  Project Resource Category  Project Cost Project Posted Date  \\\n",
       "0                Technology    361.799988          2013-01-01   \n",
       "1                Technology    512.849976          2013-01-01   \n",
       "\n",
       "  Project Expiration Date Project Current Status Project Fully Funded Date  \\\n",
       "0              2013-05-30           Fully Funded                2013-01-11   \n",
       "1              2013-05-31                Expired                       NaT   \n",
       "\n",
       "  Days_to_Fullyfunded  \n",
       "0             10 days  \n",
       "1                 NaT  "
      ]
     },
     "execution_count": 15,
     "metadata": {},
     "output_type": "execute_result"
    }
   ],
   "source": [
    "projects.head(2)"
   ]
  },
  {
   "cell_type": "code",
   "execution_count": 16,
   "metadata": {},
   "outputs": [
    {
     "data": {
      "text/html": [
       "<div>\n",
       "<style scoped>\n",
       "    .dataframe tbody tr th:only-of-type {\n",
       "        vertical-align: middle;\n",
       "    }\n",
       "\n",
       "    .dataframe tbody tr th {\n",
       "        vertical-align: top;\n",
       "    }\n",
       "\n",
       "    .dataframe thead th {\n",
       "        text-align: right;\n",
       "    }\n",
       "</style>\n",
       "<table border=\"1\" class=\"dataframe\">\n",
       "  <thead>\n",
       "    <tr style=\"text-align: right;\">\n",
       "      <th></th>\n",
       "      <th>NA count</th>\n",
       "      <th>NA %</th>\n",
       "      <th># unique vals</th>\n",
       "      <th>dtype</th>\n",
       "      <th>dataset</th>\n",
       "    </tr>\n",
       "  </thead>\n",
       "  <tbody>\n",
       "    <tr>\n",
       "      <th>Project ID</th>\n",
       "      <td>0</td>\n",
       "      <td>0.000000</td>\n",
       "      <td>1110015</td>\n",
       "      <td>object</td>\n",
       "      <td>projects</td>\n",
       "    </tr>\n",
       "    <tr>\n",
       "      <th>School ID</th>\n",
       "      <td>0</td>\n",
       "      <td>0.000000</td>\n",
       "      <td>72361</td>\n",
       "      <td>object</td>\n",
       "      <td>projects</td>\n",
       "    </tr>\n",
       "    <tr>\n",
       "      <th>Teacher ID</th>\n",
       "      <td>0</td>\n",
       "      <td>0.000000</td>\n",
       "      <td>395706</td>\n",
       "      <td>object</td>\n",
       "      <td>projects</td>\n",
       "    </tr>\n",
       "    <tr>\n",
       "      <th>Teacher Project Posted Sequence</th>\n",
       "      <td>0</td>\n",
       "      <td>0.000000</td>\n",
       "      <td>488</td>\n",
       "      <td>float32</td>\n",
       "      <td>projects</td>\n",
       "    </tr>\n",
       "    <tr>\n",
       "      <th>Project Type</th>\n",
       "      <td>0</td>\n",
       "      <td>0.000000</td>\n",
       "      <td>3</td>\n",
       "      <td>object</td>\n",
       "      <td>projects</td>\n",
       "    </tr>\n",
       "    <tr>\n",
       "      <th>Project Subject Category Tree</th>\n",
       "      <td>29</td>\n",
       "      <td>0.002613</td>\n",
       "      <td>51</td>\n",
       "      <td>object</td>\n",
       "      <td>projects</td>\n",
       "    </tr>\n",
       "    <tr>\n",
       "      <th>Project Subject Subcategory Tree</th>\n",
       "      <td>29</td>\n",
       "      <td>0.002613</td>\n",
       "      <td>432</td>\n",
       "      <td>object</td>\n",
       "      <td>projects</td>\n",
       "    </tr>\n",
       "    <tr>\n",
       "      <th>Project Grade Level Category</th>\n",
       "      <td>0</td>\n",
       "      <td>0.000000</td>\n",
       "      <td>5</td>\n",
       "      <td>object</td>\n",
       "      <td>projects</td>\n",
       "    </tr>\n",
       "    <tr>\n",
       "      <th>Project Resource Category</th>\n",
       "      <td>36</td>\n",
       "      <td>0.003243</td>\n",
       "      <td>17</td>\n",
       "      <td>object</td>\n",
       "      <td>projects</td>\n",
       "    </tr>\n",
       "    <tr>\n",
       "      <th>Project Cost</th>\n",
       "      <td>0</td>\n",
       "      <td>0.000000</td>\n",
       "      <td>163023</td>\n",
       "      <td>float32</td>\n",
       "      <td>projects</td>\n",
       "    </tr>\n",
       "    <tr>\n",
       "      <th>Project Posted Date</th>\n",
       "      <td>0</td>\n",
       "      <td>0.000000</td>\n",
       "      <td>1947</td>\n",
       "      <td>datetime64[ns]</td>\n",
       "      <td>projects</td>\n",
       "    </tr>\n",
       "    <tr>\n",
       "      <th>Project Expiration Date</th>\n",
       "      <td>14</td>\n",
       "      <td>0.001261</td>\n",
       "      <td>2102</td>\n",
       "      <td>object</td>\n",
       "      <td>projects</td>\n",
       "    </tr>\n",
       "    <tr>\n",
       "      <th>Project Current Status</th>\n",
       "      <td>0</td>\n",
       "      <td>0.000000</td>\n",
       "      <td>3</td>\n",
       "      <td>object</td>\n",
       "      <td>projects</td>\n",
       "    </tr>\n",
       "    <tr>\n",
       "      <th>Project Fully Funded Date</th>\n",
       "      <td>283253</td>\n",
       "      <td>25.517897</td>\n",
       "      <td>1957</td>\n",
       "      <td>datetime64[ns]</td>\n",
       "      <td>projects</td>\n",
       "    </tr>\n",
       "    <tr>\n",
       "      <th>Days_to_Fullyfunded</th>\n",
       "      <td>283253</td>\n",
       "      <td>25.517897</td>\n",
       "      <td>203</td>\n",
       "      <td>timedelta64[ns]</td>\n",
       "      <td>projects</td>\n",
       "    </tr>\n",
       "  </tbody>\n",
       "</table>\n",
       "</div>"
      ],
      "text/plain": [
       "                                  NA count       NA %  # unique vals  \\\n",
       "Project ID                               0   0.000000        1110015   \n",
       "School ID                                0   0.000000          72361   \n",
       "Teacher ID                               0   0.000000         395706   \n",
       "Teacher Project Posted Sequence          0   0.000000            488   \n",
       "Project Type                             0   0.000000              3   \n",
       "Project Subject Category Tree           29   0.002613             51   \n",
       "Project Subject Subcategory Tree        29   0.002613            432   \n",
       "Project Grade Level Category             0   0.000000              5   \n",
       "Project Resource Category               36   0.003243             17   \n",
       "Project Cost                             0   0.000000         163023   \n",
       "Project Posted Date                      0   0.000000           1947   \n",
       "Project Expiration Date                 14   0.001261           2102   \n",
       "Project Current Status                   0   0.000000              3   \n",
       "Project Fully Funded Date           283253  25.517897           1957   \n",
       "Days_to_Fullyfunded                 283253  25.517897            203   \n",
       "\n",
       "                                            dtype   dataset  \n",
       "Project ID                                 object  projects  \n",
       "School ID                                  object  projects  \n",
       "Teacher ID                                 object  projects  \n",
       "Teacher Project Posted Sequence           float32  projects  \n",
       "Project Type                               object  projects  \n",
       "Project Subject Category Tree              object  projects  \n",
       "Project Subject Subcategory Tree           object  projects  \n",
       "Project Grade Level Category               object  projects  \n",
       "Project Resource Category                  object  projects  \n",
       "Project Cost                              float32  projects  \n",
       "Project Posted Date                datetime64[ns]  projects  \n",
       "Project Expiration Date                    object  projects  \n",
       "Project Current Status                     object  projects  \n",
       "Project Fully Funded Date          datetime64[ns]  projects  \n",
       "Days_to_Fullyfunded               timedelta64[ns]  projects  "
      ]
     },
     "execution_count": 16,
     "metadata": {},
     "output_type": "execute_result"
    }
   ],
   "source": [
    "data_summary(projects)"
   ]
  },
  {
   "cell_type": "markdown",
   "metadata": {},
   "source": [
    "#### Resources"
   ]
  },
  {
   "cell_type": "code",
   "execution_count": 17,
   "metadata": {},
   "outputs": [
    {
     "data": {
      "text/html": [
       "<div>\n",
       "<style scoped>\n",
       "    .dataframe tbody tr th:only-of-type {\n",
       "        vertical-align: middle;\n",
       "    }\n",
       "\n",
       "    .dataframe tbody tr th {\n",
       "        vertical-align: top;\n",
       "    }\n",
       "\n",
       "    .dataframe thead th {\n",
       "        text-align: right;\n",
       "    }\n",
       "</style>\n",
       "<table border=\"1\" class=\"dataframe\">\n",
       "  <thead>\n",
       "    <tr style=\"text-align: right;\">\n",
       "      <th></th>\n",
       "      <th>Project ID</th>\n",
       "      <th>Resource Quantity</th>\n",
       "      <th>Resource Unit Price</th>\n",
       "      <th>Resource Vendor Name</th>\n",
       "    </tr>\n",
       "  </thead>\n",
       "  <tbody>\n",
       "    <tr>\n",
       "      <th>0</th>\n",
       "      <td>000009891526c0ade7180f8423792063</td>\n",
       "      <td>1.0</td>\n",
       "      <td>350.00</td>\n",
       "      <td>NaN</td>\n",
       "    </tr>\n",
       "    <tr>\n",
       "      <th>1</th>\n",
       "      <td>00000ce845c00cbf0686c992fc369df4</td>\n",
       "      <td>40.0</td>\n",
       "      <td>12.86</td>\n",
       "      <td>CDW-G</td>\n",
       "    </tr>\n",
       "  </tbody>\n",
       "</table>\n",
       "</div>"
      ],
      "text/plain": [
       "                         Project ID  Resource Quantity  Resource Unit Price  \\\n",
       "0  000009891526c0ade7180f8423792063                1.0               350.00   \n",
       "1  00000ce845c00cbf0686c992fc369df4               40.0                12.86   \n",
       "\n",
       "  Resource Vendor Name  \n",
       "0                  NaN  \n",
       "1                CDW-G  "
      ]
     },
     "execution_count": 17,
     "metadata": {},
     "output_type": "execute_result"
    }
   ],
   "source": [
    "resources.head(2)"
   ]
  },
  {
   "cell_type": "code",
   "execution_count": 18,
   "metadata": {},
   "outputs": [
    {
     "data": {
      "text/html": [
       "<div>\n",
       "<style scoped>\n",
       "    .dataframe tbody tr th:only-of-type {\n",
       "        vertical-align: middle;\n",
       "    }\n",
       "\n",
       "    .dataframe tbody tr th {\n",
       "        vertical-align: top;\n",
       "    }\n",
       "\n",
       "    .dataframe thead th {\n",
       "        text-align: right;\n",
       "    }\n",
       "</style>\n",
       "<table border=\"1\" class=\"dataframe\">\n",
       "  <thead>\n",
       "    <tr style=\"text-align: right;\">\n",
       "      <th></th>\n",
       "      <th>NA count</th>\n",
       "      <th>NA %</th>\n",
       "      <th># unique vals</th>\n",
       "      <th>dtype</th>\n",
       "      <th>dataset</th>\n",
       "    </tr>\n",
       "  </thead>\n",
       "  <tbody>\n",
       "    <tr>\n",
       "      <th>Project ID</th>\n",
       "      <td>0</td>\n",
       "      <td>0.000000</td>\n",
       "      <td>1208649</td>\n",
       "      <td>object</td>\n",
       "      <td>resources</td>\n",
       "    </tr>\n",
       "    <tr>\n",
       "      <th>Resource Quantity</th>\n",
       "      <td>24299</td>\n",
       "      <td>0.336997</td>\n",
       "      <td>341</td>\n",
       "      <td>float32</td>\n",
       "      <td>resources</td>\n",
       "    </tr>\n",
       "    <tr>\n",
       "      <th>Resource Unit Price</th>\n",
       "      <td>24310</td>\n",
       "      <td>0.337150</td>\n",
       "      <td>50253</td>\n",
       "      <td>float32</td>\n",
       "      <td>resources</td>\n",
       "    </tr>\n",
       "    <tr>\n",
       "      <th>Resource Vendor Name</th>\n",
       "      <td>81994</td>\n",
       "      <td>1.137155</td>\n",
       "      <td>31</td>\n",
       "      <td>object</td>\n",
       "      <td>resources</td>\n",
       "    </tr>\n",
       "  </tbody>\n",
       "</table>\n",
       "</div>"
      ],
      "text/plain": [
       "                      NA count      NA %  # unique vals    dtype    dataset\n",
       "Project ID                   0  0.000000        1208649   object  resources\n",
       "Resource Quantity        24299  0.336997            341  float32  resources\n",
       "Resource Unit Price      24310  0.337150          50253  float32  resources\n",
       "Resource Vendor Name     81994  1.137155             31   object  resources"
      ]
     },
     "execution_count": 18,
     "metadata": {},
     "output_type": "execute_result"
    }
   ],
   "source": [
    "data_summary(resources)"
   ]
  },
  {
   "cell_type": "code",
   "execution_count": 19,
   "metadata": {},
   "outputs": [
    {
     "data": {
      "text/plain": [
       "<matplotlib.axes._subplots.AxesSubplot at 0x221a78e30b8>"
      ]
     },
     "execution_count": 19,
     "metadata": {},
     "output_type": "execute_result"
    },
    {
     "data": {
      "image/png": "[encoded data removed]",
      "text/plain": [
       "<matplotlib.figure.Figure at 0x221e2554c50>"
      ]
     },
     "metadata": {},
     "output_type": "display_data"
    }
   ],
   "source": [
    "data = resources.loc[resources['Resource Unit Price'] < resources['Resource Unit Price'].quantile(0.90)]['Resource Unit Price']\n",
    "sns.distplot(data)"
   ]
  },
  {
   "cell_type": "markdown",
   "metadata": {},
   "source": [
    "#### Schools"
   ]
  },
  {
   "cell_type": "code",
   "execution_count": 20,
   "metadata": {},
   "outputs": [
    {
     "data": {
      "text/html": [
       "<div>\n",
       "<style scoped>\n",
       "    .dataframe tbody tr th:only-of-type {\n",
       "        vertical-align: middle;\n",
       "    }\n",
       "\n",
       "    .dataframe tbody tr th {\n",
       "        vertical-align: top;\n",
       "    }\n",
       "\n",
       "    .dataframe thead th {\n",
       "        text-align: right;\n",
       "    }\n",
       "</style>\n",
       "<table border=\"1\" class=\"dataframe\">\n",
       "  <thead>\n",
       "    <tr style=\"text-align: right;\">\n",
       "      <th></th>\n",
       "      <th>School ID</th>\n",
       "      <th>School Name</th>\n",
       "      <th>School Metro Type</th>\n",
       "      <th>School Percentage Free Lunch</th>\n",
       "      <th>School State</th>\n",
       "      <th>School Zip</th>\n",
       "      <th>School City</th>\n",
       "      <th>School County</th>\n",
       "      <th>School District</th>\n",
       "    </tr>\n",
       "  </thead>\n",
       "  <tbody>\n",
       "    <tr>\n",
       "      <th>0</th>\n",
       "      <td>00003e0fdd601b8ea0a6eb44057b9c5e</td>\n",
       "      <td>Capon Bridge Middle School</td>\n",
       "      <td>rural</td>\n",
       "      <td>56.0</td>\n",
       "      <td>West Virginia</td>\n",
       "      <td>26711</td>\n",
       "      <td>Capon Bridge</td>\n",
       "      <td>Hampshire</td>\n",
       "      <td>Hampshire Co School District</td>\n",
       "    </tr>\n",
       "    <tr>\n",
       "      <th>1</th>\n",
       "      <td>00004e32a448b4832e1b993500bf0731</td>\n",
       "      <td>The Woodlands College Park High School</td>\n",
       "      <td>urban</td>\n",
       "      <td>41.0</td>\n",
       "      <td>Texas</td>\n",
       "      <td>77384</td>\n",
       "      <td>The Woodlands</td>\n",
       "      <td>Montgomery</td>\n",
       "      <td>Conroe Ind School District</td>\n",
       "    </tr>\n",
       "  </tbody>\n",
       "</table>\n",
       "</div>"
      ],
      "text/plain": [
       "                          School ID                             School Name  \\\n",
       "0  00003e0fdd601b8ea0a6eb44057b9c5e              Capon Bridge Middle School   \n",
       "1  00004e32a448b4832e1b993500bf0731  The Woodlands College Park High School   \n",
       "\n",
       "  School Metro Type  School Percentage Free Lunch   School State School Zip  \\\n",
       "0             rural                          56.0  West Virginia      26711   \n",
       "1             urban                          41.0          Texas      77384   \n",
       "\n",
       "     School City School County               School District  \n",
       "0   Capon Bridge     Hampshire  Hampshire Co School District  \n",
       "1  The Woodlands    Montgomery    Conroe Ind School District  "
      ]
     },
     "execution_count": 20,
     "metadata": {},
     "output_type": "execute_result"
    }
   ],
   "source": [
    "schools.head(2)"
   ]
  },
  {
   "cell_type": "code",
   "execution_count": 21,
   "metadata": {},
   "outputs": [
    {
     "data": {
      "text/html": [
       "<div>\n",
       "<style scoped>\n",
       "    .dataframe tbody tr th:only-of-type {\n",
       "        vertical-align: middle;\n",
       "    }\n",
       "\n",
       "    .dataframe tbody tr th {\n",
       "        vertical-align: top;\n",
       "    }\n",
       "\n",
       "    .dataframe thead th {\n",
       "        text-align: right;\n",
       "    }\n",
       "</style>\n",
       "<table border=\"1\" class=\"dataframe\">\n",
       "  <thead>\n",
       "    <tr style=\"text-align: right;\">\n",
       "      <th></th>\n",
       "      <th>NA count</th>\n",
       "      <th>NA %</th>\n",
       "      <th># unique vals</th>\n",
       "      <th>dtype</th>\n",
       "      <th>dataset</th>\n",
       "    </tr>\n",
       "  </thead>\n",
       "  <tbody>\n",
       "    <tr>\n",
       "      <th>School ID</th>\n",
       "      <td>0</td>\n",
       "      <td>0.000000</td>\n",
       "      <td>72993</td>\n",
       "      <td>object</td>\n",
       "      <td>schools</td>\n",
       "    </tr>\n",
       "    <tr>\n",
       "      <th>School Name</th>\n",
       "      <td>0</td>\n",
       "      <td>0.000000</td>\n",
       "      <td>56831</td>\n",
       "      <td>object</td>\n",
       "      <td>schools</td>\n",
       "    </tr>\n",
       "    <tr>\n",
       "      <th>School Metro Type</th>\n",
       "      <td>0</td>\n",
       "      <td>0.000000</td>\n",
       "      <td>5</td>\n",
       "      <td>object</td>\n",
       "      <td>schools</td>\n",
       "    </tr>\n",
       "    <tr>\n",
       "      <th>School Percentage Free Lunch</th>\n",
       "      <td>1141</td>\n",
       "      <td>1.563164</td>\n",
       "      <td>101</td>\n",
       "      <td>float64</td>\n",
       "      <td>schools</td>\n",
       "    </tr>\n",
       "    <tr>\n",
       "      <th>School State</th>\n",
       "      <td>0</td>\n",
       "      <td>0.000000</td>\n",
       "      <td>51</td>\n",
       "      <td>object</td>\n",
       "      <td>schools</td>\n",
       "    </tr>\n",
       "    <tr>\n",
       "      <th>School Zip</th>\n",
       "      <td>0</td>\n",
       "      <td>0.000000</td>\n",
       "      <td>19010</td>\n",
       "      <td>object</td>\n",
       "      <td>schools</td>\n",
       "    </tr>\n",
       "    <tr>\n",
       "      <th>School City</th>\n",
       "      <td>227</td>\n",
       "      <td>0.310989</td>\n",
       "      <td>10400</td>\n",
       "      <td>object</td>\n",
       "      <td>schools</td>\n",
       "    </tr>\n",
       "    <tr>\n",
       "      <th>School County</th>\n",
       "      <td>2</td>\n",
       "      <td>0.002740</td>\n",
       "      <td>1782</td>\n",
       "      <td>object</td>\n",
       "      <td>schools</td>\n",
       "    </tr>\n",
       "    <tr>\n",
       "      <th>School District</th>\n",
       "      <td>0</td>\n",
       "      <td>0.000000</td>\n",
       "      <td>10852</td>\n",
       "      <td>object</td>\n",
       "      <td>schools</td>\n",
       "    </tr>\n",
       "  </tbody>\n",
       "</table>\n",
       "</div>"
      ],
      "text/plain": [
       "                              NA count      NA %  # unique vals    dtype  \\\n",
       "School ID                            0  0.000000          72993   object   \n",
       "School Name                          0  0.000000          56831   object   \n",
       "School Metro Type                    0  0.000000              5   object   \n",
       "School Percentage Free Lunch      1141  1.563164            101  float64   \n",
       "School State                         0  0.000000             51   object   \n",
       "School Zip                           0  0.000000          19010   object   \n",
       "School City                        227  0.310989          10400   object   \n",
       "School County                        2  0.002740           1782   object   \n",
       "School District                      0  0.000000          10852   object   \n",
       "\n",
       "                              dataset  \n",
       "School ID                     schools  \n",
       "School Name                   schools  \n",
       "School Metro Type             schools  \n",
       "School Percentage Free Lunch  schools  \n",
       "School State                  schools  \n",
       "School Zip                    schools  \n",
       "School City                   schools  \n",
       "School County                 schools  \n",
       "School District               schools  "
      ]
     },
     "execution_count": 21,
     "metadata": {},
     "output_type": "execute_result"
    }
   ],
   "source": [
    "data_summary(schools)"
   ]
  },
  {
   "cell_type": "markdown",
   "metadata": {},
   "source": [
    "#### Teachers"
   ]
  },
  {
   "cell_type": "code",
   "execution_count": 22,
   "metadata": {},
   "outputs": [
    {
     "data": {
      "text/html": [
       "<div>\n",
       "<style scoped>\n",
       "    .dataframe tbody tr th:only-of-type {\n",
       "        vertical-align: middle;\n",
       "    }\n",
       "\n",
       "    .dataframe tbody tr th {\n",
       "        vertical-align: top;\n",
       "    }\n",
       "\n",
       "    .dataframe thead th {\n",
       "        text-align: right;\n",
       "    }\n",
       "</style>\n",
       "<table border=\"1\" class=\"dataframe\">\n",
       "  <thead>\n",
       "    <tr style=\"text-align: right;\">\n",
       "      <th></th>\n",
       "      <th>Teacher ID</th>\n",
       "      <th>Teacher Prefix</th>\n",
       "      <th>Teacher First Project Posted Date</th>\n",
       "    </tr>\n",
       "  </thead>\n",
       "  <tbody>\n",
       "    <tr>\n",
       "      <th>0</th>\n",
       "      <td>00000f7264c27ba6fea0c837ed6aa0aa</td>\n",
       "      <td>Mrs.</td>\n",
       "      <td>2013-08-21</td>\n",
       "    </tr>\n",
       "    <tr>\n",
       "      <th>1</th>\n",
       "      <td>00002d44003ed46b066607c5455a999a</td>\n",
       "      <td>Mrs.</td>\n",
       "      <td>2016-10-23</td>\n",
       "    </tr>\n",
       "  </tbody>\n",
       "</table>\n",
       "</div>"
      ],
      "text/plain": [
       "                         Teacher ID Teacher Prefix  \\\n",
       "0  00000f7264c27ba6fea0c837ed6aa0aa           Mrs.   \n",
       "1  00002d44003ed46b066607c5455a999a           Mrs.   \n",
       "\n",
       "  Teacher First Project Posted Date  \n",
       "0                        2013-08-21  \n",
       "1                        2016-10-23  "
      ]
     },
     "execution_count": 22,
     "metadata": {},
     "output_type": "execute_result"
    }
   ],
   "source": [
    "teachers.head(2)"
   ]
  },
  {
   "cell_type": "code",
   "execution_count": 23,
   "metadata": {},
   "outputs": [
    {
     "data": {
      "text/html": [
       "<div>\n",
       "<style scoped>\n",
       "    .dataframe tbody tr th:only-of-type {\n",
       "        vertical-align: middle;\n",
       "    }\n",
       "\n",
       "    .dataframe tbody tr th {\n",
       "        vertical-align: top;\n",
       "    }\n",
       "\n",
       "    .dataframe thead th {\n",
       "        text-align: right;\n",
       "    }\n",
       "</style>\n",
       "<table border=\"1\" class=\"dataframe\">\n",
       "  <thead>\n",
       "    <tr style=\"text-align: right;\">\n",
       "      <th></th>\n",
       "      <th>NA count</th>\n",
       "      <th>NA %</th>\n",
       "      <th># unique vals</th>\n",
       "      <th>dtype</th>\n",
       "      <th>dataset</th>\n",
       "    </tr>\n",
       "  </thead>\n",
       "  <tbody>\n",
       "    <tr>\n",
       "      <th>Teacher ID</th>\n",
       "      <td>0</td>\n",
       "      <td>0.00000</td>\n",
       "      <td>402900</td>\n",
       "      <td>object</td>\n",
       "      <td>teachers</td>\n",
       "    </tr>\n",
       "    <tr>\n",
       "      <th>Teacher Prefix</th>\n",
       "      <td>28</td>\n",
       "      <td>0.00695</td>\n",
       "      <td>6</td>\n",
       "      <td>object</td>\n",
       "      <td>teachers</td>\n",
       "    </tr>\n",
       "    <tr>\n",
       "      <th>Teacher First Project Posted Date</th>\n",
       "      <td>0</td>\n",
       "      <td>0.00000</td>\n",
       "      <td>4699</td>\n",
       "      <td>datetime64[ns]</td>\n",
       "      <td>teachers</td>\n",
       "    </tr>\n",
       "  </tbody>\n",
       "</table>\n",
       "</div>"
      ],
      "text/plain": [
       "                                   NA count     NA %  # unique vals  \\\n",
       "Teacher ID                                0  0.00000         402900   \n",
       "Teacher Prefix                           28  0.00695              6   \n",
       "Teacher First Project Posted Date         0  0.00000           4699   \n",
       "\n",
       "                                            dtype   dataset  \n",
       "Teacher ID                                 object  teachers  \n",
       "Teacher Prefix                             object  teachers  \n",
       "Teacher First Project Posted Date  datetime64[ns]  teachers  "
      ]
     },
     "execution_count": 23,
     "metadata": {},
     "output_type": "execute_result"
    }
   ],
   "source": [
    "data_summary(teachers)"
   ]
  },
  {
   "cell_type": "markdown",
   "metadata": {},
   "source": [
    "### <a id='4'>4. Data Cleaning: Remove rows in the datasets that cannot be mapped </a>"
   ]
  },
  {
   "cell_type": "code",
   "execution_count": 24,
   "metadata": {},
   "outputs": [],
   "source": [
    "projects = projects.loc[projects['School ID'].isin(schools['School ID'])]\n",
    "projects = projects.loc[projects['Project ID'].isin(resources['Project ID'])]\n",
    "donations = donations.loc[donations['Project ID'].isin(projects['Project ID'])]\n",
    "donations = donations.loc[donations['Donor ID'].isin(donors['Donor ID'])]\n",
    "donors = donors.loc[donors['Donor ID'].isin(donations['Donor ID'])]"
   ]
  },
  {
   "cell_type": "markdown",
   "metadata": {},
   "source": [
    "### <a id='5'>5. Feature Engineering</a>"
   ]
  },
  {
   "cell_type": "markdown",
   "metadata": {},
   "source": [
    "#### <a id='5.1'>5.1 Adding Geocoding Data using Google MAP API</a>"
   ]
  },
  {
   "cell_type": "markdown",
   "metadata": {},
   "source": [
    "#### Define function to get geocoding data from Goolge Maps API."
   ]
  },
  {
   "cell_type": "code",
   "execution_count": 25,
   "metadata": {},
   "outputs": [],
   "source": [
    "def geocode_address(addressList, key):\n",
    "    '''\n",
    "    The function takes a list of address and return a dataframe with geocoding information. \n",
    "    The most imporant column is \"fullgeocode\" which contains the output from Google Map API.\n",
    "    \n",
    "    Argument: a list of address, API key.  \n",
    "    Return: a dataframe and two files: 'mappingFinal_{}.csv, 'citiesMappingFinal_{}.pkl'\n",
    "    \n",
    "    The neighborhood, country, and state should be used with caution depending on the order of returned json results.\n",
    "    '''\n",
    "    \n",
    "    # create dataframe to store geo-coding data\n",
    "    mapping = pd.DataFrame(columns = ['address', 'latitude', 'longitude', 'neighborhood', 'county', 'state', 'fullgeocode'])\n",
    "    counter = -1\n",
    "    \n",
    "    # submit API calls and save output to mapping\n",
    "    for address in addressList:\n",
    "        \n",
    "        # save every 500 queries\n",
    "        counter+=1\n",
    "        if counter == 500:\n",
    "            now = dt.datetime.now().microsecond\n",
    "            pd.DataFrame(mapping).to_csv('mapping_{}.csv'.format(now, encoding='utf8'))\n",
    "            mapping.to_pickle('citiesMapping_{}.pkl'.format(now, encoding='utf8'))\n",
    "            counter = -1\n",
    "            print(len(mapping))\n",
    "   \n",
    "        # format query url\n",
    "        url = 'https://maps.googleapis.com/maps/api/geocode/json?address={}&key={}'.format(address, key)\n",
    "        response = requests.get(url)\n",
    "        \n",
    "        # quit loop if response code is not okay (200)\n",
    "        if response.status_code != 200:\n",
    "            # print error\n",
    "            print('error:', response.json())\n",
    "            \n",
    "            # save a copy of most recent data before break\n",
    "            now = dt.datetime.now().microsecond\n",
    "            pd.DataFrame(mapping).to_csv('mapping_{}.csv'.format(now, encoding='utf8'))\n",
    "            mapping.to_pickle('citiesMapping_{}'.format(now, encoding='utf8'))\n",
    "            \n",
    "            break\n",
    "        \n",
    "        # continue if result is okay\n",
    "        else:\n",
    "            try:\n",
    "                # extract data from json\n",
    "                address = address\n",
    "                latitude = response.json()['results'][0].get('geometry').get('location').get('lat')\n",
    "                longitude = response.json()['results'][0].get('geometry').get('location').get('lng')\n",
    "                neighborhood = response.json()['results'][0].get('address_components')[1].get('long_name')\n",
    "                county = response.json()['results'][0].get('address_components')[2].get('long_name')\n",
    "                state = response.json()['results'][0].get('address_components')[3].get('long_name')\n",
    "                fullgeocode = response.json()['results']\n",
    "            \n",
    "                # append data to dataframe\n",
    "                mapping.loc[len(mapping)] = [address, latitude, longitude, neighborhood, county, state, fullgeocode]\n",
    "        \n",
    "            except:\n",
    "                next\n",
    "    \n",
    "    # save final copy as csv file\n",
    "    now = dt.datetime.now().microsecond\n",
    "    pd.DataFrame(mapping).to_csv('mappingFinal_{}.csv'.format(now, encoding='utf8'))\n",
    "    mapping.to_pickle('citiesMappingFinal_{}.pkl'.format(now, encoding='utf8'))\n",
    "\n",
    "    return fullgeocode\n",
    "\n",
    "def geocode_zip(zipCodeList, apiKey):\n",
    "    '''\n",
    "    Input a list of zipcode and API Key and return geocoding information using Google API\n",
    "    \n",
    "    Arguments: A list of zipcodes and API key\n",
    "    Returns: a dataframe with geocoding information\n",
    "    '''\n",
    "    \n",
    "    # create dataframe to store geo-coding data\n",
    "    mapping = pd.DataFrame(columns = ['zipcode', 'latitude', 'longitude', 'neighborhood', 'county', 'state'])\n",
    "    \n",
    "    # submit API calls and save output to mapping\n",
    "    for zip in zipCodeList:\n",
    "        url = 'https://maps.googleapis.com/maps/api/geocode/json?address={}&key={}'.format(zip, apiKey)\n",
    "        response = requests.get(url)\n",
    "        zipcode = zip\n",
    "        \n",
    "        try:\n",
    "            # extract data from json\n",
    "            latitude = response.json()['results'][0].get('geometry').get('location').get('lat')\n",
    "            longitude = response.json()['results'][0].get('geometry').get('location').get('lng')\n",
    "            neighborhood = response.json()['results'][0].get('address_components')[1].get('long_name')\n",
    "            county = response.json()['results'][0].get('address_components')[2].get('long_name')\n",
    "            state = response.json()['results'][0].get('address_components')[3].get('long_name')\n",
    "            # append data to dataframe\n",
    "            mapping.loc[len(mapping)] = [zipcode, latitude, longitude, neighborhood, county, state]\n",
    "        \n",
    "        except:\n",
    "            next\n",
    "    \n",
    "    # save a copy as csv file\n",
    "    pd.DataFrame(mapping).to_csv('mapping_{}.csv'.format(dt.datetime.now().microsecond), encoding='utf8')\n",
    "    \n",
    "    return mapping\n"
   ]
  },
  {
   "cell_type": "markdown",
   "metadata": {},
   "source": [
    "#### Run function to get geocoding data for the \"donors\" and \"schools\" datasets."
   ]
  },
  {
   "cell_type": "markdown",
   "metadata": {},
   "source": [
    "Compile list of addresses to query by getting a list of cities, state for the \"donors\" and \"schools\" datasets.  Doing this hopefully will reduce the number of queries sent to the Google MAP API."
   ]
  },
  {
   "cell_type": "code",
   "execution_count": 26,
   "metadata": {},
   "outputs": [
    {
     "name": "stdout",
     "output_type": "stream",
     "text": [
      "# of cities in donor: 37937\n",
      "# of cities in schools: 15084\n",
      "# of cities for query: 40055\n"
     ]
    }
   ],
   "source": [
    "donorCities = donors['Donor City'].map(str)+', '+donors['Donor State']+', USA'\n",
    "schoolCities = schools['School City'].map(str)+', '+schools['School State']+', USA'\n",
    "cities = list(set(donorCities).union(set(schoolCities)))\n",
    "cities = sorted(cities)\n",
    "print('# of cities in donor:', len(set(donorCities)))\n",
    "print('# of cities in schools:', len(set(schoolCities)))\n",
    "print(\"# of cities for query:\", len(cities))"
   ]
  },
  {
   "cell_type": "code",
   "execution_count": 27,
   "metadata": {},
   "outputs": [],
   "source": [
    "key = 'enter key here'"
   ]
  },
  {
   "cell_type": "code",
   "execution_count": 28,
   "metadata": {},
   "outputs": [],
   "source": [
    "#mapping = geocode_address(cities, key)"
   ]
  },
  {
   "cell_type": "code",
   "execution_count": 29,
   "metadata": {},
   "outputs": [],
   "source": [
    "mapping = pd.read_csv(os.path.join(cwd, data_folder, 'mappingFinal_all.csv'))"
   ]
  },
  {
   "cell_type": "markdown",
   "metadata": {},
   "source": [
    "####  Parse city, state, country, from the fullgeocode column of the mapping file."
   ]
  },
  {
   "cell_type": "code",
   "execution_count": 30,
   "metadata": {},
   "outputs": [],
   "source": [
    "def parse_geocode(mapping):\n",
    "    mapping['add_1']= mapping['fullgeocode'].str.extract('formatted_address\\'[^\\\"]+\\\"([^\\\"]+)', expand=True)\n",
    "    mapping['add_2']= mapping['fullgeocode'].str.extract('formatted_address\\'[^\\']+\\'([^\\']+)', expand=True)\n",
    "    mapping['add_zip']= mapping['fullgeocode'].str.extract('\\w\\w\\s(\\d{5})', expand=True)\n",
    "    reg = \"long_name': '[a-zA-Z ]+', 'short_name': '([a-zA-Z ]+)', 'types': \\['administrative_area_level_1', 'political'\\]\"\n",
    "    mapping['add_state_short']= mapping['fullgeocode'].str.extract(reg, expand = True)\n",
    "    reg = \"long_name': '([a-zA-Z ]+)', 'short_name': '[a-zA-Z ]+', 'types': \\['administrative_area_level_1', 'political'\\]\"\n",
    "    mapping['add_state']= mapping['fullgeocode'].str.extract(reg, expand = True)\n",
    "    reg = \"'long_name': '([a-zA-Z ]+County)'\"\n",
    "    mapping['add_county']= mapping['fullgeocode'].str.extract(reg, expand = True)\n",
    "    reg = \"long_name': '([a-zA-Z ]+)', 'short_name': '[a-zA-Z ]+', 'types': \\['locality', 'political'\\]\"\n",
    "    mapping['add_city']= mapping['fullgeocode'].str.extract(reg, expand = True)\n",
    "    reg = \"long_name': '([a-zA-Z. ]+)', 'short_name': '[a-zA-Z ]+', 'types': \\['country', 'political'\\]\"\n",
    "    mapping['add_ctry']= mapping['fullgeocode'].str.extract(reg, expand = True)\n",
    "    \n",
    "    #### Revise the mapping file's neighborhood, coutry, state columns \n",
    "    mapping['neighborhood'] = mapping['add_city']\n",
    "    mapping['county'] = mapping['add_county']\n",
    "    mapping['state'] = mapping['add_state']\n",
    "    \n",
    "    #### Keep copy of the search City and search State\n",
    "    mapping['search_state'] = mapping['address'].str.split(', ', expand = True)[1]\n",
    "    states = list(mapping['search_state'].unique())\n",
    "    states.remove('other')\n",
    "    mapping['search_city'] = mapping['address'].str.split(',', expand = True)[0]\n",
    "    \n",
    "    return mapping"
   ]
  },
  {
   "cell_type": "code",
   "execution_count": 31,
   "metadata": {},
   "outputs": [],
   "source": [
    "mapping = parse_geocode(mapping)"
   ]
  },
  {
   "cell_type": "markdown",
   "metadata": {},
   "source": [
    "#### Flag questionable query results\n",
    "The Donor City, Donor State in the \"Donors\" dataset has many incomplete or incorrect data.   Google API will still return a result irregardless of bazaar queries.  Therefore it is important that we flag the entries where the city/state we parsed from the geocoding data does not match the \"Donor City\" ,\"Donor State\".  "
   ]
  },
  {
   "cell_type": "code",
   "execution_count": 32,
   "metadata": {},
   "outputs": [],
   "source": [
    "mapping.loc[mapping['state'] != mapping['search_state'], 'state_mismatch'] = 1\n",
    "mapping.loc[mapping['neighborhood'] != mapping['search_city'], 'city_mismatch'] = 1\n",
    "mapping.loc[(mapping['state_mismatch'].isnull()) & (mapping['city_mismatch'].isnull()), 'no_mismatch'] = 1\n",
    "mapping.loc[(mapping['state_mismatch'].notnull()) & (mapping['city_mismatch'].notnull()), 'both_mismatch'] = 1"
   ]
  },
  {
   "cell_type": "code",
   "execution_count": 33,
   "metadata": {},
   "outputs": [
    {
     "name": "stdout",
     "output_type": "stream",
     "text": [
      "No mismatches in city and state names: 58.02%\n",
      "Mismatches in city names: 27.96%\n",
      "Mismatches in state names: 21.65%\n",
      "Both city and state are mismatched: 7.63%\n"
     ]
    }
   ],
   "source": [
    "print('No mismatches in city and state names: {0:.2f}%'.format(mapping.no_mismatch.sum()/len(mapping)*100))\n",
    "print('Mismatches in city names: {0:.2f}%'.format(mapping.city_mismatch.sum()/len(mapping)*100))\n",
    "print('Mismatches in state names: {0:.2f}%'.format(mapping.state_mismatch.sum()/len(mapping)*100))\n",
    "print('Both city and state are mismatched: {0:.2f}%'.format(mapping.both_mismatch.sum()/len(mapping)*100))"
   ]
  },
  {
   "cell_type": "code",
   "execution_count": 34,
   "metadata": {},
   "outputs": [],
   "source": [
    "#mapping.to_pickle('mapping.pkl')"
   ]
  },
  {
   "cell_type": "markdown",
   "metadata": {},
   "source": [
    "#### Merge mapping data with dataframes donors and schools."
   ]
  },
  {
   "cell_type": "code",
   "execution_count": 35,
   "metadata": {},
   "outputs": [],
   "source": [
    "cols = ['address', 'latitude','longitude','neighborhood', 'county', 'state', 'state_mismatch', 'city_mismatch', 'no_mismatch', 'both_mismatch']"
   ]
  },
  {
   "cell_type": "code",
   "execution_count": 36,
   "metadata": {},
   "outputs": [],
   "source": [
    "donors['mapIndex'] = donors['Donor City'].map(str)+', '+donors['Donor State']+', USA'\n",
    "donors = donors.merge(mapping[cols], how = 'left', left_on= 'mapIndex', right_on = 'address')\n",
    "donors = donors.drop(['address'], axis=1)\n",
    "donors = donors.rename(columns = {'latitude':'Donor_Lat', 'longitude': 'Donor_Lon' })"
   ]
  },
  {
   "cell_type": "code",
   "execution_count": 37,
   "metadata": {},
   "outputs": [],
   "source": [
    "schools['mapIndex'] = schools['School City'].map(str)+', '+schools['School State']+', USA'\n",
    "schools = schools.merge(mapping[['address', 'longitude', 'latitude']], how = 'left', left_on= 'mapIndex', right_on = 'address')\n",
    "schools = schools.drop(['address'], axis=1)\n",
    "schools = schools.rename(columns = {'latitude':'School_Lat', 'longitude': 'School_Lon' })"
   ]
  },
  {
   "cell_type": "markdown",
   "metadata": {},
   "source": [
    "Previously in the \"First Look At Data\" section,  we saw that there were schools that did not have \"School City\" associated with it.  However, there were no missing Zip Codes.  We will query the missing Longitude and Latitude data using School Zip."
   ]
  },
  {
   "cell_type": "code",
   "execution_count": 38,
   "metadata": {},
   "outputs": [],
   "source": [
    "zipCodes = schools[schools['School_Lat'].isnull()]['School Zip'].unique()"
   ]
  },
  {
   "cell_type": "code",
   "execution_count": 39,
   "metadata": {},
   "outputs": [],
   "source": [
    "#zipMapping = geocode_zip(zipCodes,'API Key Here')\n",
    "#zipMapping = pd.read_csv(os.path.join(cwd, data_folder, 'zipMapping.csv'))\n",
    "\n",
    "#zipMapping.to_pickle('zipMapping.pkl') \n",
    "zipMapping = pd.read_pickle('zipMapping.pkl')\n"
   ]
  },
  {
   "cell_type": "code",
   "execution_count": 40,
   "metadata": {},
   "outputs": [],
   "source": [
    "zipMapping['zipcode'] = zipMapping['zipcode'].astype('str')\n",
    "schools['School Zip'] = schools['School Zip'].astype('str')"
   ]
  },
  {
   "cell_type": "code",
   "execution_count": 41,
   "metadata": {},
   "outputs": [],
   "source": [
    "m = schools['School_Lat'].isnull() # index for missing rows\n",
    "schools.loc[m,'School_Lat'] = schools.loc[m, 'School Zip'].map(zipMapping.set_index('zipcode').latitude)\n",
    "schools.loc[m,'School_Lon'] = schools.loc[m, 'School Zip'].map(zipMapping.set_index('zipcode').longitude)"
   ]
  },
  {
   "cell_type": "markdown",
   "metadata": {},
   "source": [
    "**Explanation of new features in Donors: <br>**\n",
    "mapIndex: the query sent to Google Map API<br>\n",
    "Don_Lat, Don_Lon: latitude and longitude from the query<br>\n",
    "neighboorhood, county, state:  parsed from the geocoding column of \"mapping\"<br>\n",
    "state_mismatch, city_mismatch, no_mismatch, both_mismatch: compare whether the parsed city/state is the same as \"Donor City\" & \"Donor State\""
   ]
  },
  {
   "cell_type": "code",
   "execution_count": 42,
   "metadata": {},
   "outputs": [],
   "source": [
    "schools.to_pickle('schools.pkl')\n",
    "donors.to_pickle('donors.pkl')\n",
    "projects.to_pickle('projects.pkl')\n",
    "donations.to_pickle('donations.pkl')\n",
    "resources.to_pickle('resources.pkl')\n",
    "teachers.to_pickle('teachers.pkl')"
   ]
  },
  {
   "cell_type": "markdown",
   "metadata": {},
   "source": [
    "### <a id='5.2'>5.2 Split Dataset according to Validation Scheme</a>"
   ]
  },
  {
   "cell_type": "markdown",
   "metadata": {},
   "source": [
    "Use data prior to 2018 to generate donor profile, and use donations in January, 2018 to check for effectiveness of the recommendation system."
   ]
  },
  {
   "cell_type": "markdown",
   "metadata": {},
   "source": [
    "#### Test set will include donors who satisfies the following conditions:\n",
    "1. Donated to more than 1 project \n",
    "2. Donated in 2018 and prior to 2018"
   ]
  },
  {
   "cell_type": "code",
   "execution_count": 43,
   "metadata": {},
   "outputs": [],
   "source": [
    "donorID_2018 = donations[donations['Donation_Received_Year'] == 2018]['Donor ID'].unique()\n",
    "donorID_prior_2018 = donations[donations['Donation_Received_Year'] < 2018]['Donor ID'].unique()\n",
    "test_ID = list(set(donorID_2018).intersection(donorID_prior_2018))\n",
    "donations_prior = donations[(donations['Donor ID'].isin(test_ID)) & (donations['Donation_Received_Year'] < 2018)]\n",
    "donations_2018 = donations[(donations['Donor ID'].isin(test_ID)) & (donations['Donation_Received_Year'] == 2018)]\n",
    "del donorID_2018, donorID_prior_2018"
   ]
  },
  {
   "cell_type": "markdown",
   "metadata": {},
   "source": [
    "### <a id='5.3'>5.3 Design Project Features Matrix and Donor Features Matrix</a>\n",
    "The Project Features Matrix will decompose a project into multiple dimensions.\n",
    "\n",
    "The Donor Features Matrix will be a feature matrix that reflects the donor's preferences.  We want to assess if donor has preference to location, project type, resource type, grade level, schools with more underpreviledged kids (measured by % of students receiving free lunch).  In addition, we will use donor's previous donation history as a part of dimensions that describes a donor.  \n",
    "\n",
    "We will take the following steps to measure donor interests according to their project preferences, location preferences, & school preferences:\n",
    "1. Devise a one-hot encoding of interest categories.  If the project falls under the interest category, it will have value of 1.\n",
    "2. Obtain the dollar amount that each donor donates to each categories.\n",
    "3. Calculate the percentage of dollar amount that goes to each category for each donor\n",
    "4. Normalize interest of each donor by subtracting out the mean of all donors in each categories."
   ]
  },
  {
   "cell_type": "markdown",
   "metadata": {},
   "source": [
    "###   <font color='purple'> Create Project Features Matrix </font>\n",
    "Create features to describe projects by one-hot encoding features from projects and schools"
   ]
  },
  {
   "cell_type": "markdown",
   "metadata": {},
   "source": [
    "##### Merge Project with School"
   ]
  },
  {
   "cell_type": "code",
   "execution_count": 44,
   "metadata": {},
   "outputs": [],
   "source": [
    "# fill NA for schools\n",
    "schools['School Percentage Free Lunch'] = schools['School Percentage Free Lunch'].fillna(schools['School Percentage Free Lunch'].median()) #61%\n",
    "projects = projects.dropna(axis = 0, subset = ['Project Subject Category Tree','Project Subject Subcategory Tree', 'Project Resource Category'])\n",
    "projects = projects.merge(schools, on = 'School ID', how = 'left')"
   ]
  },
  {
   "cell_type": "markdown",
   "metadata": {},
   "source": [
    "##### Create one-hot encoded feature matrix for the projects that uses data from the \"project\" and \"schools\" dataset"
   ]
  },
  {
   "cell_type": "code",
   "execution_count": 45,
   "metadata": {},
   "outputs": [],
   "source": [
    "cols = ['Project Type', 'School Metro Type', 'Project Grade Level Category', 'Project Resource Category']\n",
    "projFeatures_a = pd.get_dummies(projects[cols], prefix = cols)"
   ]
  },
  {
   "cell_type": "markdown",
   "metadata": {},
   "source": [
    "##### Bin the school percentage free lunch into quintiles."
   ]
  },
  {
   "cell_type": "code",
   "execution_count": 46,
   "metadata": {},
   "outputs": [],
   "source": [
    "schoolStatus = pd.qcut(projects['School Percentage Free Lunch'], 5, labels=[\"rich\", \"upper-mid\", \"mid\", \"lower-mid\", \"poor\"])\n",
    "projFeatures_b = pd.get_dummies(schoolStatus, prefix = 'lunchAid')"
   ]
  },
  {
   "cell_type": "markdown",
   "metadata": {},
   "source": [
    "##### Simplify representation of project categories"
   ]
  },
  {
   "cell_type": "markdown",
   "metadata": {},
   "source": [
    "Define a new column from the \"Projects\" datasets called \"all_subjects\" by joining 'Project Subject Category Tree' and 'Project Subject Subcategory Tree'. If the term of interest is in 'all_subjects', it will have value of 1."
   ]
  },
  {
   "cell_type": "code",
   "execution_count": 47,
   "metadata": {},
   "outputs": [
    {
     "name": "stdout",
     "output_type": "stream",
     "text": [
      "# of categories: 35\n"
     ]
    }
   ],
   "source": [
    "categories = ['Applied Learning', 'Literacy & Language', 'Special Needs',\n",
    "       'Math & Science', 'History & Civics', 'Health & Sports',\n",
    "       'Music & The Arts','Warmth, Care & Hunger']\n",
    "subCategories = ['Character Education', 'Early Development', 'ESL', 'Special Needs',\n",
    "       'Literacy', 'College & Career Prep', 'Mathematics', 'Economics',\n",
    "       'Health & Wellness', 'Environmental Science', 'Applied Sciences',\n",
    "       'Literature & Writing', 'Health & Life Science', 'Music', 'Other',\n",
    "       'Foreign Languages', 'Gym & Fitness', 'History & Geography',\n",
    "       'Civics & Government', 'Visual Arts', 'Community Service',\n",
    "       'Performing Arts', 'Social Sciences', 'Extracurricular',\n",
    "       'Team Sports', 'Nutrition Education', 'Parent Involvement',\n",
    "       'Financial Literacy', 'Warmth, Care & Hunger']\n",
    "all_cats = list(set(categories).union(set(subCategories)))\n",
    "all_cats.sort()\n",
    "#print(all_cats)\n",
    "print('# of categories:', len(all_cats))\n",
    "\n",
    "# compress the two project category into a single one\n",
    "projects['all_subjects'] = projects['Project Subject Category Tree']+', '+projects['Project Subject Subcategory Tree']\n",
    "\n",
    "# Search stream-lined category in the compressed categories\n",
    "projFeatures_c = pd.DataFrame()\n",
    "for cat in all_cats:\n",
    "    projFeatures_c['ProjCat_'+cat] = projects['all_subjects'].str.contains(cat)\n",
    "# save\n",
    "projFeatures_c = projFeatures_c.astype(np.float32)"
   ]
  },
  {
   "cell_type": "markdown",
   "metadata": {},
   "source": [
    "##### Join the project features matrices created above."
   ]
  },
  {
   "cell_type": "code",
   "execution_count": 48,
   "metadata": {},
   "outputs": [
    {
     "data": {
      "text/plain": [
       "(1109967, 71)"
      ]
     },
     "execution_count": 48,
     "metadata": {},
     "output_type": "execute_result"
    }
   ],
   "source": [
    "projFeatures =  projFeatures_a.join(projFeatures_b).join(projFeatures_c)\n",
    "projFeatures['Project ID'] = projects['Project ID']\n",
    "projFeatures.shape"
   ]
  },
  {
   "cell_type": "code",
   "execution_count": 49,
   "metadata": {},
   "outputs": [],
   "source": [
    "projFeatures.to_pickle('projFeatures.pkl') \n",
    "#projFeatures = pd.read_pickle('projFeatures.pkl')"
   ]
  },
  {
   "cell_type": "markdown",
   "metadata": {},
   "source": [
    "###   <font color='purple'> Create features to reflect Donor's preferences in school location</font> "
   ]
  },
  {
   "cell_type": "markdown",
   "metadata": {},
   "source": [
    "##### Get distance between for each donor/project pair"
   ]
  },
  {
   "cell_type": "markdown",
   "metadata": {},
   "source": [
    "Define function to calculate distance between two coordinates."
   ]
  },
  {
   "cell_type": "code",
   "execution_count": 50,
   "metadata": {},
   "outputs": [],
   "source": [
    "def distance(lat1, lat2, lon1, lon2):\n",
    "    \"\"\"\n",
    "    Calculate the Haversine distance in miles.\n",
    "    \"\"\"\n",
    "    radius = 6371  # km\n",
    "\n",
    "    dlat = radians(lat2 - lat1)\n",
    "    dlon = radians(lon2 - lon1)\n",
    "    a = (sin(dlat / 2) * sin(dlat / 2) +\n",
    "         cos(radians(lat1)) * cos(radians(lat2)) *\n",
    "         sin(dlon / 2) * sin(dlon / 2))\n",
    "    c = 2 * atan2(sqrt(a), sqrt(1 - a))\n",
    "    d = radius * c\n",
    "    d = d/1.60934 # convert to miles\n",
    "    \n",
    "    return d"
   ]
  },
  {
   "cell_type": "markdown",
   "metadata": {},
   "source": [
    "##### Calculate distance for donor-project pairs"
   ]
  },
  {
   "cell_type": "code",
   "execution_count": 51,
   "metadata": {},
   "outputs": [],
   "source": [
    "# get all the donor-project combinations\n",
    "dist = donations[['Project ID', 'Donor ID']].merge(projects[['Project ID', 'School_Lon', 'School_Lat']], on = 'Project ID', how = 'left')\n",
    "dist = dist.merge(donors[['Donor ID', 'Donor_Lat', 'Donor_Lon',  'state_mismatch', 'city_mismatch', 'no_mismatch', 'both_mismatch']], on = 'Donor ID', how = 'left')\n",
    "dist = dist.drop_duplicates(subset=['Project ID', 'Donor ID'], keep='first')\n",
    "\n",
    "# calculate distance only for pairs that have valid address\n",
    "dist = dist.loc[dist['no_mismatch'] == 1]\n",
    "\n",
    "# narrow-down calculation to distinct lon_lat pairs\n",
    "toCalc = dist.drop_duplicates(subset=['School_Lon', 'School_Lat', 'Donor_Lon', 'Donor_Lat'], keep='first')\n",
    "\n",
    "# calculate distance\n",
    "toCalc['dist'] = toCalc.apply(lambda x: distance(x['Donor_Lat'], x['School_Lat'], x['Donor_Lon'], x['School_Lon']), axis = 1)\n",
    "\n",
    "# merge back to dist\n",
    "cols = ['School_Lon', 'School_Lat', 'Donor_Lat', 'Donor_Lon', 'dist']\n",
    "cols_b = ['School_Lon', 'School_Lat', 'Donor_Lat', 'Donor_Lon']\n",
    "dist = dist.merge(toCalc.filter(items = cols), left_on = cols_b, right_on = cols_b, how = 'left')\n",
    "\n",
    "# remove rows with null distance calculation\n",
    "dist = dist[dist['dist'].notnull()]\n",
    "\n",
    "# Fill NA with 0 \n",
    "cols = ['state_mismatch', 'city_mismatch', 'no_mismatch', 'both_mismatch']\n",
    "dist.loc[:,cols] = dist.loc[:,cols].fillna(0)"
   ]
  },
  {
   "cell_type": "markdown",
   "metadata": {},
   "source": [
    "##### Bin the distance for easier interpretation of the feature matrix."
   ]
  },
  {
   "cell_type": "code",
   "execution_count": 52,
   "metadata": {},
   "outputs": [],
   "source": [
    "dist['dist_cut'] = pd.cut(dist['dist'], bins = [-1, 0, 5, 10, 20, 50, 100, 15000], labels = ['0', '1-5', '6-10', '11-20', '21-50', '51-100', '>100'])"
   ]
  },
  {
   "cell_type": "markdown",
   "metadata": {},
   "source": [
    "##### One-hot encode distance bins"
   ]
  },
  {
   "cell_type": "code",
   "execution_count": 53,
   "metadata": {},
   "outputs": [],
   "source": [
    "Dist_Avg = dist.groupby('Donor ID')['dist'].mean() # Calculate average distance by Donor ID\n",
    "distFeatures = pd.get_dummies(dist['dist_cut'], prefix = 'Dist')\n",
    "distFeatures['Project ID'] = dist['Project ID']\n",
    "distFeatures['Donor ID'] = dist['Donor ID']\n",
    "distFeatures['dist'] = dist['dist'] \n",
    "distFeatures = distFeatures.drop_duplicates(subset=['Project ID', 'Donor ID'], keep='first')"
   ]
  },
  {
   "cell_type": "code",
   "execution_count": 54,
   "metadata": {},
   "outputs": [],
   "source": [
    "dist.to_pickle('dist.pkl')\n",
    "distFeatures.to_pickle('distFeatures.pkl') \n",
    "#Dist_Avg.to_pickle('Dist_Avg.pkl') "
   ]
  },
  {
   "cell_type": "code",
   "execution_count": 55,
   "metadata": {},
   "outputs": [],
   "source": [
    "#dist = pd.read_pickle('dist.pkl')\n",
    "#distFeatures = pd.read_pickle('distFeatures.pkl')\n",
    "#Dist_Avg = pd.read_pickle('Dist_Avg.pkl')"
   ]
  },
  {
   "cell_type": "markdown",
   "metadata": {},
   "source": [
    "###   <font color='purple'> Create features to reflect donor's previous donation history</font> "
   ]
  },
  {
   "cell_type": "markdown",
   "metadata": {},
   "source": [
    "Features are added to reflect the donor's previous donation history:\n",
    "1. Obtain number of projects, # of donations, and the max cart number for each donor\n",
    "2. Summarize donation amount per donor (mean, median, sum, std)\n",
    "3. Count the number of schools and number of teachers that a donor donated to\n",
    "4. Design feature to capture the concentration of donation to schools.  <br>\n",
    "This feature calculates the ratio between the maximum donation to a single school by total donation made by the donor.  A donor who have strong favoritism towards one school will have a higher ratio. <br>\n",
    "Formula: max(donation grouped by school)/ total(donations made by donor)\n",
    "5. Design feature to capture the concentration of donation to a teacher. <br>\n",
    "This feature follows same reasoning as schools.  <br>\n",
    "Formula: max(donation grouped by teacher)/ total(donations made by donor\n",
    "6. Calculate the mean of \"School % Free Lunch\" that a donor donates to.  This feature caputures inclination for donating to either poor or rich schools.\n",
    "7.  Calculate set of statistics for the distances between the donor's city v.s. the schools that the donor donates to including mean, median, std, min, max)\n"
   ]
  },
  {
   "cell_type": "code",
   "execution_count": 56,
   "metadata": {},
   "outputs": [],
   "source": [
    "def donor_summary(donations, projects, dist):\n",
    "    ''' \n",
    "    Generate features to refelect donor's previous donation history:\n",
    "    'num_proj', 'num_donation', 'num_cart', 'donation_median',\n",
    "    'donation_mean', 'donation_sum', 'donation_std', 'School ID_count',\n",
    "    'Teacher ID_count', 'schoolConcentration', 'TeacherConcentration',\n",
    "    'lunchAid_Avg', 'Dist_median', 'Dist_mean', 'Dist_std', 'Dist_min',\n",
    "    'Dist_max', 'Dist_Unknown'\n",
    "    '''\n",
    "    donations = donations.set_index('Donor ID', drop = False)\n",
    "    donorSummary = pd.DataFrame(donations['Donor ID']).drop_duplicates(keep = 'first') \n",
    "    \n",
    "    #### Obtain number of projects, # of donations, and the max cart number for each  donor\n",
    "    countProj = donations.groupby(donations.index).agg({'Project ID':'nunique','Donor Cart Sequence':'max', 'Donation ID':'count'})\n",
    "    countProj.columns = ['num_proj', 'num_donation','num_cart']\n",
    "    donorSummary  = donorSummary.merge(countProj, left_index = True,  right_index=True, how = 'left')\n",
    "    \n",
    "    #### Summarize donation amount per donor (mean, median, etc)\n",
    "    donAmt = donations.loc[:,'Donation Amount'].groupby([donations.index]).agg(['median','mean','sum', 'std'])\n",
    "    donAmt.columns = 'donation_' + donAmt.columns\n",
    "    donorSummary  = donorSummary.merge(donAmt, left_index = True,  right_index=True, how = 'left')\n",
    "    \n",
    "    #### Count # of schools and # of teachers that a donor donates to\n",
    "    school_teacher = donations[['Project ID', 'Donation Amount', 'Donor ID']].merge(projects[['Project ID', 'School ID', 'Teacher ID']], left_on = 'Project ID', right_on = 'Project ID', how = 'left')\n",
    "    concentration = school_teacher.groupby('Donor ID').agg({'School ID':'nunique', 'Teacher ID':'nunique'})\n",
    "    concentration.columns = concentration.columns + '_count'\n",
    "    donorSummary  = donorSummary.merge(concentration, left_index = True,  right_index=True, how = 'left')\n",
    "    \n",
    "    #### Design feature to capture the concentration of donation to schools.\n",
    "    #### feature that captures doners that donates to multiple schools, and not just have one favorite school\n",
    "    schoolSum = school_teacher.groupby(['Donor ID', 'School ID'])['Donation Amount'].sum().reset_index(drop = False)\n",
    "    schoolSum = schoolSum.groupby(['Donor ID'])['Donation Amount'].agg(['sum', 'max'])\n",
    "    schoolSum['SchoolConcentration'] = schoolSum['max']/schoolSum['sum']\n",
    "    donorSummary['schoolConcentration'] = schoolSum['SchoolConcentration']\n",
    "    \n",
    "    #### Design feature to capture the concentration of donation to a teacher.  \n",
    "    TeacherSum = school_teacher.groupby(['Donor ID', 'Teacher ID'])['Donation Amount'].sum().reset_index(drop = False)\n",
    "    TeacherSum = TeacherSum.groupby(['Donor ID'])['Donation Amount'].agg(['sum', 'max'])\n",
    "    TeacherSum['TeacherConcentration'] = TeacherSum['max']/TeacherSum['sum']\n",
    "    donorSummary['TeacherConcentration'] = TeacherSum['TeacherConcentration']\n",
    "    \n",
    "    #### Calculate the Average School % Free Lunch of the schools that a donor donates to\n",
    "    lunchAid_Avg = donations[['Project ID', 'Donor ID']].merge(projects[['Project ID', 'School Percentage Free Lunch']], on = 'Project ID', how = 'left')\n",
    "    lunchAid_Avg['School Percentage Free Lunch'] = lunchAid_Avg ['School Percentage Free Lunch'].fillna(lunchAid_Avg['School Percentage Free Lunch'].median()) \n",
    "    lunchAid_Avg = lunchAid_Avg.drop_duplicates(subset=['Project ID', 'Donor ID'], keep='first')\n",
    "    lunchAid_Avg = lunchAid_Avg.groupby('Donor ID').mean()\n",
    "    donorSummary = donorSummary.merge(lunchAid_Avg, left_index = True,  right_index=True, how = 'left')\n",
    "    donorSummary = donorSummary.rename(columns = {'School Percentage Free Lunch':'lunchAid_Avg'})\n",
    "    \n",
    "    #### Merge with Average Distance that a Donor Donates to\n",
    "    dist = dist.set_index(['Donor ID', 'Project ID'])\n",
    "    donations = donations.set_index(['Donor ID', 'Project ID'])\n",
    "    donations = donations.merge(dist.filter(items = ['dist']), left_index = True, right_index = True, how = 'left')\n",
    "    donations = donations.reset_index()\n",
    "    \n",
    "    distSummary = donations.groupby('Donor ID')['dist'].agg(['median', 'mean', 'std', 'min','max'])\n",
    "    distSummary.columns = ['Dist_median', 'Dist_mean','Dist_std','Dist_min', 'Dist_max']\n",
    "    donorSummary  = donorSummary.merge(distSummary, left_index = True,  right_index = True , how = 'left')\n",
    "    \n",
    "    donorSummary['Dist_Unknown'] = donorSummary['Dist_median'].isnull() # Flag rows with missing average distance\n",
    "    donorSummary['Dist_median']  = donorSummary['Dist_median'].fillna(donorSummary['Dist_median'].median()) \n",
    "    donorSummary['Dist_mean']  = donorSummary['Dist_mean'].fillna(donorSummary['Dist_mean'].median()) \n",
    "    donorSummary['Dist_std']  = donorSummary['Dist_std'].fillna(donorSummary['Dist_std'].median()) \n",
    "    donorSummary['Dist_min']  = donorSummary['Dist_min'].fillna(donorSummary['Dist_min'].median()) \n",
    "    donorSummary['Dist_max']  = donorSummary['Dist_max'].fillna(donorSummary['Dist_max'].median()) \n",
    "    \n",
    "    return donorSummary"
   ]
  },
  {
   "cell_type": "code",
   "execution_count": 57,
   "metadata": {},
   "outputs": [],
   "source": [
    "donorSummary = donor_summary(donations_prior, projects, dist)"
   ]
  },
  {
   "cell_type": "code",
   "execution_count": 58,
   "metadata": {},
   "outputs": [],
   "source": [
    "donorSummary.to_pickle('donorSummary.pkl')"
   ]
  },
  {
   "cell_type": "code",
   "execution_count": 59,
   "metadata": {},
   "outputs": [],
   "source": [
    "#donorSummary = pd.read_pickle('donorSummary.pkl')"
   ]
  },
  {
   "cell_type": "markdown",
   "metadata": {},
   "source": [
    "###   <font color='purple'> Weigh the preferences of the donors</font> "
   ]
  },
  {
   "cell_type": "code",
   "execution_count": 60,
   "metadata": {},
   "outputs": [],
   "source": [
    "def donor_interest(donations, projFeatures, distFeatures):\n",
    "    ####  Obtain the dollar amount that each donor donates to each project features\n",
    "    \n",
    "    #### Sum $ amount of donor's donation to each project\n",
    "    donor_sum = donations[['Donor ID','Project ID','Donation Amount']].groupby(['Donor ID','Project ID'])['Donation Amount'].agg('sum')\n",
    "    donor_sum = pd.DataFrame(data = donor_sum).reset_index()\n",
    "    donor_sum = donor_sum.sort_values(by = 'Donor ID')\n",
    "    \n",
    "    ##### Merge donor_sum dataset with the projectFeatures dataset.\n",
    "    allFeatures = donor_sum.merge(projFeatures, on = 'Project ID', how='left')\n",
    "    \n",
    "    #### Many donors donate to projects that are not in the projectFeatures.  Delete those rows from analysis.\n",
    "    allFeatures = allFeatures.dropna(subset = ['Project Type_Professional Development'])\n",
    "    \n",
    "    ##### Add distFeatures to allFeatures.\n",
    "    allFeatures = allFeatures.merge(distFeatures, on = ['Project ID', 'Donor ID'], how='left')\n",
    "    \n",
    "    # Fill missing distance data.\n",
    "    # Spreadout between Dist 0 and 20 since about half of the donations are under 20 miles.\n",
    "    allFeatures.loc[allFeatures['Dist_0'].isnull(),'Dist_0'] = 0.56\n",
    "    allFeatures.loc[allFeatures['Dist_1-5'].isnull(),'Dist_1-5'] = 0.08\n",
    "    allFeatures.loc[allFeatures['Dist_6-10'].isnull(),'Dist_6-10'] = 0.16\n",
    "    allFeatures.loc[allFeatures['Dist_11-20'].isnull(),'Dist_11-20'] = 0.20\n",
    "    allFeatures.loc[allFeatures['Dist_21-50'].isnull(),'Dist_21-50'] = 0\n",
    "    allFeatures.loc[allFeatures['Dist_51-100'].isnull(),'Dist_51-100'] = 0\n",
    "    allFeatures.loc[allFeatures['Dist_>100'].isnull(),'Dist_>100'] = 0\n",
    "    \n",
    "    ##### Multiply donation amount to each of the one-hot encoded categories for each donor.  \n",
    "    x = allFeatures['Donation Amount']\n",
    "    x = x.values.reshape(len(allFeatures), 1)  # reshape from (dim,) to (dim,1) for matrix multiplication (broadcasting)\n",
    "    y = allFeatures.iloc[:,3:]\n",
    "    donorInterest = np.multiply(x, y)\n",
    "    donorInterest['Donor ID'] = allFeatures['Donor ID']\n",
    "    \n",
    "    ##### Get total amount of donation per donor\n",
    "    #The ultimate goal is to get % of dollar breakdown invested in each broader catogry \n",
    "    #(Project Type, School Metro, Project Grade, etc).  Not all projects in the donations \n",
    "    #dataset are in the projects dataset, so some rows show all 0 (see index 5 below).  \n",
    "    #Since there are no null values in Project Type, every known projects will have Project Type value, \n",
    "    #to get total donation per donor that is in the project list, we will sum the columns Project Type.  \n",
    "    \n",
    "    donorTotal = donorInterest['Project Type_Professional Development'] + donorInterest['Project Type_Student-Led'] + donorInterest['Project Type_Teacher-Led']\n",
    "    donorTotal.index = donorInterest['Donor ID']\n",
    "    donorTotal = donorTotal.groupby('Donor ID').sum()\n",
    "    \n",
    "    ##### Get total amount of donation per feature per donor\n",
    "    donorInterest = donorInterest.groupby('Donor ID').sum()\n",
    "    \n",
    "    #### Step 3: Calculate the percentage of dollar amount that goes to each category for each donor\n",
    "    donorInterest = donorInterest.div(donorTotal, axis=0)\n",
    "    \n",
    "    return donorInterest"
   ]
  },
  {
   "cell_type": "code",
   "execution_count": 61,
   "metadata": {},
   "outputs": [],
   "source": [
    "donorInterest = donor_interest(donations_prior, projFeatures, distFeatures)"
   ]
  },
  {
   "cell_type": "code",
   "execution_count": 62,
   "metadata": {},
   "outputs": [],
   "source": [
    "donorInterest.to_pickle('donorInterest.pkl')"
   ]
  },
  {
   "cell_type": "code",
   "execution_count": 63,
   "metadata": {},
   "outputs": [],
   "source": [
    "#donorInterest = pd.read_pickle('donorInterest.pkl')"
   ]
  },
  {
   "cell_type": "markdown",
   "metadata": {},
   "source": [
    "###   <font color='purple'> Finish creating Donor Feature Matrix </font> \n",
    "#### Merge Donor Interest (categorical attributes) with Donor Summary (donation history)"
   ]
  },
  {
   "cell_type": "code",
   "execution_count": 64,
   "metadata": {},
   "outputs": [],
   "source": [
    "def Get_donorFeatureMatrixNoAdj(donorInterest, donorSummary):\n",
    "    '''\n",
    "    Merge donorInterest with donorSummary\n",
    "    '''\n",
    "    donorFeatureMatrix = donorInterest.merge(donorSummary, left_index = True, right_index = True, how = 'left')\n",
    "    donorFeatureMatrix.loc[donorFeatureMatrix['donation_std'].isnull(), 'donation_std'] = 0 # set standard deviation of the single donation donors to 0\n",
    "    \n",
    "    return donorFeatureMatrix"
   ]
  },
  {
   "cell_type": "code",
   "execution_count": 65,
   "metadata": {},
   "outputs": [],
   "source": [
    "donorFeatureMatrixNoAdj = Get_donorFeatureMatrixNoAdj(donorInterest, donorSummary)"
   ]
  },
  {
   "cell_type": "code",
   "execution_count": 66,
   "metadata": {},
   "outputs": [],
   "source": [
    "donorFeatureMatrixNoAdj.to_pickle('donorFeatureMatrixNoAdj.pkl') # save a copy before any adjustments"
   ]
  },
  {
   "cell_type": "markdown",
   "metadata": {},
   "source": [
    "### <a id='5.4'>5.4 Scale Donor Feature Matrix</a>"
   ]
  },
  {
   "cell_type": "markdown",
   "metadata": {},
   "source": [
    "We will scale the donor feature matrix by subtracting out the mean preferences of all the donors from each donor for features related to projects (Project Type, grade, school metro type, etc): <br>\n",
    "Formula: individual donor preference - mean(all donor's preferences)\n",
    "\n",
    "For the dimensions related to donor's previous donation history (number of projects, number of donations, school concentration,  mean distance of donations, etc) we will scale by calculate the percentile ranking."
   ]
  },
  {
   "cell_type": "code",
   "execution_count": 67,
   "metadata": {},
   "outputs": [],
   "source": [
    "def scaleFeatureMatrix(donorFeatureMatrix):\n",
    "    '''\n",
    "    Measure preference of each donor by subtracting the mean\n",
    "    Arguments: donorFeatureMatrix\n",
    "    '''\n",
    "    donorFeatureMatrix = donorFeatureMatrix.drop(['Donor ID'], axis=1)\n",
    "    \n",
    "    ### Subtract each column by mean\n",
    "    donorMeanMatrix = (donorFeatureMatrix.loc[:,'Project Type_Professional Development': 'Dist_>100']).mean(axis = 0)\n",
    "    donorFeatureMatrix.loc[:,'Project Type_Professional Development': 'Dist_>100'] = donorFeatureMatrix.loc[:,'Project Type_Professional Development': 'Dist_>100'] - donorMeanMatrix # make sure matrix does not include Donor ID, otherwise pandas try to convert string to float, (set Donor ID as index) (set Donor ID as index)\n",
    "    \n",
    "    #### Add Percentile Calculation\n",
    "    cols =  ['num_proj', 'num_donation', 'num_cart', 'donation_median',\n",
    "       'donation_mean', 'donation_sum', 'donation_std', 'School ID_count',\n",
    "       'Teacher ID_count', 'schoolConcentration', 'TeacherConcentration',\n",
    "       'lunchAid_Avg', 'Dist_median', 'Dist_mean', 'Dist_std', 'Dist_min',\n",
    "       'Dist_max']\n",
    "    \n",
    "    donorPercentRank = ((donorFeatureMatrix.loc[:,cols]).rank(ascending = True))/len(donorFeatureMatrix)\n",
    "    donorPercentRank.columns = 'Percentile_' + donorPercentRank.columns\n",
    "    donorFeatureMatrix = donorFeatureMatrix.merge(donorPercentRank, left_index = True, right_index = True, how = 'left')\n",
    "    donorFeatureMatrix = donorFeatureMatrix.drop(cols, axis=1)\n",
    "    \n",
    "    return donorFeatureMatrix"
   ]
  },
  {
   "cell_type": "code",
   "execution_count": 68,
   "metadata": {},
   "outputs": [],
   "source": [
    "donorFeatureMatrix = scaleFeatureMatrix(donorFeatureMatrixNoAdj)"
   ]
  },
  {
   "cell_type": "code",
   "execution_count": 69,
   "metadata": {},
   "outputs": [],
   "source": [
    "donorFeatureMatrix.to_pickle('donorFeatureMatrix.pkl') # with percentile "
   ]
  },
  {
   "cell_type": "code",
   "execution_count": 70,
   "metadata": {},
   "outputs": [],
   "source": [
    "#donorFeatureMatrix = pd.read_pickle('donorFeatureMatrix.pkl')"
   ]
  },
  {
   "cell_type": "markdown",
   "metadata": {},
   "source": [
    "### <a id='6'>6. Review the New Features </a>"
   ]
  },
  {
   "cell_type": "code",
   "execution_count": 71,
   "metadata": {},
   "outputs": [
    {
     "data": {
      "text/plain": [
       "(81782, 96)"
      ]
     },
     "execution_count": 71,
     "metadata": {},
     "output_type": "execute_result"
    }
   ],
   "source": [
    "donorFeatureMatrix.shape"
   ]
  },
  {
   "cell_type": "code",
   "execution_count": 72,
   "metadata": {},
   "outputs": [
    {
     "data": {
      "text/plain": [
       "Index(['Project Type_Professional Development', 'Project Type_Student-Led',\n",
       "       'Project Type_Teacher-Led', 'School Metro Type_rural',\n",
       "       'School Metro Type_suburban', 'School Metro Type_town',\n",
       "       'School Metro Type_unknown', 'School Metro Type_urban',\n",
       "       'Project Grade Level Category_Grades 3-5',\n",
       "       'Project Grade Level Category_Grades 6-8',\n",
       "       'Project Grade Level Category_Grades 9-12',\n",
       "       'Project Grade Level Category_Grades PreK-2',\n",
       "       'Project Grade Level Category_unknown',\n",
       "       'Project Resource Category_Art Supplies',\n",
       "       'Project Resource Category_Books',\n",
       "       'Project Resource Category_Classroom Basics',\n",
       "       'Project Resource Category_Computers & Tablets',\n",
       "       'Project Resource Category_Educational Kits & Games',\n",
       "       'Project Resource Category_Flexible Seating',\n",
       "       'Project Resource Category_Food, Clothing & Hygiene',\n",
       "       'Project Resource Category_Instructional Technology',\n",
       "       'Project Resource Category_Lab Equipment',\n",
       "       'Project Resource Category_Musical Instruments',\n",
       "       'Project Resource Category_Other',\n",
       "       'Project Resource Category_Reading Nooks, Desks & Storage',\n",
       "       'Project Resource Category_Sports & Exercise Equipment',\n",
       "       'Project Resource Category_Supplies',\n",
       "       'Project Resource Category_Technology',\n",
       "       'Project Resource Category_Trips', 'Project Resource Category_Visitors',\n",
       "       'lunchAid_rich', 'lunchAid_upper-mid', 'lunchAid_mid',\n",
       "       'lunchAid_lower-mid', 'lunchAid_poor', 'ProjCat_Applied Learning',\n",
       "       'ProjCat_Applied Sciences', 'ProjCat_Character Education',\n",
       "       'ProjCat_Civics & Government', 'ProjCat_College & Career Prep',\n",
       "       'ProjCat_Community Service', 'ProjCat_ESL', 'ProjCat_Early Development',\n",
       "       'ProjCat_Economics', 'ProjCat_Environmental Science',\n",
       "       'ProjCat_Extracurricular', 'ProjCat_Financial Literacy',\n",
       "       'ProjCat_Foreign Languages', 'ProjCat_Gym & Fitness',\n",
       "       'ProjCat_Health & Life Science', 'ProjCat_Health & Sports',\n",
       "       'ProjCat_Health & Wellness', 'ProjCat_History & Civics',\n",
       "       'ProjCat_History & Geography', 'ProjCat_Literacy',\n",
       "       'ProjCat_Literacy & Language', 'ProjCat_Literature & Writing',\n",
       "       'ProjCat_Math & Science', 'ProjCat_Mathematics', 'ProjCat_Music',\n",
       "       'ProjCat_Music & The Arts', 'ProjCat_Nutrition Education',\n",
       "       'ProjCat_Other', 'ProjCat_Parent Involvement',\n",
       "       'ProjCat_Performing Arts', 'ProjCat_Social Sciences',\n",
       "       'ProjCat_Special Needs', 'ProjCat_Team Sports', 'ProjCat_Visual Arts',\n",
       "       'ProjCat_Warmth, Care & Hunger', 'Dist_0', 'Dist_1-5', 'Dist_6-10',\n",
       "       'Dist_11-20', 'Dist_21-50', 'Dist_51-100', 'Dist_>100', 'dist',\n",
       "       'Dist_Unknown', 'Percentile_num_proj', 'Percentile_num_donation',\n",
       "       'Percentile_num_cart', 'Percentile_donation_median',\n",
       "       'Percentile_donation_mean', 'Percentile_donation_sum',\n",
       "       'Percentile_donation_std', 'Percentile_School ID_count',\n",
       "       'Percentile_Teacher ID_count', 'Percentile_schoolConcentration',\n",
       "       'Percentile_TeacherConcentration', 'Percentile_lunchAid_Avg',\n",
       "       'Percentile_Dist_median', 'Percentile_Dist_mean', 'Percentile_Dist_std',\n",
       "       'Percentile_Dist_min', 'Percentile_Dist_max'],\n",
       "      dtype='object')"
      ]
     },
     "execution_count": 72,
     "metadata": {},
     "output_type": "execute_result"
    }
   ],
   "source": [
    "donorFeatureMatrix.columns"
   ]
  },
  {
   "cell_type": "code",
   "execution_count": 73,
   "metadata": {},
   "outputs": [
    {
     "data": {
      "text/plain": [
       "(1109967, 71)"
      ]
     },
     "execution_count": 73,
     "metadata": {},
     "output_type": "execute_result"
    }
   ],
   "source": [
    "projFeatures.shape"
   ]
  },
  {
   "cell_type": "code",
   "execution_count": 74,
   "metadata": {},
   "outputs": [
    {
     "data": {
      "text/plain": [
       "Index(['Project Type_Professional Development', 'Project Type_Student-Led',\n",
       "       'Project Type_Teacher-Led', 'School Metro Type_rural',\n",
       "       'School Metro Type_suburban', 'School Metro Type_town',\n",
       "       'School Metro Type_unknown', 'School Metro Type_urban',\n",
       "       'Project Grade Level Category_Grades 3-5',\n",
       "       'Project Grade Level Category_Grades 6-8',\n",
       "       'Project Grade Level Category_Grades 9-12',\n",
       "       'Project Grade Level Category_Grades PreK-2',\n",
       "       'Project Grade Level Category_unknown',\n",
       "       'Project Resource Category_Art Supplies',\n",
       "       'Project Resource Category_Books',\n",
       "       'Project Resource Category_Classroom Basics',\n",
       "       'Project Resource Category_Computers & Tablets',\n",
       "       'Project Resource Category_Educational Kits & Games',\n",
       "       'Project Resource Category_Flexible Seating',\n",
       "       'Project Resource Category_Food, Clothing & Hygiene',\n",
       "       'Project Resource Category_Instructional Technology',\n",
       "       'Project Resource Category_Lab Equipment',\n",
       "       'Project Resource Category_Musical Instruments',\n",
       "       'Project Resource Category_Other',\n",
       "       'Project Resource Category_Reading Nooks, Desks & Storage',\n",
       "       'Project Resource Category_Sports & Exercise Equipment',\n",
       "       'Project Resource Category_Supplies',\n",
       "       'Project Resource Category_Technology',\n",
       "       'Project Resource Category_Trips', 'Project Resource Category_Visitors',\n",
       "       'lunchAid_rich', 'lunchAid_upper-mid', 'lunchAid_mid',\n",
       "       'lunchAid_lower-mid', 'lunchAid_poor', 'ProjCat_Applied Learning',\n",
       "       'ProjCat_Applied Sciences', 'ProjCat_Character Education',\n",
       "       'ProjCat_Civics & Government', 'ProjCat_College & Career Prep',\n",
       "       'ProjCat_Community Service', 'ProjCat_ESL', 'ProjCat_Early Development',\n",
       "       'ProjCat_Economics', 'ProjCat_Environmental Science',\n",
       "       'ProjCat_Extracurricular', 'ProjCat_Financial Literacy',\n",
       "       'ProjCat_Foreign Languages', 'ProjCat_Gym & Fitness',\n",
       "       'ProjCat_Health & Life Science', 'ProjCat_Health & Sports',\n",
       "       'ProjCat_Health & Wellness', 'ProjCat_History & Civics',\n",
       "       'ProjCat_History & Geography', 'ProjCat_Literacy',\n",
       "       'ProjCat_Literacy & Language', 'ProjCat_Literature & Writing',\n",
       "       'ProjCat_Math & Science', 'ProjCat_Mathematics', 'ProjCat_Music',\n",
       "       'ProjCat_Music & The Arts', 'ProjCat_Nutrition Education',\n",
       "       'ProjCat_Other', 'ProjCat_Parent Involvement',\n",
       "       'ProjCat_Performing Arts', 'ProjCat_Social Sciences',\n",
       "       'ProjCat_Special Needs', 'ProjCat_Team Sports', 'ProjCat_Visual Arts',\n",
       "       'ProjCat_Warmth, Care & Hunger', 'Project ID'],\n",
       "      dtype='object')"
      ]
     },
     "execution_count": 74,
     "metadata": {},
     "output_type": "execute_result"
    }
   ],
   "source": [
    "projFeatures.columns"
   ]
  }
 ],
 "metadata": {
  "kernelspec": {
   "display_name": "Python 3",
   "language": "python",
   "name": "python3"
  },
  "language_info": {
   "codemirror_mode": {
    "name": "ipython",
    "version": 3
   },
   "file_extension": ".py",
   "mimetype": "text/x-python",
   "name": "python",
   "nbconvert_exporter": "python",
   "pygments_lexer": "ipython3",
   "version": "3.5.4"
  }
 },
 "nbformat": 4,
 "nbformat_minor": 2
}
